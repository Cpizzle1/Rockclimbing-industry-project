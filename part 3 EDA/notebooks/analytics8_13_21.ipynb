{
 "cells": [
  {
   "cell_type": "code",
   "execution_count": 4,
   "metadata": {},
   "outputs": [],
   "source": [
    "import sqlite3\n",
    "import pandas as pd\n",
    "import numpy as np\n",
    "import selenium \n",
    "import psycopg2\n",
    "import sys \n",
    "import matplotlib.pyplot as plt"
   ]
  },
  {
   "cell_type": "code",
   "execution_count": 5,
   "metadata": {},
   "outputs": [],
   "source": [
    "db_conn = sqlite3.connect('database2.sqlite')"
   ]
  },
  {
   "cell_type": "code",
   "execution_count": 6,
   "metadata": {},
   "outputs": [],
   "source": [
    "theCursor = db_conn.cursor()"
   ]
  },
  {
   "cell_type": "code",
   "execution_count": 7,
   "metadata": {},
   "outputs": [],
   "source": [
    "query = theCursor.execute('select * from ascent;') "
   ]
  },
  {
   "cell_type": "code",
   "execution_count": 8,
   "metadata": {},
   "outputs": [],
   "source": [
    "cols = [column[0] for column in query.description]\n",
    "results= pd.DataFrame.from_records(data = query.fetchall(), columns = cols)"
   ]
  },
  {
   "cell_type": "code",
   "execution_count": 9,
   "metadata": {},
   "outputs": [
    {
     "data": {
      "text/plain": [
       "(4111877, 28)"
      ]
     },
     "execution_count": 9,
     "metadata": {},
     "output_type": "execute_result"
    }
   ],
   "source": [
    "results.shape"
   ]
  },
  {
   "cell_type": "code",
   "execution_count": 10,
   "metadata": {},
   "outputs": [
    {
     "data": {
      "text/html": [
       "<div>\n",
       "<style scoped>\n",
       "    .dataframe tbody tr th:only-of-type {\n",
       "        vertical-align: middle;\n",
       "    }\n",
       "\n",
       "    .dataframe tbody tr th {\n",
       "        vertical-align: top;\n",
       "    }\n",
       "\n",
       "    .dataframe thead th {\n",
       "        text-align: right;\n",
       "    }\n",
       "</style>\n",
       "<table border=\"1\" class=\"dataframe\">\n",
       "  <thead>\n",
       "    <tr style=\"text-align: right;\">\n",
       "      <th></th>\n",
       "      <th>id</th>\n",
       "      <th>user_id</th>\n",
       "      <th>grade_id</th>\n",
       "      <th>notes</th>\n",
       "      <th>raw_notes</th>\n",
       "      <th>method_id</th>\n",
       "      <th>climb_type</th>\n",
       "      <th>total_score</th>\n",
       "      <th>date</th>\n",
       "      <th>year</th>\n",
       "      <th>...</th>\n",
       "      <th>country</th>\n",
       "      <th>comment</th>\n",
       "      <th>rating</th>\n",
       "      <th>description</th>\n",
       "      <th>yellow_id</th>\n",
       "      <th>climb_try</th>\n",
       "      <th>repeat</th>\n",
       "      <th>exclude_from_ranking</th>\n",
       "      <th>user_recommended</th>\n",
       "      <th>chipped</th>\n",
       "    </tr>\n",
       "  </thead>\n",
       "  <tbody>\n",
       "    <tr>\n",
       "      <th>0</th>\n",
       "      <td>2</td>\n",
       "      <td>1</td>\n",
       "      <td>36</td>\n",
       "      <td></td>\n",
       "      <td>0</td>\n",
       "      <td>3</td>\n",
       "      <td>0</td>\n",
       "      <td>545</td>\n",
       "      <td>918342000</td>\n",
       "      <td>1999</td>\n",
       "      <td>...</td>\n",
       "      <td>THA</td>\n",
       "      <td>Thailand\\n</td>\n",
       "      <td>0</td>\n",
       "      <td></td>\n",
       "      <td>255</td>\n",
       "      <td>0</td>\n",
       "      <td>0</td>\n",
       "      <td>0</td>\n",
       "      <td>0</td>\n",
       "      <td>0</td>\n",
       "    </tr>\n",
       "    <tr>\n",
       "      <th>1</th>\n",
       "      <td>3</td>\n",
       "      <td>1</td>\n",
       "      <td>36</td>\n",
       "      <td></td>\n",
       "      <td>0</td>\n",
       "      <td>3</td>\n",
       "      <td>0</td>\n",
       "      <td>545</td>\n",
       "      <td>925509600</td>\n",
       "      <td>1999</td>\n",
       "      <td>...</td>\n",
       "      <td></td>\n",
       "      <td>\\n</td>\n",
       "      <td>0</td>\n",
       "      <td></td>\n",
       "      <td>0</td>\n",
       "      <td>0</td>\n",
       "      <td>0</td>\n",
       "      <td>0</td>\n",
       "      <td>0</td>\n",
       "      <td>0</td>\n",
       "    </tr>\n",
       "    <tr>\n",
       "      <th>2</th>\n",
       "      <td>4</td>\n",
       "      <td>1</td>\n",
       "      <td>36</td>\n",
       "      <td></td>\n",
       "      <td>0</td>\n",
       "      <td>3</td>\n",
       "      <td>0</td>\n",
       "      <td>545</td>\n",
       "      <td>933026400</td>\n",
       "      <td>1999</td>\n",
       "      <td>...</td>\n",
       "      <td>SWE</td>\n",
       "      <td>\\n</td>\n",
       "      <td>0</td>\n",
       "      <td></td>\n",
       "      <td>255</td>\n",
       "      <td>0</td>\n",
       "      <td>0</td>\n",
       "      <td>0</td>\n",
       "      <td>0</td>\n",
       "      <td>0</td>\n",
       "    </tr>\n",
       "    <tr>\n",
       "      <th>3</th>\n",
       "      <td>5</td>\n",
       "      <td>1</td>\n",
       "      <td>36</td>\n",
       "      <td></td>\n",
       "      <td>0</td>\n",
       "      <td>3</td>\n",
       "      <td>0</td>\n",
       "      <td>545</td>\n",
       "      <td>933026400</td>\n",
       "      <td>1999</td>\n",
       "      <td>...</td>\n",
       "      <td>SWE</td>\n",
       "      <td>\\n</td>\n",
       "      <td>0</td>\n",
       "      <td></td>\n",
       "      <td>255</td>\n",
       "      <td>0</td>\n",
       "      <td>0</td>\n",
       "      <td>0</td>\n",
       "      <td>0</td>\n",
       "      <td>0</td>\n",
       "    </tr>\n",
       "    <tr>\n",
       "      <th>4</th>\n",
       "      <td>6</td>\n",
       "      <td>1</td>\n",
       "      <td>36</td>\n",
       "      <td></td>\n",
       "      <td>0</td>\n",
       "      <td>3</td>\n",
       "      <td>0</td>\n",
       "      <td>545</td>\n",
       "      <td>933458400</td>\n",
       "      <td>1999</td>\n",
       "      <td>...</td>\n",
       "      <td></td>\n",
       "      <td>\\n</td>\n",
       "      <td>0</td>\n",
       "      <td></td>\n",
       "      <td>0</td>\n",
       "      <td>0</td>\n",
       "      <td>0</td>\n",
       "      <td>0</td>\n",
       "      <td>0</td>\n",
       "      <td>0</td>\n",
       "    </tr>\n",
       "  </tbody>\n",
       "</table>\n",
       "<p>5 rows × 28 columns</p>\n",
       "</div>"
      ],
      "text/plain": [
       "   id  user_id  grade_id notes  raw_notes  method_id  climb_type  total_score  \\\n",
       "0   2        1        36                0          3           0          545   \n",
       "1   3        1        36                0          3           0          545   \n",
       "2   4        1        36                0          3           0          545   \n",
       "3   5        1        36                0          3           0          545   \n",
       "4   6        1        36                0          3           0          545   \n",
       "\n",
       "        date  year  ...  country     comment  rating description  yellow_id  \\\n",
       "0  918342000  1999  ...      THA  Thailand\\n       0                    255   \n",
       "1  925509600  1999  ...                   \\n       0                      0   \n",
       "2  933026400  1999  ...      SWE          \\n       0                    255   \n",
       "3  933026400  1999  ...      SWE          \\n       0                    255   \n",
       "4  933458400  1999  ...                   \\n       0                      0   \n",
       "\n",
       "  climb_try  repeat exclude_from_ranking user_recommended chipped  \n",
       "0         0       0                    0                0       0  \n",
       "1         0       0                    0                0       0  \n",
       "2         0       0                    0                0       0  \n",
       "3         0       0                    0                0       0  \n",
       "4         0       0                    0                0       0  \n",
       "\n",
       "[5 rows x 28 columns]"
      ]
     },
     "execution_count": 10,
     "metadata": {},
     "output_type": "execute_result"
    }
   ],
   "source": [
    "results.head()"
   ]
  },
  {
   "cell_type": "code",
   "execution_count": 11,
   "metadata": {},
   "outputs": [],
   "source": [
    "query = theCursor.execute('select * from Climber;') \n",
    "cols = [column[0] for column in query.description]\n",
    "climber_df= pd.DataFrame.from_records(data = query.fetchall(), columns = cols)"
   ]
  },
  {
   "cell_type": "code",
   "execution_count": 12,
   "metadata": {},
   "outputs": [
    {
     "data": {
      "text/html": [
       "<div>\n",
       "<style scoped>\n",
       "    .dataframe tbody tr th:only-of-type {\n",
       "        vertical-align: middle;\n",
       "    }\n",
       "\n",
       "    .dataframe tbody tr th {\n",
       "        vertical-align: top;\n",
       "    }\n",
       "\n",
       "    .dataframe thead th {\n",
       "        text-align: right;\n",
       "    }\n",
       "</style>\n",
       "<table border=\"1\" class=\"dataframe\">\n",
       "  <thead>\n",
       "    <tr style=\"text-align: right;\">\n",
       "      <th></th>\n",
       "      <th>id</th>\n",
       "      <th>first_name</th>\n",
       "      <th>last_name</th>\n",
       "      <th>city</th>\n",
       "      <th>country</th>\n",
       "      <th>sex</th>\n",
       "      <th>height</th>\n",
       "      <th>weight</th>\n",
       "      <th>started</th>\n",
       "      <th>competitions</th>\n",
       "      <th>...</th>\n",
       "      <th>sponsor2</th>\n",
       "      <th>sponsor3</th>\n",
       "      <th>best_area</th>\n",
       "      <th>worst_area</th>\n",
       "      <th>guide_area</th>\n",
       "      <th>interests</th>\n",
       "      <th>birth</th>\n",
       "      <th>presentation</th>\n",
       "      <th>deactivated</th>\n",
       "      <th>anonymous</th>\n",
       "    </tr>\n",
       "  </thead>\n",
       "  <tbody>\n",
       "    <tr>\n",
       "      <th>0</th>\n",
       "      <td>1</td>\n",
       "      <td>first</td>\n",
       "      <td>last</td>\n",
       "      <td>Göteborg</td>\n",
       "      <td>SWE</td>\n",
       "      <td>0</td>\n",
       "      <td>177</td>\n",
       "      <td>73</td>\n",
       "      <td>1996</td>\n",
       "      <td></td>\n",
       "      <td>...</td>\n",
       "      <td></td>\n",
       "      <td></td>\n",
       "      <td>Railay beach, Krabi, Thailand</td>\n",
       "      <td>None</td>\n",
       "      <td></td>\n",
       "      <td></td>\n",
       "      <td>1976-03-10</td>\n",
       "      <td></td>\n",
       "      <td>0</td>\n",
       "      <td>0</td>\n",
       "    </tr>\n",
       "    <tr>\n",
       "      <th>1</th>\n",
       "      <td>2</td>\n",
       "      <td>first</td>\n",
       "      <td>last</td>\n",
       "      <td>stockholm</td>\n",
       "      <td>SWE</td>\n",
       "      <td>0</td>\n",
       "      <td>0</td>\n",
       "      <td>0</td>\n",
       "      <td>2000</td>\n",
       "      <td></td>\n",
       "      <td>...</td>\n",
       "      <td></td>\n",
       "      <td></td>\n",
       "      <td></td>\n",
       "      <td></td>\n",
       "      <td></td>\n",
       "      <td></td>\n",
       "      <td>None</td>\n",
       "      <td></td>\n",
       "      <td>0</td>\n",
       "      <td>0</td>\n",
       "    </tr>\n",
       "    <tr>\n",
       "      <th>2</th>\n",
       "      <td>3</td>\n",
       "      <td>first</td>\n",
       "      <td>last</td>\n",
       "      <td>Umeå</td>\n",
       "      <td>SWE</td>\n",
       "      <td>0</td>\n",
       "      <td>180</td>\n",
       "      <td>78</td>\n",
       "      <td>1995</td>\n",
       "      <td></td>\n",
       "      <td>...</td>\n",
       "      <td></td>\n",
       "      <td></td>\n",
       "      <td>Hell</td>\n",
       "      <td>Umeå</td>\n",
       "      <td></td>\n",
       "      <td></td>\n",
       "      <td>1973-09-09</td>\n",
       "      <td></td>\n",
       "      <td>0</td>\n",
       "      <td>0</td>\n",
       "    </tr>\n",
       "    <tr>\n",
       "      <th>3</th>\n",
       "      <td>4</td>\n",
       "      <td>first</td>\n",
       "      <td>last</td>\n",
       "      <td>Goteborg</td>\n",
       "      <td>SWE</td>\n",
       "      <td>1</td>\n",
       "      <td>165</td>\n",
       "      <td>58</td>\n",
       "      <td>2001</td>\n",
       "      <td></td>\n",
       "      <td>...</td>\n",
       "      <td></td>\n",
       "      <td></td>\n",
       "      <td></td>\n",
       "      <td>None</td>\n",
       "      <td></td>\n",
       "      <td></td>\n",
       "      <td>1984-07-26</td>\n",
       "      <td></td>\n",
       "      <td>0</td>\n",
       "      <td>0</td>\n",
       "    </tr>\n",
       "    <tr>\n",
       "      <th>4</th>\n",
       "      <td>5</td>\n",
       "      <td>first</td>\n",
       "      <td>last</td>\n",
       "      <td>North Attleboro</td>\n",
       "      <td>USA</td>\n",
       "      <td>0</td>\n",
       "      <td>0</td>\n",
       "      <td>0</td>\n",
       "      <td>1991</td>\n",
       "      <td></td>\n",
       "      <td>...</td>\n",
       "      <td></td>\n",
       "      <td></td>\n",
       "      <td></td>\n",
       "      <td>None</td>\n",
       "      <td></td>\n",
       "      <td></td>\n",
       "      <td>1969-05-07</td>\n",
       "      <td></td>\n",
       "      <td>0</td>\n",
       "      <td>0</td>\n",
       "    </tr>\n",
       "  </tbody>\n",
       "</table>\n",
       "<p>5 rows × 22 columns</p>\n",
       "</div>"
      ],
      "text/plain": [
       "   id first_name last_name             city country  sex  height  weight  \\\n",
       "0   1      first      last         Göteborg     SWE    0     177      73   \n",
       "1   2      first      last        stockholm     SWE    0       0       0   \n",
       "2   3      first      last             Umeå     SWE    0     180      78   \n",
       "3   4      first      last         Goteborg     SWE    1     165      58   \n",
       "4   5      first      last  North Attleboro     USA    0       0       0   \n",
       "\n",
       "   started competitions  ... sponsor2 sponsor3                      best_area  \\\n",
       "0     1996               ...                    Railay beach, Krabi, Thailand   \n",
       "1     2000               ...                                                    \n",
       "2     1995               ...                                             Hell   \n",
       "3     2001               ...                                                    \n",
       "4     1991               ...                                                    \n",
       "\n",
       "  worst_area guide_area interests       birth presentation deactivated  \\\n",
       "0       None                       1976-03-10                        0   \n",
       "1                                        None                        0   \n",
       "2       Umeå                       1973-09-09                        0   \n",
       "3       None                       1984-07-26                        0   \n",
       "4       None                       1969-05-07                        0   \n",
       "\n",
       "  anonymous  \n",
       "0         0  \n",
       "1         0  \n",
       "2         0  \n",
       "3         0  \n",
       "4         0  \n",
       "\n",
       "[5 rows x 22 columns]"
      ]
     },
     "execution_count": 12,
     "metadata": {},
     "output_type": "execute_result"
    }
   ],
   "source": [
    "climber_df.head()"
   ]
  },
  {
   "cell_type": "code",
   "execution_count": 13,
   "metadata": {},
   "outputs": [
    {
     "data": {
      "text/html": [
       "<div>\n",
       "<style scoped>\n",
       "    .dataframe tbody tr th:only-of-type {\n",
       "        vertical-align: middle;\n",
       "    }\n",
       "\n",
       "    .dataframe tbody tr th {\n",
       "        vertical-align: top;\n",
       "    }\n",
       "\n",
       "    .dataframe thead th {\n",
       "        text-align: right;\n",
       "    }\n",
       "</style>\n",
       "<table border=\"1\" class=\"dataframe\">\n",
       "  <thead>\n",
       "    <tr style=\"text-align: right;\">\n",
       "      <th></th>\n",
       "      <th>id</th>\n",
       "      <th>first_name</th>\n",
       "      <th>last_name</th>\n",
       "      <th>city</th>\n",
       "      <th>country</th>\n",
       "      <th>sex</th>\n",
       "      <th>height</th>\n",
       "      <th>weight</th>\n",
       "      <th>started</th>\n",
       "      <th>competitions</th>\n",
       "      <th>...</th>\n",
       "      <th>sponsor2</th>\n",
       "      <th>sponsor3</th>\n",
       "      <th>best_area</th>\n",
       "      <th>worst_area</th>\n",
       "      <th>guide_area</th>\n",
       "      <th>interests</th>\n",
       "      <th>birth</th>\n",
       "      <th>presentation</th>\n",
       "      <th>deactivated</th>\n",
       "      <th>anonymous</th>\n",
       "    </tr>\n",
       "  </thead>\n",
       "  <tbody>\n",
       "    <tr>\n",
       "      <th>1422</th>\n",
       "      <td>1476</td>\n",
       "      <td>first</td>\n",
       "      <td>last</td>\n",
       "      <td>Brno</td>\n",
       "      <td>CZE</td>\n",
       "      <td>0</td>\n",
       "      <td>185</td>\n",
       "      <td>68</td>\n",
       "      <td>1999</td>\n",
       "      <td>World cup lead and bouldering winner</td>\n",
       "      <td>...</td>\n",
       "      <td>Black Diamond</td>\n",
       "      <td>La Sportiva</td>\n",
       "      <td>Flatanger, anywhere in Spain, Gemona</td>\n",
       "      <td>None</td>\n",
       "      <td>Moravsky kras</td>\n",
       "      <td>snowboarding</td>\n",
       "      <td>1993-02-05</td>\n",
       "      <td>my other sponsors:\\r\\nTendon www.mytendon.cz\\r...</td>\n",
       "      <td>0</td>\n",
       "      <td>0</td>\n",
       "    </tr>\n",
       "  </tbody>\n",
       "</table>\n",
       "<p>1 rows × 22 columns</p>\n",
       "</div>"
      ],
      "text/plain": [
       "        id first_name last_name  city country  sex  height  weight  started  \\\n",
       "1422  1476      first      last  Brno     CZE    0     185      68     1999   \n",
       "\n",
       "                              competitions  ...       sponsor2     sponsor3  \\\n",
       "1422  World cup lead and bouldering winner  ...  Black Diamond  La Sportiva   \n",
       "\n",
       "                                 best_area worst_area     guide_area  \\\n",
       "1422  Flatanger, anywhere in Spain, Gemona       None  Moravsky kras   \n",
       "\n",
       "         interests       birth  \\\n",
       "1422  snowboarding  1993-02-05   \n",
       "\n",
       "                                           presentation deactivated anonymous  \n",
       "1422  my other sponsors:\\r\\nTendon www.mytendon.cz\\r...           0         0  \n",
       "\n",
       "[1 rows x 22 columns]"
      ]
     },
     "execution_count": 13,
     "metadata": {},
     "output_type": "execute_result"
    }
   ],
   "source": [
    "climber_df[climber_df.id == 1476]"
   ]
  },
  {
   "cell_type": "code",
   "execution_count": 14,
   "metadata": {},
   "outputs": [
    {
     "data": {
      "text/plain": [
       "0              1\n",
       "1              1\n",
       "2              1\n",
       "3              1\n",
       "4              1\n",
       "           ...  \n",
       "4111872    59627\n",
       "4111873    44075\n",
       "4111874    19098\n",
       "4111875    19098\n",
       "4111876    24751\n",
       "Name: user_id, Length: 4111877, dtype: int64"
      ]
     },
     "execution_count": 14,
     "metadata": {},
     "output_type": "execute_result"
    }
   ],
   "source": [
    "results.user_id"
   ]
  },
  {
   "cell_type": "code",
   "execution_count": 15,
   "metadata": {},
   "outputs": [],
   "source": [
    "df = results.merge(climber_df, left_on='user_id', right_on='id')"
   ]
  },
  {
   "cell_type": "code",
   "execution_count": 16,
   "metadata": {},
   "outputs": [
    {
     "data": {
      "text/plain": [
       "Index(['id_x', 'user_id', 'grade_id', 'notes', 'raw_notes', 'method_id',\n",
       "       'climb_type', 'total_score', 'date', 'year', 'last_year', 'rec_date',\n",
       "       'project_ascent_date', 'name', 'crag_id', 'crag', 'sector_id', 'sector',\n",
       "       'country_x', 'comment', 'rating', 'description', 'yellow_id',\n",
       "       'climb_try', 'repeat', 'exclude_from_ranking', 'user_recommended',\n",
       "       'chipped', 'id_y', 'first_name', 'last_name', 'city', 'country_y',\n",
       "       'sex', 'height', 'weight', 'started', 'competitions', 'occupation',\n",
       "       'sponsor1', 'sponsor2', 'sponsor3', 'best_area', 'worst_area',\n",
       "       'guide_area', 'interests', 'birth', 'presentation', 'deactivated',\n",
       "       'anonymous'],\n",
       "      dtype='object')"
      ]
     },
     "execution_count": 16,
     "metadata": {},
     "output_type": "execute_result"
    }
   ],
   "source": [
    "df.columns"
   ]
  },
  {
   "cell_type": "code",
   "execution_count": 17,
   "metadata": {},
   "outputs": [
    {
     "data": {
      "text/plain": [
       "<AxesSubplot:>"
      ]
     },
     "execution_count": 17,
     "metadata": {},
     "output_type": "execute_result"
    },
    {
     "data": {
      "image/png": "[encoded data removed]",
      "text/plain": [
       "<Figure size 432x288 with 1 Axes>"
      ]
     },
     "metadata": {
      "needs_background": "light"
     },
     "output_type": "display_data"
    }
   ],
   "source": [
    "climber_df.weight.hist()"
   ]
  },
  {
   "cell_type": "code",
   "execution_count": 18,
   "metadata": {},
   "outputs": [],
   "source": [
    "#df['bmi'] = df['height']/((df['Column B'])/1000)**2"
   ]
  },
  {
   "cell_type": "code",
   "execution_count": 19,
   "metadata": {},
   "outputs": [],
   "source": [
    "df_weight = df[df['weight'] !=0]"
   ]
  },
  {
   "cell_type": "code",
   "execution_count": 20,
   "metadata": {},
   "outputs": [
    {
     "data": {
      "text/plain": [
       "68     734733\n",
       "73     661486\n",
       "63     565711\n",
       "78     329281\n",
       "58     260935\n",
       "83     160744\n",
       "53     142021\n",
       "48      67616\n",
       "88      50206\n",
       "100     44661\n",
       "43      17653\n",
       "93      17309\n",
       "40      14718\n",
       "98       8008\n",
       "Name: weight, dtype: int64"
      ]
     },
     "execution_count": 20,
     "metadata": {},
     "output_type": "execute_result"
    }
   ],
   "source": [
    "df_weight.weight.value_counts()"
   ]
  },
  {
   "cell_type": "code",
   "execution_count": 21,
   "metadata": {},
   "outputs": [
    {
     "data": {
      "text/plain": [
       "Text(0.5, 1.0, 'Difficulty Distribution of Climbers w/ no null weight')"
      ]
     },
     "execution_count": 21,
     "metadata": {},
     "output_type": "execute_result"
    },
    {
     "data": {
      "image/png": "[encoded data removed]",
      "text/plain": [
       "<Figure size 432x288 with 1 Axes>"
      ]
     },
     "metadata": {
      "needs_background": "light"
     },
     "output_type": "display_data"
    }
   ],
   "source": [
    "plt.hist(x = df_weight.grade_id, bins = 20)\n",
    "plt.title('Difficulty Distribution of Climbers w/ no null weight')"
   ]
  },
  {
   "cell_type": "code",
   "execution_count": 22,
   "metadata": {},
   "outputs": [],
   "source": [
    "# df_height = "
   ]
  },
  {
   "cell_type": "code",
   "execution_count": 23,
   "metadata": {},
   "outputs": [],
   "source": [
    "df_height = df[df['height'] !=0]"
   ]
  },
  {
   "cell_type": "code",
   "execution_count": null,
   "metadata": {},
   "outputs": [],
   "source": []
  },
  {
   "cell_type": "code",
   "execution_count": 24,
   "metadata": {},
   "outputs": [
    {
     "data": {
      "text/plain": [
       "Text(0.5, 1.0, 'Difficulty Distribution of Climbers w/ no null height')"
      ]
     },
     "execution_count": 24,
     "metadata": {},
     "output_type": "execute_result"
    },
    {
     "data": {
      "image/png": "[encoded data removed]",
      "text/plain": [
       "<Figure size 432x288 with 1 Axes>"
      ]
     },
     "metadata": {
      "needs_background": "light"
     },
     "output_type": "display_data"
    }
   ],
   "source": [
    "plt.hist(x = df_height.grade_id, bins = 20)\n",
    "plt.title('Difficulty Distribution of Climbers w/ no null height')"
   ]
  },
  {
   "cell_type": "code",
   "execution_count": 25,
   "metadata": {},
   "outputs": [
    {
     "data": {
      "text/plain": [
       "68     734733\n",
       "73     661486\n",
       "63     565711\n",
       "78     329281\n",
       "58     260935\n",
       "83     160744\n",
       "53     142021\n",
       "48      67616\n",
       "88      50206\n",
       "100     44661\n",
       "43      17653\n",
       "93      17309\n",
       "40      14718\n",
       "98       8008\n",
       "Name: weight, dtype: int64"
      ]
     },
     "execution_count": 25,
     "metadata": {},
     "output_type": "execute_result"
    }
   ],
   "source": [
    "df_weight.weight.value_counts()"
   ]
  },
  {
   "cell_type": "code",
   "execution_count": 26,
   "metadata": {},
   "outputs": [
    {
     "data": {
      "text/plain": [
       "180    274383\n",
       "178    230141\n",
       "175    200869\n",
       "170    194286\n",
       "183    156406\n",
       "        ...  \n",
       "105         3\n",
       "8           3\n",
       "84          3\n",
       "207         2\n",
       "35          1\n",
       "Name: height, Length: 157, dtype: int64"
      ]
     },
     "execution_count": 26,
     "metadata": {},
     "output_type": "execute_result"
    }
   ],
   "source": [
    "df_height.height.value_counts()"
   ]
  },
  {
   "cell_type": "code",
   "execution_count": 27,
   "metadata": {},
   "outputs": [],
   "source": [
    "df2 = df.copy()"
   ]
  },
  {
   "cell_type": "code",
   "execution_count": 28,
   "metadata": {},
   "outputs": [],
   "source": [
    "df2['bmi'] = (df['weight']/(df['height'])/(df['height']))*10000"
   ]
  },
  {
   "cell_type": "code",
   "execution_count": 29,
   "metadata": {},
   "outputs": [
    {
     "data": {
      "text/plain": [
       "0.000000       316415\n",
       "inf            209258\n",
       "20.987654       83841\n",
       "21.461937       79860\n",
       "22.530864       76334\n",
       "                ...  \n",
       "15.253123           1\n",
       "2098.765432         1\n",
       "14.872100           1\n",
       "27.587326           1\n",
       "169.005102          1\n",
       "Name: bmi, Length: 730, dtype: int64"
      ]
     },
     "execution_count": 29,
     "metadata": {},
     "output_type": "execute_result"
    }
   ],
   "source": [
    "df2.bmi.value_counts()"
   ]
  },
  {
   "cell_type": "code",
   "execution_count": 30,
   "metadata": {},
   "outputs": [
    {
     "data": {
      "text/plain": [
       "id_x                                                3\n",
       "user_id                                             1\n",
       "grade_id                                           36\n",
       "notes                                                \n",
       "raw_notes                                           0\n",
       "method_id                                           3\n",
       "climb_type                                          0\n",
       "total_score                                       545\n",
       "date                                        925509600\n",
       "year                                             1999\n",
       "last_year                                           0\n",
       "rec_date                                   1107126000\n",
       "project_ascent_date                                 0\n",
       "name                                           vet ej\n",
       "crag_id                                             0\n",
       "crag                                 Nya berg - segl.\n",
       "sector_id                                           0\n",
       "sector                                               \n",
       "country_x                                            \n",
       "comment                                            \\n\n",
       "rating                                              0\n",
       "description                                          \n",
       "yellow_id                                           0\n",
       "climb_try                                           0\n",
       "repeat                                              0\n",
       "exclude_from_ranking                                0\n",
       "user_recommended                                    0\n",
       "chipped                                             0\n",
       "id_y                                                1\n",
       "first_name                                      first\n",
       "last_name                                        last\n",
       "city                                         Göteborg\n",
       "country_y                                         SWE\n",
       "sex                                                 0\n",
       "height                                            177\n",
       "weight                                             73\n",
       "started                                          1996\n",
       "competitions                                         \n",
       "occupation                                           \n",
       "sponsor1                                             \n",
       "sponsor2                                             \n",
       "sponsor3                                             \n",
       "best_area               Railay beach, Krabi, Thailand\n",
       "worst_area                                       None\n",
       "guide_area                                           \n",
       "interests                                            \n",
       "birth                                      1976-03-10\n",
       "presentation                                         \n",
       "deactivated                                         0\n",
       "anonymous                                           0\n",
       "bmi                                           23.3011\n",
       "Name: 1, dtype: object"
      ]
     },
     "execution_count": 30,
     "metadata": {},
     "output_type": "execute_result"
    }
   ],
   "source": [
    "df2.iloc[1]"
   ]
  },
  {
   "cell_type": "code",
   "execution_count": 31,
   "metadata": {},
   "outputs": [],
   "source": [
    "df2_bmi = df2[df2['bmi'] != 0] \n",
    "df2_bmi = df2_bmi[df2_bmi['bmi'] != np.inf]\n",
    "#___________________________________________\n",
    "df2_bmi = df2_bmi[df2_bmi['bmi'].notna()]\n",
    "\n",
    "\n",
    "df2_bmi = df2_bmi[df2_bmi['bmi'] < 75] "
   ]
  },
  {
   "cell_type": "code",
   "execution_count": 32,
   "metadata": {},
   "outputs": [
    {
     "data": {
      "text/html": [
       "<div>\n",
       "<style scoped>\n",
       "    .dataframe tbody tr th:only-of-type {\n",
       "        vertical-align: middle;\n",
       "    }\n",
       "\n",
       "    .dataframe tbody tr th {\n",
       "        vertical-align: top;\n",
       "    }\n",
       "\n",
       "    .dataframe thead th {\n",
       "        text-align: right;\n",
       "    }\n",
       "</style>\n",
       "<table border=\"1\" class=\"dataframe\">\n",
       "  <thead>\n",
       "    <tr style=\"text-align: right;\">\n",
       "      <th></th>\n",
       "      <th>id_x</th>\n",
       "      <th>user_id</th>\n",
       "      <th>grade_id</th>\n",
       "      <th>notes</th>\n",
       "      <th>raw_notes</th>\n",
       "      <th>method_id</th>\n",
       "      <th>climb_type</th>\n",
       "      <th>total_score</th>\n",
       "      <th>date</th>\n",
       "      <th>year</th>\n",
       "      <th>...</th>\n",
       "      <th>sponsor3</th>\n",
       "      <th>best_area</th>\n",
       "      <th>worst_area</th>\n",
       "      <th>guide_area</th>\n",
       "      <th>interests</th>\n",
       "      <th>birth</th>\n",
       "      <th>presentation</th>\n",
       "      <th>deactivated</th>\n",
       "      <th>anonymous</th>\n",
       "      <th>bmi</th>\n",
       "    </tr>\n",
       "  </thead>\n",
       "  <tbody>\n",
       "    <tr>\n",
       "      <th>0</th>\n",
       "      <td>2</td>\n",
       "      <td>1</td>\n",
       "      <td>36</td>\n",
       "      <td></td>\n",
       "      <td>0</td>\n",
       "      <td>3</td>\n",
       "      <td>0</td>\n",
       "      <td>545</td>\n",
       "      <td>918342000</td>\n",
       "      <td>1999</td>\n",
       "      <td>...</td>\n",
       "      <td></td>\n",
       "      <td>Railay beach, Krabi, Thailand</td>\n",
       "      <td>None</td>\n",
       "      <td></td>\n",
       "      <td></td>\n",
       "      <td>1976-03-10</td>\n",
       "      <td></td>\n",
       "      <td>0</td>\n",
       "      <td>0</td>\n",
       "      <td>23.301095</td>\n",
       "    </tr>\n",
       "    <tr>\n",
       "      <th>1</th>\n",
       "      <td>3</td>\n",
       "      <td>1</td>\n",
       "      <td>36</td>\n",
       "      <td></td>\n",
       "      <td>0</td>\n",
       "      <td>3</td>\n",
       "      <td>0</td>\n",
       "      <td>545</td>\n",
       "      <td>925509600</td>\n",
       "      <td>1999</td>\n",
       "      <td>...</td>\n",
       "      <td></td>\n",
       "      <td>Railay beach, Krabi, Thailand</td>\n",
       "      <td>None</td>\n",
       "      <td></td>\n",
       "      <td></td>\n",
       "      <td>1976-03-10</td>\n",
       "      <td></td>\n",
       "      <td>0</td>\n",
       "      <td>0</td>\n",
       "      <td>23.301095</td>\n",
       "    </tr>\n",
       "    <tr>\n",
       "      <th>2</th>\n",
       "      <td>4</td>\n",
       "      <td>1</td>\n",
       "      <td>36</td>\n",
       "      <td></td>\n",
       "      <td>0</td>\n",
       "      <td>3</td>\n",
       "      <td>0</td>\n",
       "      <td>545</td>\n",
       "      <td>933026400</td>\n",
       "      <td>1999</td>\n",
       "      <td>...</td>\n",
       "      <td></td>\n",
       "      <td>Railay beach, Krabi, Thailand</td>\n",
       "      <td>None</td>\n",
       "      <td></td>\n",
       "      <td></td>\n",
       "      <td>1976-03-10</td>\n",
       "      <td></td>\n",
       "      <td>0</td>\n",
       "      <td>0</td>\n",
       "      <td>23.301095</td>\n",
       "    </tr>\n",
       "    <tr>\n",
       "      <th>3</th>\n",
       "      <td>5</td>\n",
       "      <td>1</td>\n",
       "      <td>36</td>\n",
       "      <td></td>\n",
       "      <td>0</td>\n",
       "      <td>3</td>\n",
       "      <td>0</td>\n",
       "      <td>545</td>\n",
       "      <td>933026400</td>\n",
       "      <td>1999</td>\n",
       "      <td>...</td>\n",
       "      <td></td>\n",
       "      <td>Railay beach, Krabi, Thailand</td>\n",
       "      <td>None</td>\n",
       "      <td></td>\n",
       "      <td></td>\n",
       "      <td>1976-03-10</td>\n",
       "      <td></td>\n",
       "      <td>0</td>\n",
       "      <td>0</td>\n",
       "      <td>23.301095</td>\n",
       "    </tr>\n",
       "    <tr>\n",
       "      <th>4</th>\n",
       "      <td>6</td>\n",
       "      <td>1</td>\n",
       "      <td>36</td>\n",
       "      <td></td>\n",
       "      <td>0</td>\n",
       "      <td>3</td>\n",
       "      <td>0</td>\n",
       "      <td>545</td>\n",
       "      <td>933458400</td>\n",
       "      <td>1999</td>\n",
       "      <td>...</td>\n",
       "      <td></td>\n",
       "      <td>Railay beach, Krabi, Thailand</td>\n",
       "      <td>None</td>\n",
       "      <td></td>\n",
       "      <td></td>\n",
       "      <td>1976-03-10</td>\n",
       "      <td></td>\n",
       "      <td>0</td>\n",
       "      <td>0</td>\n",
       "      <td>23.301095</td>\n",
       "    </tr>\n",
       "  </tbody>\n",
       "</table>\n",
       "<p>5 rows × 51 columns</p>\n",
       "</div>"
      ],
      "text/plain": [
       "   id_x  user_id  grade_id notes  raw_notes  method_id  climb_type  \\\n",
       "0     2        1        36                0          3           0   \n",
       "1     3        1        36                0          3           0   \n",
       "2     4        1        36                0          3           0   \n",
       "3     5        1        36                0          3           0   \n",
       "4     6        1        36                0          3           0   \n",
       "\n",
       "   total_score       date  year  ...  sponsor3                      best_area  \\\n",
       "0          545  918342000  1999  ...            Railay beach, Krabi, Thailand   \n",
       "1          545  925509600  1999  ...            Railay beach, Krabi, Thailand   \n",
       "2          545  933026400  1999  ...            Railay beach, Krabi, Thailand   \n",
       "3          545  933026400  1999  ...            Railay beach, Krabi, Thailand   \n",
       "4          545  933458400  1999  ...            Railay beach, Krabi, Thailand   \n",
       "\n",
       "   worst_area guide_area  interests       birth  presentation deactivated  \\\n",
       "0        None                        1976-03-10                         0   \n",
       "1        None                        1976-03-10                         0   \n",
       "2        None                        1976-03-10                         0   \n",
       "3        None                        1976-03-10                         0   \n",
       "4        None                        1976-03-10                         0   \n",
       "\n",
       "  anonymous        bmi  \n",
       "0         0  23.301095  \n",
       "1         0  23.301095  \n",
       "2         0  23.301095  \n",
       "3         0  23.301095  \n",
       "4         0  23.301095  \n",
       "\n",
       "[5 rows x 51 columns]"
      ]
     },
     "execution_count": 32,
     "metadata": {},
     "output_type": "execute_result"
    }
   ],
   "source": [
    "df2_bmi.head()"
   ]
  },
  {
   "cell_type": "code",
   "execution_count": 33,
   "metadata": {},
   "outputs": [],
   "source": [
    "#df2_bmi = df2[df2['bmi'] != np.inf] "
   ]
  },
  {
   "cell_type": "code",
   "execution_count": 34,
   "metadata": {},
   "outputs": [
    {
     "data": {
      "text/plain": [
       "20.987654    83841\n",
       "21.461937    79860\n",
       "22.530864    76334\n",
       "21.799308    73436\n",
       "22.204082    69954\n",
       "             ...  \n",
       "15.908689        1\n",
       "15.431503        1\n",
       "21.915355        1\n",
       "15.319690        1\n",
       "21.566513        1\n",
       "Name: bmi, Length: 622, dtype: int64"
      ]
     },
     "execution_count": 34,
     "metadata": {},
     "output_type": "execute_result"
    }
   ],
   "source": [
    "df2_bmi.bmi.value_counts()"
   ]
  },
  {
   "cell_type": "code",
   "execution_count": 35,
   "metadata": {},
   "outputs": [],
   "source": [
    "elite_bmi = df2_bmi[df2_bmi['grade_id'] >=59]"
   ]
  },
  {
   "cell_type": "code",
   "execution_count": 36,
   "metadata": {},
   "outputs": [
    {
     "data": {
      "text/plain": [
       "7335"
      ]
     },
     "execution_count": 36,
     "metadata": {},
     "output_type": "execute_result"
    }
   ],
   "source": [
    "elite_bmi.id_y.nunique()"
   ]
  },
  {
   "cell_type": "code",
   "execution_count": 37,
   "metadata": {},
   "outputs": [],
   "source": [
    "elite_bmi2 = elite_bmi.copy()"
   ]
  },
  {
   "cell_type": "code",
   "execution_count": 38,
   "metadata": {},
   "outputs": [
    {
     "data": {
      "text/plain": [
       "Index(['id_x', 'user_id', 'grade_id', 'notes', 'raw_notes', 'method_id',\n",
       "       'climb_type', 'total_score', 'date', 'year', 'last_year', 'rec_date',\n",
       "       'project_ascent_date', 'name', 'crag_id', 'crag', 'sector_id', 'sector',\n",
       "       'country_x', 'comment', 'rating', 'description', 'yellow_id',\n",
       "       'climb_try', 'repeat', 'exclude_from_ranking', 'user_recommended',\n",
       "       'chipped', 'id_y', 'first_name', 'last_name', 'city', 'country_y',\n",
       "       'sex', 'height', 'weight', 'started', 'competitions', 'occupation',\n",
       "       'sponsor1', 'sponsor2', 'sponsor3', 'best_area', 'worst_area',\n",
       "       'guide_area', 'interests', 'birth', 'presentation', 'deactivated',\n",
       "       'anonymous', 'bmi'],\n",
       "      dtype='object')"
      ]
     },
     "execution_count": 38,
     "metadata": {},
     "output_type": "execute_result"
    }
   ],
   "source": [
    "elite_bmi2.columns"
   ]
  },
  {
   "cell_type": "code",
   "execution_count": 39,
   "metadata": {},
   "outputs": [],
   "source": [
    "elite_climber_df = elite_bmi2.drop(['id_x', 'user_id', 'grade_id', 'notes', 'raw_notes', 'method_id',\n",
    "       'climb_type', 'total_score', 'date', 'year', 'last_year', 'rec_date',\n",
    "       'project_ascent_date', 'name', 'crag_id', 'crag', 'sector_id', 'sector',\n",
    "       'country_x', 'comment', 'rating', 'description', 'yellow_id',\n",
    "       'climb_try', 'repeat', 'exclude_from_ranking', 'user_recommended',\n",
    "       'chipped'], axis=1)"
   ]
  },
  {
   "cell_type": "code",
   "execution_count": 40,
   "metadata": {},
   "outputs": [
    {
     "data": {
      "text/plain": [
       "(278954, 51)"
      ]
     },
     "execution_count": 40,
     "metadata": {},
     "output_type": "execute_result"
    }
   ],
   "source": [
    "elite_bmi2.shape"
   ]
  },
  {
   "cell_type": "code",
   "execution_count": 41,
   "metadata": {},
   "outputs": [
    {
     "data": {
      "text/plain": [
       "(278954, 23)"
      ]
     },
     "execution_count": 41,
     "metadata": {},
     "output_type": "execute_result"
    }
   ],
   "source": [
    "elite_climber_df.shape"
   ]
  },
  {
   "cell_type": "code",
   "execution_count": 42,
   "metadata": {},
   "outputs": [],
   "source": [
    "elite_climber_df.drop_duplicates(keep='last', inplace = True)"
   ]
  },
  {
   "cell_type": "code",
   "execution_count": null,
   "metadata": {},
   "outputs": [],
   "source": []
  },
  {
   "cell_type": "code",
   "execution_count": 43,
   "metadata": {},
   "outputs": [
    {
     "data": {
      "image/png": "[encoded data removed]",
      "text/plain": [
       "<Figure size 432x288 with 1 Axes>"
      ]
     },
     "metadata": {
      "needs_background": "light"
     },
     "output_type": "display_data"
    }
   ],
   "source": [
    "plt.hist(x = elite_climber_df.bmi, bins = 200)\n",
    "plt.title('BMI Distribution of Elite Level Climbers')\n",
    "plt.xlim(0, 30)\n",
    "plt.ylabel('Number of Climbers')\n",
    "plt.xlabel('BMI (kg/m²)')\n",
    "\n",
    "plt.savefig('elite_climber_bmi.png', dpi = 200)\n",
    "# plt.xlim(0, 22250)"
   ]
  },
  {
   "cell_type": "code",
   "execution_count": 44,
   "metadata": {},
   "outputs": [
    {
     "data": {
      "text/plain": [
       "20.987654    232\n",
       "22.530864    204\n",
       "21.461937    191\n",
       "21.799308    191\n",
       "22.204082    187\n",
       "            ... \n",
       "16.066482      1\n",
       "28.703704      1\n",
       "31.239414      1\n",
       "26.861207      1\n",
       "26.674874      1\n",
       "Name: bmi, Length: 437, dtype: int64"
      ]
     },
     "execution_count": 44,
     "metadata": {},
     "output_type": "execute_result"
    }
   ],
   "source": [
    "elite_climber_df.bmi.value_counts().sort_values(ascending=False)"
   ]
  },
  {
   "cell_type": "code",
   "execution_count": 45,
   "metadata": {},
   "outputs": [
    {
     "data": {
      "text/plain": [
       "921344     73.784722\n",
       "961925     69.444444\n",
       "2193960    69.444444\n",
       "295418     69.444444\n",
       "149439     68.000000\n",
       "             ...    \n",
       "2555974     9.688581\n",
       "766586      8.919646\n",
       "4051370     8.150711\n",
       "2047223     6.349106\n",
       "1683701     6.151480\n",
       "Name: bmi, Length: 7335, dtype: float64"
      ]
     },
     "execution_count": 45,
     "metadata": {},
     "output_type": "execute_result"
    }
   ],
   "source": [
    "elite_climber_df.bmi.sort_values(ascending=False)"
   ]
  },
  {
   "cell_type": "code",
   "execution_count": 46,
   "metadata": {},
   "outputs": [
    {
     "data": {
      "text/plain": [
       "(7335, 23)"
      ]
     },
     "execution_count": 46,
     "metadata": {},
     "output_type": "execute_result"
    }
   ],
   "source": [
    "elite_climber_df.shape"
   ]
  },
  {
   "cell_type": "code",
   "execution_count": 47,
   "metadata": {},
   "outputs": [
    {
     "data": {
      "text/html": [
       "<div>\n",
       "<style scoped>\n",
       "    .dataframe tbody tr th:only-of-type {\n",
       "        vertical-align: middle;\n",
       "    }\n",
       "\n",
       "    .dataframe tbody tr th {\n",
       "        vertical-align: top;\n",
       "    }\n",
       "\n",
       "    .dataframe thead th {\n",
       "        text-align: right;\n",
       "    }\n",
       "</style>\n",
       "<table border=\"1\" class=\"dataframe\">\n",
       "  <thead>\n",
       "    <tr style=\"text-align: right;\">\n",
       "      <th></th>\n",
       "      <th>id_y</th>\n",
       "      <th>first_name</th>\n",
       "      <th>last_name</th>\n",
       "      <th>city</th>\n",
       "      <th>country_y</th>\n",
       "      <th>sex</th>\n",
       "      <th>height</th>\n",
       "      <th>weight</th>\n",
       "      <th>started</th>\n",
       "      <th>competitions</th>\n",
       "      <th>...</th>\n",
       "      <th>sponsor3</th>\n",
       "      <th>best_area</th>\n",
       "      <th>worst_area</th>\n",
       "      <th>guide_area</th>\n",
       "      <th>interests</th>\n",
       "      <th>birth</th>\n",
       "      <th>presentation</th>\n",
       "      <th>deactivated</th>\n",
       "      <th>anonymous</th>\n",
       "      <th>bmi</th>\n",
       "    </tr>\n",
       "  </thead>\n",
       "  <tbody>\n",
       "  </tbody>\n",
       "</table>\n",
       "<p>0 rows × 23 columns</p>\n",
       "</div>"
      ],
      "text/plain": [
       "Empty DataFrame\n",
       "Columns: [id_y, first_name, last_name, city, country_y, sex, height, weight, started, competitions, occupation, sponsor1, sponsor2, sponsor3, best_area, worst_area, guide_area, interests, birth, presentation, deactivated, anonymous, bmi]\n",
       "Index: []\n",
       "\n",
       "[0 rows x 23 columns]"
      ]
     },
     "execution_count": 47,
     "metadata": {},
     "output_type": "execute_result"
    }
   ],
   "source": [
    "elite_climber_df[elite_climber_df.bmi >50000]"
   ]
  },
  {
   "cell_type": "code",
   "execution_count": 48,
   "metadata": {},
   "outputs": [],
   "source": [
    "delete_df = elite_climber_df[elite_climber_df['id_y'] == 3474]"
   ]
  },
  {
   "cell_type": "code",
   "execution_count": 49,
   "metadata": {},
   "outputs": [
    {
     "data": {
      "text/html": [
       "<div>\n",
       "<style scoped>\n",
       "    .dataframe tbody tr th:only-of-type {\n",
       "        vertical-align: middle;\n",
       "    }\n",
       "\n",
       "    .dataframe tbody tr th {\n",
       "        vertical-align: top;\n",
       "    }\n",
       "\n",
       "    .dataframe thead th {\n",
       "        text-align: right;\n",
       "    }\n",
       "</style>\n",
       "<table border=\"1\" class=\"dataframe\">\n",
       "  <thead>\n",
       "    <tr style=\"text-align: right;\">\n",
       "      <th></th>\n",
       "      <th>id_y</th>\n",
       "      <th>first_name</th>\n",
       "      <th>last_name</th>\n",
       "      <th>city</th>\n",
       "      <th>country_y</th>\n",
       "      <th>sex</th>\n",
       "      <th>height</th>\n",
       "      <th>weight</th>\n",
       "      <th>started</th>\n",
       "      <th>competitions</th>\n",
       "      <th>...</th>\n",
       "      <th>sponsor3</th>\n",
       "      <th>best_area</th>\n",
       "      <th>worst_area</th>\n",
       "      <th>guide_area</th>\n",
       "      <th>interests</th>\n",
       "      <th>birth</th>\n",
       "      <th>presentation</th>\n",
       "      <th>deactivated</th>\n",
       "      <th>anonymous</th>\n",
       "      <th>bmi</th>\n",
       "    </tr>\n",
       "  </thead>\n",
       "  <tbody>\n",
       "  </tbody>\n",
       "</table>\n",
       "<p>0 rows × 23 columns</p>\n",
       "</div>"
      ],
      "text/plain": [
       "Empty DataFrame\n",
       "Columns: [id_y, first_name, last_name, city, country_y, sex, height, weight, started, competitions, occupation, sponsor1, sponsor2, sponsor3, best_area, worst_area, guide_area, interests, birth, presentation, deactivated, anonymous, bmi]\n",
       "Index: []\n",
       "\n",
       "[0 rows x 23 columns]"
      ]
     },
     "execution_count": 49,
     "metadata": {},
     "output_type": "execute_result"
    }
   ],
   "source": [
    "elite_climber_df[elite_climber_df['id_y'] == 3474]"
   ]
  },
  {
   "cell_type": "code",
   "execution_count": 50,
   "metadata": {},
   "outputs": [
    {
     "data": {
      "text/html": [
       "<div>\n",
       "<style scoped>\n",
       "    .dataframe tbody tr th:only-of-type {\n",
       "        vertical-align: middle;\n",
       "    }\n",
       "\n",
       "    .dataframe tbody tr th {\n",
       "        vertical-align: top;\n",
       "    }\n",
       "\n",
       "    .dataframe thead th {\n",
       "        text-align: right;\n",
       "    }\n",
       "</style>\n",
       "<table border=\"1\" class=\"dataframe\">\n",
       "  <thead>\n",
       "    <tr style=\"text-align: right;\">\n",
       "      <th></th>\n",
       "      <th>id_y</th>\n",
       "      <th>first_name</th>\n",
       "      <th>last_name</th>\n",
       "      <th>city</th>\n",
       "      <th>country_y</th>\n",
       "      <th>sex</th>\n",
       "      <th>height</th>\n",
       "      <th>weight</th>\n",
       "      <th>started</th>\n",
       "      <th>competitions</th>\n",
       "      <th>...</th>\n",
       "      <th>sponsor3</th>\n",
       "      <th>best_area</th>\n",
       "      <th>worst_area</th>\n",
       "      <th>guide_area</th>\n",
       "      <th>interests</th>\n",
       "      <th>birth</th>\n",
       "      <th>presentation</th>\n",
       "      <th>deactivated</th>\n",
       "      <th>anonymous</th>\n",
       "      <th>bmi</th>\n",
       "    </tr>\n",
       "  </thead>\n",
       "  <tbody>\n",
       "    <tr>\n",
       "      <th>140</th>\n",
       "      <td>1</td>\n",
       "      <td>first</td>\n",
       "      <td>last</td>\n",
       "      <td>Göteborg</td>\n",
       "      <td>SWE</td>\n",
       "      <td>0</td>\n",
       "      <td>177</td>\n",
       "      <td>73</td>\n",
       "      <td>1996</td>\n",
       "      <td></td>\n",
       "      <td>...</td>\n",
       "      <td></td>\n",
       "      <td>Railay beach, Krabi, Thailand</td>\n",
       "      <td>None</td>\n",
       "      <td></td>\n",
       "      <td></td>\n",
       "      <td>1976-03-10</td>\n",
       "      <td></td>\n",
       "      <td>0</td>\n",
       "      <td>0</td>\n",
       "      <td>23.301095</td>\n",
       "    </tr>\n",
       "    <tr>\n",
       "      <th>486</th>\n",
       "      <td>11</td>\n",
       "      <td>first</td>\n",
       "      <td>last</td>\n",
       "      <td>Arkelstorp</td>\n",
       "      <td>SWE</td>\n",
       "      <td>0</td>\n",
       "      <td>175</td>\n",
       "      <td>73</td>\n",
       "      <td>1998</td>\n",
       "      <td>1:a</td>\n",
       "      <td>...</td>\n",
       "      <td></td>\n",
       "      <td>Kjugekull</td>\n",
       "      <td>None</td>\n",
       "      <td>Kjugekull</td>\n",
       "      <td>Play go, read books, listen to jazz and eating...</td>\n",
       "      <td>1980-01-09</td>\n",
       "      <td></td>\n",
       "      <td>0</td>\n",
       "      <td>0</td>\n",
       "      <td>23.836735</td>\n",
       "    </tr>\n",
       "    <tr>\n",
       "      <th>560</th>\n",
       "      <td>6</td>\n",
       "      <td>first</td>\n",
       "      <td>last</td>\n",
       "      <td>Sydney</td>\n",
       "      <td>AUS</td>\n",
       "      <td>0</td>\n",
       "      <td>185</td>\n",
       "      <td>73</td>\n",
       "      <td>1992</td>\n",
       "      <td>last</td>\n",
       "      <td>...</td>\n",
       "      <td></td>\n",
       "      <td>Sydney</td>\n",
       "      <td>None</td>\n",
       "      <td></td>\n",
       "      <td></td>\n",
       "      <td>1970-12-02</td>\n",
       "      <td></td>\n",
       "      <td>0</td>\n",
       "      <td>0</td>\n",
       "      <td>21.329438</td>\n",
       "    </tr>\n",
       "    <tr>\n",
       "      <th>729</th>\n",
       "      <td>16</td>\n",
       "      <td>first</td>\n",
       "      <td>last</td>\n",
       "      <td>Egersund</td>\n",
       "      <td>NOR</td>\n",
       "      <td>0</td>\n",
       "      <td>177</td>\n",
       "      <td>68</td>\n",
       "      <td>1996</td>\n",
       "      <td></td>\n",
       "      <td>...</td>\n",
       "      <td></td>\n",
       "      <td>Rogaland ?</td>\n",
       "      <td></td>\n",
       "      <td>Sirevåg, Egersund</td>\n",
       "      <td></td>\n",
       "      <td>1973-04-15</td>\n",
       "      <td></td>\n",
       "      <td>0</td>\n",
       "      <td>0</td>\n",
       "      <td>21.705129</td>\n",
       "    </tr>\n",
       "    <tr>\n",
       "      <th>2805</th>\n",
       "      <td>10</td>\n",
       "      <td>first</td>\n",
       "      <td>last</td>\n",
       "      <td>Göteborg</td>\n",
       "      <td>SWE</td>\n",
       "      <td>0</td>\n",
       "      <td>167</td>\n",
       "      <td>63</td>\n",
       "      <td>1992</td>\n",
       "      <td></td>\n",
       "      <td>...</td>\n",
       "      <td></td>\n",
       "      <td></td>\n",
       "      <td>None</td>\n",
       "      <td></td>\n",
       "      <td></td>\n",
       "      <td>1965-06-22</td>\n",
       "      <td></td>\n",
       "      <td>0</td>\n",
       "      <td>0</td>\n",
       "      <td>22.589551</td>\n",
       "    </tr>\n",
       "  </tbody>\n",
       "</table>\n",
       "<p>5 rows × 23 columns</p>\n",
       "</div>"
      ],
      "text/plain": [
       "      id_y first_name last_name        city country_y  sex  height  weight  \\\n",
       "140      1      first      last    Göteborg       SWE    0     177      73   \n",
       "486     11      first      last  Arkelstorp       SWE    0     175      73   \n",
       "560      6      first      last      Sydney       AUS    0     185      73   \n",
       "729     16      first      last    Egersund       NOR    0     177      68   \n",
       "2805    10      first      last    Göteborg       SWE    0     167      63   \n",
       "\n",
       "      started competitions  ... sponsor3                      best_area  \\\n",
       "140      1996               ...           Railay beach, Krabi, Thailand   \n",
       "486      1998          1:a  ...                               Kjugekull   \n",
       "560      1992         last  ...                                  Sydney   \n",
       "729      1996               ...                              Rogaland ?   \n",
       "2805     1992               ...                                           \n",
       "\n",
       "     worst_area         guide_area  \\\n",
       "140        None                      \n",
       "486        None          Kjugekull   \n",
       "560        None                      \n",
       "729              Sirevåg, Egersund   \n",
       "2805       None                      \n",
       "\n",
       "                                              interests       birth  \\\n",
       "140                                                      1976-03-10   \n",
       "486   Play go, read books, listen to jazz and eating...  1980-01-09   \n",
       "560                                                      1970-12-02   \n",
       "729                                                      1973-04-15   \n",
       "2805                                                     1965-06-22   \n",
       "\n",
       "     presentation deactivated anonymous        bmi  \n",
       "140                         0         0  23.301095  \n",
       "486                         0         0  23.836735  \n",
       "560                         0         0  21.329438  \n",
       "729                         0         0  21.705129  \n",
       "2805                        0         0  22.589551  \n",
       "\n",
       "[5 rows x 23 columns]"
      ]
     },
     "execution_count": 50,
     "metadata": {},
     "output_type": "execute_result"
    }
   ],
   "source": [
    "elite_climber_df.head()"
   ]
  },
  {
   "cell_type": "code",
   "execution_count": 51,
   "metadata": {},
   "outputs": [
    {
     "data": {
      "text/plain": [
       "Series([], Name: weight, dtype: int64)"
      ]
     },
     "execution_count": 51,
     "metadata": {},
     "output_type": "execute_result"
    }
   ],
   "source": [
    "delete_df.weight"
   ]
  },
  {
   "cell_type": "code",
   "execution_count": 52,
   "metadata": {},
   "outputs": [
    {
     "data": {
      "text/html": [
       "<div>\n",
       "<style scoped>\n",
       "    .dataframe tbody tr th:only-of-type {\n",
       "        vertical-align: middle;\n",
       "    }\n",
       "\n",
       "    .dataframe tbody tr th {\n",
       "        vertical-align: top;\n",
       "    }\n",
       "\n",
       "    .dataframe thead th {\n",
       "        text-align: right;\n",
       "    }\n",
       "</style>\n",
       "<table border=\"1\" class=\"dataframe\">\n",
       "  <thead>\n",
       "    <tr style=\"text-align: right;\">\n",
       "      <th></th>\n",
       "      <th>id_y</th>\n",
       "      <th>first_name</th>\n",
       "      <th>last_name</th>\n",
       "      <th>city</th>\n",
       "      <th>country_y</th>\n",
       "      <th>sex</th>\n",
       "      <th>height</th>\n",
       "      <th>weight</th>\n",
       "      <th>started</th>\n",
       "      <th>competitions</th>\n",
       "      <th>...</th>\n",
       "      <th>sponsor3</th>\n",
       "      <th>best_area</th>\n",
       "      <th>worst_area</th>\n",
       "      <th>guide_area</th>\n",
       "      <th>interests</th>\n",
       "      <th>birth</th>\n",
       "      <th>presentation</th>\n",
       "      <th>deactivated</th>\n",
       "      <th>anonymous</th>\n",
       "      <th>bmi</th>\n",
       "    </tr>\n",
       "  </thead>\n",
       "  <tbody>\n",
       "  </tbody>\n",
       "</table>\n",
       "<p>0 rows × 23 columns</p>\n",
       "</div>"
      ],
      "text/plain": [
       "Empty DataFrame\n",
       "Columns: [id_y, first_name, last_name, city, country_y, sex, height, weight, started, competitions, occupation, sponsor1, sponsor2, sponsor3, best_area, worst_area, guide_area, interests, birth, presentation, deactivated, anonymous, bmi]\n",
       "Index: []\n",
       "\n",
       "[0 rows x 23 columns]"
      ]
     },
     "execution_count": 52,
     "metadata": {},
     "output_type": "execute_result"
    }
   ],
   "source": [
    "elite_climber_df[elite_climber_df.weight<25]"
   ]
  },
  {
   "cell_type": "code",
   "execution_count": 53,
   "metadata": {},
   "outputs": [
    {
     "data": {
      "text/html": [
       "<div>\n",
       "<style scoped>\n",
       "    .dataframe tbody tr th:only-of-type {\n",
       "        vertical-align: middle;\n",
       "    }\n",
       "\n",
       "    .dataframe tbody tr th {\n",
       "        vertical-align: top;\n",
       "    }\n",
       "\n",
       "    .dataframe thead th {\n",
       "        text-align: right;\n",
       "    }\n",
       "</style>\n",
       "<table border=\"1\" class=\"dataframe\">\n",
       "  <thead>\n",
       "    <tr style=\"text-align: right;\">\n",
       "      <th></th>\n",
       "      <th>id_y</th>\n",
       "      <th>first_name</th>\n",
       "      <th>last_name</th>\n",
       "      <th>city</th>\n",
       "      <th>country_y</th>\n",
       "      <th>sex</th>\n",
       "      <th>height</th>\n",
       "      <th>weight</th>\n",
       "      <th>started</th>\n",
       "      <th>competitions</th>\n",
       "      <th>...</th>\n",
       "      <th>sponsor3</th>\n",
       "      <th>best_area</th>\n",
       "      <th>worst_area</th>\n",
       "      <th>guide_area</th>\n",
       "      <th>interests</th>\n",
       "      <th>birth</th>\n",
       "      <th>presentation</th>\n",
       "      <th>deactivated</th>\n",
       "      <th>anonymous</th>\n",
       "      <th>bmi</th>\n",
       "    </tr>\n",
       "  </thead>\n",
       "  <tbody>\n",
       "  </tbody>\n",
       "</table>\n",
       "<p>0 rows × 23 columns</p>\n",
       "</div>"
      ],
      "text/plain": [
       "Empty DataFrame\n",
       "Columns: [id_y, first_name, last_name, city, country_y, sex, height, weight, started, competitions, occupation, sponsor1, sponsor2, sponsor3, best_area, worst_area, guide_area, interests, birth, presentation, deactivated, anonymous, bmi]\n",
       "Index: []\n",
       "\n",
       "[0 rows x 23 columns]"
      ]
     },
     "execution_count": 53,
     "metadata": {},
     "output_type": "execute_result"
    }
   ],
   "source": [
    "elite_climber_df[elite_climber_df.height<30]"
   ]
  },
  {
   "cell_type": "code",
   "execution_count": 54,
   "metadata": {},
   "outputs": [],
   "source": [
    "high_bmi_elite = elite_climber_df[elite_climber_df.bmi>30]"
   ]
  },
  {
   "cell_type": "code",
   "execution_count": 55,
   "metadata": {},
   "outputs": [
    {
     "data": {
      "text/plain": [
       "<AxesSubplot:>"
      ]
     },
     "execution_count": 55,
     "metadata": {},
     "output_type": "execute_result"
    },
    {
     "data": {
      "image/png": "[encoded data removed]",
      "text/plain": [
       "<Figure size 432x288 with 1 Axes>"
      ]
     },
     "metadata": {
      "needs_background": "light"
     },
     "output_type": "display_data"
    }
   ],
   "source": [
    "high_bmi_elite.height.hist()"
   ]
  },
  {
   "cell_type": "code",
   "execution_count": 56,
   "metadata": {},
   "outputs": [
    {
     "data": {
      "text/plain": [
       "<AxesSubplot:>"
      ]
     },
     "execution_count": 56,
     "metadata": {},
     "output_type": "execute_result"
    },
    {
     "data": {
      "image/png": "[encoded data removed]",
      "text/plain": [
       "<Figure size 432x288 with 1 Axes>"
      ]
     },
     "metadata": {
      "needs_background": "light"
     },
     "output_type": "display_data"
    }
   ],
   "source": [
    "high_bmi_elite.weight.hist()"
   ]
  },
  {
   "cell_type": "code",
   "execution_count": 57,
   "metadata": {},
   "outputs": [
    {
     "data": {
      "text/plain": [
       "100    50\n",
       "98      8\n",
       "93      5\n",
       "88      5\n",
       "68      5\n",
       "78      3\n",
       "40      3\n",
       "63      2\n",
       "83      1\n",
       "53      1\n",
       "Name: weight, dtype: int64"
      ]
     },
     "execution_count": 57,
     "metadata": {},
     "output_type": "execute_result"
    }
   ],
   "source": [
    "high_bmi_elite.weight.value_counts()"
   ]
  },
  {
   "cell_type": "code",
   "execution_count": 58,
   "metadata": {},
   "outputs": [],
   "source": [
    "weight_100 = high_bmi_elite[high_bmi_elite.weight >=100]"
   ]
  },
  {
   "cell_type": "code",
   "execution_count": 59,
   "metadata": {},
   "outputs": [
    {
     "data": {
      "text/html": [
       "<div>\n",
       "<style scoped>\n",
       "    .dataframe tbody tr th:only-of-type {\n",
       "        vertical-align: middle;\n",
       "    }\n",
       "\n",
       "    .dataframe tbody tr th {\n",
       "        vertical-align: top;\n",
       "    }\n",
       "\n",
       "    .dataframe thead th {\n",
       "        text-align: right;\n",
       "    }\n",
       "</style>\n",
       "<table border=\"1\" class=\"dataframe\">\n",
       "  <thead>\n",
       "    <tr style=\"text-align: right;\">\n",
       "      <th></th>\n",
       "      <th>id_y</th>\n",
       "      <th>first_name</th>\n",
       "      <th>last_name</th>\n",
       "      <th>city</th>\n",
       "      <th>country_y</th>\n",
       "      <th>sex</th>\n",
       "      <th>height</th>\n",
       "      <th>weight</th>\n",
       "      <th>started</th>\n",
       "      <th>competitions</th>\n",
       "      <th>...</th>\n",
       "      <th>sponsor3</th>\n",
       "      <th>best_area</th>\n",
       "      <th>worst_area</th>\n",
       "      <th>guide_area</th>\n",
       "      <th>interests</th>\n",
       "      <th>birth</th>\n",
       "      <th>presentation</th>\n",
       "      <th>deactivated</th>\n",
       "      <th>anonymous</th>\n",
       "      <th>bmi</th>\n",
       "    </tr>\n",
       "  </thead>\n",
       "  <tbody>\n",
       "    <tr>\n",
       "      <th>138370</th>\n",
       "      <td>1497</td>\n",
       "      <td>first</td>\n",
       "      <td>last</td>\n",
       "      <td>Bilbao</td>\n",
       "      <td>ESP</td>\n",
       "      <td>0</td>\n",
       "      <td>176</td>\n",
       "      <td>100</td>\n",
       "      <td>1998</td>\n",
       "      <td></td>\n",
       "      <td>...</td>\n",
       "      <td></td>\n",
       "      <td></td>\n",
       "      <td>None</td>\n",
       "      <td></td>\n",
       "      <td></td>\n",
       "      <td>1977-08-20</td>\n",
       "      <td></td>\n",
       "      <td>0</td>\n",
       "      <td>0</td>\n",
       "      <td>32.283058</td>\n",
       "    </tr>\n",
       "    <tr>\n",
       "      <th>142559</th>\n",
       "      <td>1552</td>\n",
       "      <td>first</td>\n",
       "      <td>last</td>\n",
       "      <td>Grenoble</td>\n",
       "      <td>FRA</td>\n",
       "      <td>0</td>\n",
       "      <td>150</td>\n",
       "      <td>100</td>\n",
       "      <td>1942</td>\n",
       "      <td>KGB</td>\n",
       "      <td>...</td>\n",
       "      <td>Mastoblax</td>\n",
       "      <td>blocs de lumbin</td>\n",
       "      <td>None</td>\n",
       "      <td>FNAC</td>\n",
       "      <td>engager comme un porc</td>\n",
       "      <td>1941-05-26</td>\n",
       "      <td>j'arrive pas a rentrer\\r\\nc'est quoi le code?</td>\n",
       "      <td>0</td>\n",
       "      <td>0</td>\n",
       "      <td>44.444444</td>\n",
       "    </tr>\n",
       "    <tr>\n",
       "      <th>158060</th>\n",
       "      <td>1779</td>\n",
       "      <td>first</td>\n",
       "      <td>last</td>\n",
       "      <td>Canada</td>\n",
       "      <td>CAN</td>\n",
       "      <td>0</td>\n",
       "      <td>180</td>\n",
       "      <td>100</td>\n",
       "      <td>2000</td>\n",
       "      <td></td>\n",
       "      <td>...</td>\n",
       "      <td></td>\n",
       "      <td>Lions Head</td>\n",
       "      <td>None</td>\n",
       "      <td></td>\n",
       "      <td></td>\n",
       "      <td>1974-05-18</td>\n",
       "      <td></td>\n",
       "      <td>0</td>\n",
       "      <td>0</td>\n",
       "      <td>30.864198</td>\n",
       "    </tr>\n",
       "    <tr>\n",
       "      <th>264310</th>\n",
       "      <td>2817</td>\n",
       "      <td>first</td>\n",
       "      <td>last</td>\n",
       "      <td>Gosford</td>\n",
       "      <td>AUS</td>\n",
       "      <td>0</td>\n",
       "      <td>180</td>\n",
       "      <td>100</td>\n",
       "      <td>1997</td>\n",
       "      <td>2nd prize in a beauty contest</td>\n",
       "      <td>...</td>\n",
       "      <td></td>\n",
       "      <td></td>\n",
       "      <td>None</td>\n",
       "      <td></td>\n",
       "      <td></td>\n",
       "      <td>1978-06-10</td>\n",
       "      <td></td>\n",
       "      <td>0</td>\n",
       "      <td>0</td>\n",
       "      <td>30.864198</td>\n",
       "    </tr>\n",
       "    <tr>\n",
       "      <th>271687</th>\n",
       "      <td>2913</td>\n",
       "      <td>first</td>\n",
       "      <td>last</td>\n",
       "      <td>Adelaide</td>\n",
       "      <td>AUS</td>\n",
       "      <td>0</td>\n",
       "      <td>175</td>\n",
       "      <td>100</td>\n",
       "      <td>1994</td>\n",
       "      <td></td>\n",
       "      <td>...</td>\n",
       "      <td></td>\n",
       "      <td></td>\n",
       "      <td></td>\n",
       "      <td></td>\n",
       "      <td></td>\n",
       "      <td>None</td>\n",
       "      <td></td>\n",
       "      <td>0</td>\n",
       "      <td>0</td>\n",
       "      <td>32.653061</td>\n",
       "    </tr>\n",
       "    <tr>\n",
       "      <th>295418</th>\n",
       "      <td>3258</td>\n",
       "      <td>first</td>\n",
       "      <td>last</td>\n",
       "      <td>boulder</td>\n",
       "      <td>USA</td>\n",
       "      <td>0</td>\n",
       "      <td>120</td>\n",
       "      <td>100</td>\n",
       "      <td>2003</td>\n",
       "      <td></td>\n",
       "      <td>...</td>\n",
       "      <td></td>\n",
       "      <td></td>\n",
       "      <td>None</td>\n",
       "      <td></td>\n",
       "      <td></td>\n",
       "      <td>None</td>\n",
       "      <td></td>\n",
       "      <td>0</td>\n",
       "      <td>0</td>\n",
       "      <td>69.444444</td>\n",
       "    </tr>\n",
       "    <tr>\n",
       "      <th>324326</th>\n",
       "      <td>3655</td>\n",
       "      <td>first</td>\n",
       "      <td>last</td>\n",
       "      <td>Kølis og Bergen</td>\n",
       "      <td>NOR</td>\n",
       "      <td>1</td>\n",
       "      <td>170</td>\n",
       "      <td>100</td>\n",
       "      <td>2000</td>\n",
       "      <td></td>\n",
       "      <td>...</td>\n",
       "      <td></td>\n",
       "      <td></td>\n",
       "      <td>None</td>\n",
       "      <td></td>\n",
       "      <td>Gå på bingo.</td>\n",
       "      <td>None</td>\n",
       "      <td></td>\n",
       "      <td>0</td>\n",
       "      <td>0</td>\n",
       "      <td>34.602076</td>\n",
       "    </tr>\n",
       "    <tr>\n",
       "      <th>506751</th>\n",
       "      <td>5566</td>\n",
       "      <td>first</td>\n",
       "      <td>last</td>\n",
       "      <td>Enschede</td>\n",
       "      <td>NLD</td>\n",
       "      <td>1</td>\n",
       "      <td>168</td>\n",
       "      <td>100</td>\n",
       "      <td>1999</td>\n",
       "      <td></td>\n",
       "      <td>...</td>\n",
       "      <td></td>\n",
       "      <td></td>\n",
       "      <td>None</td>\n",
       "      <td></td>\n",
       "      <td></td>\n",
       "      <td>1979-01-12</td>\n",
       "      <td></td>\n",
       "      <td>0</td>\n",
       "      <td>0</td>\n",
       "      <td>35.430839</td>\n",
       "    </tr>\n",
       "    <tr>\n",
       "      <th>583959</th>\n",
       "      <td>6572</td>\n",
       "      <td>first</td>\n",
       "      <td>last</td>\n",
       "      <td>Vienna</td>\n",
       "      <td>BEL</td>\n",
       "      <td>0</td>\n",
       "      <td>178</td>\n",
       "      <td>100</td>\n",
       "      <td>2000</td>\n",
       "      <td></td>\n",
       "      <td>...</td>\n",
       "      <td>Monkee clothing</td>\n",
       "      <td>Wild Site/Elephanté/Céüse/Freyr/Vosges</td>\n",
       "      <td>None</td>\n",
       "      <td></td>\n",
       "      <td>Beer and crisps</td>\n",
       "      <td>1985-06-28</td>\n",
       "      <td>Sponsored by: La Sportiva, Monkee clothing, Ra...</td>\n",
       "      <td>0</td>\n",
       "      <td>0</td>\n",
       "      <td>31.561672</td>\n",
       "    </tr>\n",
       "    <tr>\n",
       "      <th>604892</th>\n",
       "      <td>6859</td>\n",
       "      <td>first</td>\n",
       "      <td>last</td>\n",
       "      <td>Bergen</td>\n",
       "      <td>NOR</td>\n",
       "      <td>0</td>\n",
       "      <td>160</td>\n",
       "      <td>100</td>\n",
       "      <td>2003</td>\n",
       "      <td></td>\n",
       "      <td>...</td>\n",
       "      <td></td>\n",
       "      <td>Lokøy</td>\n",
       "      <td>None</td>\n",
       "      <td>The bucketwall and Lokøy</td>\n",
       "      <td>walks in the nature, wine with good friends.</td>\n",
       "      <td>None</td>\n",
       "      <td>Just started this wonderful sport. I like to t...</td>\n",
       "      <td>0</td>\n",
       "      <td>0</td>\n",
       "      <td>39.062500</td>\n",
       "    </tr>\n",
       "    <tr>\n",
       "      <th>684625</th>\n",
       "      <td>8011</td>\n",
       "      <td>first</td>\n",
       "      <td>last</td>\n",
       "      <td>Oslo</td>\n",
       "      <td>NOR</td>\n",
       "      <td>0</td>\n",
       "      <td>173</td>\n",
       "      <td>100</td>\n",
       "      <td>2012</td>\n",
       "      <td>førsteplass i skådalen classics</td>\n",
       "      <td>...</td>\n",
       "      <td></td>\n",
       "      <td>Skådalen</td>\n",
       "      <td>None</td>\n",
       "      <td>Skådalen</td>\n",
       "      <td>Cycling.</td>\n",
       "      <td>None</td>\n",
       "      <td></td>\n",
       "      <td>0</td>\n",
       "      <td>0</td>\n",
       "      <td>33.412409</td>\n",
       "    </tr>\n",
       "    <tr>\n",
       "      <th>772023</th>\n",
       "      <td>9049</td>\n",
       "      <td>first</td>\n",
       "      <td>last</td>\n",
       "      <td>Benicarló/Margalef</td>\n",
       "      <td>PLW</td>\n",
       "      <td>0</td>\n",
       "      <td>182</td>\n",
       "      <td>100</td>\n",
       "      <td>2002</td>\n",
       "      <td></td>\n",
       "      <td>...</td>\n",
       "      <td></td>\n",
       "      <td></td>\n",
       "      <td>None</td>\n",
       "      <td></td>\n",
       "      <td></td>\n",
       "      <td>1979-11-08</td>\n",
       "      <td></td>\n",
       "      <td>0</td>\n",
       "      <td>0</td>\n",
       "      <td>30.189591</td>\n",
       "    </tr>\n",
       "    <tr>\n",
       "      <th>854759</th>\n",
       "      <td>9975</td>\n",
       "      <td>first</td>\n",
       "      <td>last</td>\n",
       "      <td></td>\n",
       "      <td>AUT</td>\n",
       "      <td>0</td>\n",
       "      <td>180</td>\n",
       "      <td>100</td>\n",
       "      <td>2004</td>\n",
       "      <td></td>\n",
       "      <td>...</td>\n",
       "      <td></td>\n",
       "      <td></td>\n",
       "      <td>None</td>\n",
       "      <td>himmel</td>\n",
       "      <td></td>\n",
       "      <td>1973-05-10</td>\n",
       "      <td></td>\n",
       "      <td>0</td>\n",
       "      <td>0</td>\n",
       "      <td>30.864198</td>\n",
       "    </tr>\n",
       "    <tr>\n",
       "      <th>882629</th>\n",
       "      <td>10374</td>\n",
       "      <td>first</td>\n",
       "      <td>last</td>\n",
       "      <td>Calgary</td>\n",
       "      <td>CAN</td>\n",
       "      <td>0</td>\n",
       "      <td>150</td>\n",
       "      <td>100</td>\n",
       "      <td>1990</td>\n",
       "      <td></td>\n",
       "      <td>...</td>\n",
       "      <td></td>\n",
       "      <td></td>\n",
       "      <td>None</td>\n",
       "      <td>Can Rockies</td>\n",
       "      <td></td>\n",
       "      <td>1972-08-06</td>\n",
       "      <td></td>\n",
       "      <td>0</td>\n",
       "      <td>0</td>\n",
       "      <td>44.444444</td>\n",
       "    </tr>\n",
       "    <tr>\n",
       "      <th>961925</th>\n",
       "      <td>10694</td>\n",
       "      <td>first</td>\n",
       "      <td>last</td>\n",
       "      <td>Carcavelos</td>\n",
       "      <td>PRT</td>\n",
       "      <td>0</td>\n",
       "      <td>120</td>\n",
       "      <td>100</td>\n",
       "      <td>1915</td>\n",
       "      <td></td>\n",
       "      <td>...</td>\n",
       "      <td></td>\n",
       "      <td></td>\n",
       "      <td>None</td>\n",
       "      <td></td>\n",
       "      <td></td>\n",
       "      <td>None</td>\n",
       "      <td></td>\n",
       "      <td>0</td>\n",
       "      <td>0</td>\n",
       "      <td>69.444444</td>\n",
       "    </tr>\n",
       "    <tr>\n",
       "      <th>963046</th>\n",
       "      <td>11412</td>\n",
       "      <td>first</td>\n",
       "      <td>last</td>\n",
       "      <td>Stavanger</td>\n",
       "      <td>NOR</td>\n",
       "      <td>0</td>\n",
       "      <td>176</td>\n",
       "      <td>100</td>\n",
       "      <td>1999</td>\n",
       "      <td></td>\n",
       "      <td>...</td>\n",
       "      <td></td>\n",
       "      <td></td>\n",
       "      <td>None</td>\n",
       "      <td>Rogaland</td>\n",
       "      <td></td>\n",
       "      <td>1981-01-09</td>\n",
       "      <td></td>\n",
       "      <td>0</td>\n",
       "      <td>0</td>\n",
       "      <td>32.283058</td>\n",
       "    </tr>\n",
       "    <tr>\n",
       "      <th>967530</th>\n",
       "      <td>11468</td>\n",
       "      <td>first</td>\n",
       "      <td>last</td>\n",
       "      <td>warrimoo nsw</td>\n",
       "      <td>AUS</td>\n",
       "      <td>0</td>\n",
       "      <td>180</td>\n",
       "      <td>100</td>\n",
       "      <td>2001</td>\n",
       "      <td></td>\n",
       "      <td>...</td>\n",
       "      <td></td>\n",
       "      <td>the darrans, nz</td>\n",
       "      <td>None</td>\n",
       "      <td>guide what</td>\n",
       "      <td>skiing</td>\n",
       "      <td>1980-02-03</td>\n",
       "      <td></td>\n",
       "      <td>0</td>\n",
       "      <td>0</td>\n",
       "      <td>30.864198</td>\n",
       "    </tr>\n",
       "    <tr>\n",
       "      <th>1045502</th>\n",
       "      <td>12532</td>\n",
       "      <td>first</td>\n",
       "      <td>last</td>\n",
       "      <td>Innsbruck</td>\n",
       "      <td>AUT</td>\n",
       "      <td>0</td>\n",
       "      <td>146</td>\n",
       "      <td>100</td>\n",
       "      <td>1980</td>\n",
       "      <td></td>\n",
       "      <td>...</td>\n",
       "      <td></td>\n",
       "      <td></td>\n",
       "      <td>None</td>\n",
       "      <td></td>\n",
       "      <td></td>\n",
       "      <td>1968-09-25</td>\n",
       "      <td></td>\n",
       "      <td>0</td>\n",
       "      <td>0</td>\n",
       "      <td>46.913117</td>\n",
       "    </tr>\n",
       "    <tr>\n",
       "      <th>1056335</th>\n",
       "      <td>12691</td>\n",
       "      <td>first</td>\n",
       "      <td>last</td>\n",
       "      <td>Trimmis</td>\n",
       "      <td>CHE</td>\n",
       "      <td>0</td>\n",
       "      <td>175</td>\n",
       "      <td>100</td>\n",
       "      <td>2000</td>\n",
       "      <td></td>\n",
       "      <td>...</td>\n",
       "      <td></td>\n",
       "      <td>überall ischs geil !!!!!!!!</td>\n",
       "      <td>None</td>\n",
       "      <td>avers, cresciano</td>\n",
       "      <td></td>\n",
       "      <td>1979-07-11</td>\n",
       "      <td></td>\n",
       "      <td>0</td>\n",
       "      <td>0</td>\n",
       "      <td>32.653061</td>\n",
       "    </tr>\n",
       "    <tr>\n",
       "      <th>1214146</th>\n",
       "      <td>15056</td>\n",
       "      <td>first</td>\n",
       "      <td>last</td>\n",
       "      <td>Guanarara</td>\n",
       "      <td>HND</td>\n",
       "      <td>0</td>\n",
       "      <td>160</td>\n",
       "      <td>100</td>\n",
       "      <td>2000</td>\n",
       "      <td></td>\n",
       "      <td>...</td>\n",
       "      <td></td>\n",
       "      <td></td>\n",
       "      <td>None</td>\n",
       "      <td></td>\n",
       "      <td></td>\n",
       "      <td>None</td>\n",
       "      <td></td>\n",
       "      <td>0</td>\n",
       "      <td>0</td>\n",
       "      <td>39.062500</td>\n",
       "    </tr>\n",
       "    <tr>\n",
       "      <th>1215624</th>\n",
       "      <td>15069</td>\n",
       "      <td>first</td>\n",
       "      <td>last</td>\n",
       "      <td>Catalunya</td>\n",
       "      <td>MSR</td>\n",
       "      <td>0</td>\n",
       "      <td>177</td>\n",
       "      <td>100</td>\n",
       "      <td>1996</td>\n",
       "      <td></td>\n",
       "      <td>...</td>\n",
       "      <td></td>\n",
       "      <td></td>\n",
       "      <td>None</td>\n",
       "      <td></td>\n",
       "      <td></td>\n",
       "      <td>None</td>\n",
       "      <td></td>\n",
       "      <td>0</td>\n",
       "      <td>0</td>\n",
       "      <td>31.919308</td>\n",
       "    </tr>\n",
       "    <tr>\n",
       "      <th>1246399</th>\n",
       "      <td>15416</td>\n",
       "      <td>first</td>\n",
       "      <td>last</td>\n",
       "      <td>Lorüns</td>\n",
       "      <td>AUT</td>\n",
       "      <td>0</td>\n",
       "      <td>182</td>\n",
       "      <td>100</td>\n",
       "      <td>2004</td>\n",
       "      <td></td>\n",
       "      <td>...</td>\n",
       "      <td>Ninnuha 8a Mühlau (copy and paste the link)</td>\n",
       "      <td>a 100% in the presence, wherever the location ...</td>\n",
       "      <td>None</td>\n",
       "      <td></td>\n",
       "      <td></td>\n",
       "      <td>1990-12-09</td>\n",
       "      <td>Bringing my creativity onto the rocks,  always...</td>\n",
       "      <td>0</td>\n",
       "      <td>0</td>\n",
       "      <td>30.189591</td>\n",
       "    </tr>\n",
       "    <tr>\n",
       "      <th>1246522</th>\n",
       "      <td>15422</td>\n",
       "      <td>first</td>\n",
       "      <td>last</td>\n",
       "      <td>Madrid</td>\n",
       "      <td>ESP</td>\n",
       "      <td>0</td>\n",
       "      <td>175</td>\n",
       "      <td>100</td>\n",
       "      <td>2000</td>\n",
       "      <td>1º en cagaleras a 0,1m de la chapa</td>\n",
       "      <td>...</td>\n",
       "      <td></td>\n",
       "      <td>Pedriza</td>\n",
       "      <td>None</td>\n",
       "      <td></td>\n",
       "      <td>Mountain Bike, Trekking, Friendship and Beers</td>\n",
       "      <td>1981-08-13</td>\n",
       "      <td></td>\n",
       "      <td>0</td>\n",
       "      <td>0</td>\n",
       "      <td>32.653061</td>\n",
       "    </tr>\n",
       "    <tr>\n",
       "      <th>1442412</th>\n",
       "      <td>16985</td>\n",
       "      <td>first</td>\n",
       "      <td>last</td>\n",
       "      <td>Dalaas</td>\n",
       "      <td>AUT</td>\n",
       "      <td>0</td>\n",
       "      <td>175</td>\n",
       "      <td>100</td>\n",
       "      <td>2004</td>\n",
       "      <td></td>\n",
       "      <td>...</td>\n",
       "      <td></td>\n",
       "      <td></td>\n",
       "      <td>None</td>\n",
       "      <td></td>\n",
       "      <td></td>\n",
       "      <td>1991-12-22</td>\n",
       "      <td></td>\n",
       "      <td>0</td>\n",
       "      <td>0</td>\n",
       "      <td>32.653061</td>\n",
       "    </tr>\n",
       "    <tr>\n",
       "      <th>1462102</th>\n",
       "      <td>18105</td>\n",
       "      <td>first</td>\n",
       "      <td>last</td>\n",
       "      <td>parma</td>\n",
       "      <td>ITA</td>\n",
       "      <td>0</td>\n",
       "      <td>165</td>\n",
       "      <td>100</td>\n",
       "      <td>2001</td>\n",
       "      <td></td>\n",
       "      <td>...</td>\n",
       "      <td></td>\n",
       "      <td></td>\n",
       "      <td>None</td>\n",
       "      <td>Bismantova, Ceredo</td>\n",
       "      <td>Photo, snow, Car..MILF PUSSY</td>\n",
       "      <td>1982-09-08</td>\n",
       "      <td></td>\n",
       "      <td>0</td>\n",
       "      <td>0</td>\n",
       "      <td>36.730946</td>\n",
       "    </tr>\n",
       "    <tr>\n",
       "      <th>1564139</th>\n",
       "      <td>19324</td>\n",
       "      <td>first</td>\n",
       "      <td>last</td>\n",
       "      <td>Habach</td>\n",
       "      <td>DEU</td>\n",
       "      <td>0</td>\n",
       "      <td>171</td>\n",
       "      <td>100</td>\n",
       "      <td>2002</td>\n",
       "      <td>3rd EYS Kranj 2008</td>\n",
       "      <td>...</td>\n",
       "      <td>edelrid</td>\n",
       "      <td>Schleierwasserfall, Achleiten</td>\n",
       "      <td>None</td>\n",
       "      <td>Achleiten, Schleierwasserfall</td>\n",
       "      <td>mountaineering, ski-touring, skiing, cycling etc.</td>\n",
       "      <td>1992-01-01</td>\n",
       "      <td>Started climbing with my Dad</td>\n",
       "      <td>0</td>\n",
       "      <td>0</td>\n",
       "      <td>34.198557</td>\n",
       "    </tr>\n",
       "    <tr>\n",
       "      <th>1622984</th>\n",
       "      <td>20092</td>\n",
       "      <td>first</td>\n",
       "      <td>last</td>\n",
       "      <td>st pierre d'albigny</td>\n",
       "      <td>FRA</td>\n",
       "      <td>0</td>\n",
       "      <td>180</td>\n",
       "      <td>100</td>\n",
       "      <td>0</td>\n",
       "      <td></td>\n",
       "      <td>...</td>\n",
       "      <td></td>\n",
       "      <td>Savoisie</td>\n",
       "      <td>None</td>\n",
       "      <td></td>\n",
       "      <td>Équiper des bouses sur des sites bousiques, da...</td>\n",
       "      <td>1979-03-15</td>\n",
       "      <td></td>\n",
       "      <td>0</td>\n",
       "      <td>0</td>\n",
       "      <td>30.864198</td>\n",
       "    </tr>\n",
       "    <tr>\n",
       "      <th>1727318</th>\n",
       "      <td>21459</td>\n",
       "      <td>first</td>\n",
       "      <td>last</td>\n",
       "      <td>Oslo</td>\n",
       "      <td>NOR</td>\n",
       "      <td>1</td>\n",
       "      <td>174</td>\n",
       "      <td>100</td>\n",
       "      <td>2004</td>\n",
       "      <td></td>\n",
       "      <td>...</td>\n",
       "      <td></td>\n",
       "      <td></td>\n",
       "      <td>None</td>\n",
       "      <td></td>\n",
       "      <td></td>\n",
       "      <td>1991-06-01</td>\n",
       "      <td></td>\n",
       "      <td>0</td>\n",
       "      <td>0</td>\n",
       "      <td>33.029462</td>\n",
       "    </tr>\n",
       "    <tr>\n",
       "      <th>1751071</th>\n",
       "      <td>21735</td>\n",
       "      <td>first</td>\n",
       "      <td>last</td>\n",
       "      <td>Keswick</td>\n",
       "      <td>GBR</td>\n",
       "      <td>0</td>\n",
       "      <td>180</td>\n",
       "      <td>100</td>\n",
       "      <td>2003</td>\n",
       "      <td></td>\n",
       "      <td>...</td>\n",
       "      <td></td>\n",
       "      <td></td>\n",
       "      <td>None</td>\n",
       "      <td></td>\n",
       "      <td></td>\n",
       "      <td>1987-05-18</td>\n",
       "      <td></td>\n",
       "      <td>0</td>\n",
       "      <td>0</td>\n",
       "      <td>30.864198</td>\n",
       "    </tr>\n",
       "    <tr>\n",
       "      <th>1787529</th>\n",
       "      <td>21589</td>\n",
       "      <td>first</td>\n",
       "      <td>last</td>\n",
       "      <td>Oslo</td>\n",
       "      <td>NOR</td>\n",
       "      <td>0</td>\n",
       "      <td>170</td>\n",
       "      <td>100</td>\n",
       "      <td>2006</td>\n",
       "      <td>4th World Youth Championship 2011</td>\n",
       "      <td>...</td>\n",
       "      <td></td>\n",
       "      <td>Catalunya</td>\n",
       "      <td>None</td>\n",
       "      <td></td>\n",
       "      <td></td>\n",
       "      <td>1996-05-01</td>\n",
       "      <td></td>\n",
       "      <td>0</td>\n",
       "      <td>0</td>\n",
       "      <td>34.602076</td>\n",
       "    </tr>\n",
       "    <tr>\n",
       "      <th>1995816</th>\n",
       "      <td>24587</td>\n",
       "      <td>first</td>\n",
       "      <td>last</td>\n",
       "      <td>Barcelona</td>\n",
       "      <td>ESP</td>\n",
       "      <td>0</td>\n",
       "      <td>180</td>\n",
       "      <td>100</td>\n",
       "      <td>2007</td>\n",
       "      <td></td>\n",
       "      <td>...</td>\n",
       "      <td></td>\n",
       "      <td></td>\n",
       "      <td>None</td>\n",
       "      <td></td>\n",
       "      <td></td>\n",
       "      <td>1983-10-04</td>\n",
       "      <td></td>\n",
       "      <td>0</td>\n",
       "      <td>0</td>\n",
       "      <td>30.864198</td>\n",
       "    </tr>\n",
       "    <tr>\n",
       "      <th>2129542</th>\n",
       "      <td>26524</td>\n",
       "      <td>first</td>\n",
       "      <td>last</td>\n",
       "      <td>portland ORYGUN</td>\n",
       "      <td>USA</td>\n",
       "      <td>0</td>\n",
       "      <td>177</td>\n",
       "      <td>100</td>\n",
       "      <td>2006</td>\n",
       "      <td></td>\n",
       "      <td>...</td>\n",
       "      <td></td>\n",
       "      <td></td>\n",
       "      <td>None</td>\n",
       "      <td></td>\n",
       "      <td></td>\n",
       "      <td>1987-12-09</td>\n",
       "      <td></td>\n",
       "      <td>0</td>\n",
       "      <td>0</td>\n",
       "      <td>31.919308</td>\n",
       "    </tr>\n",
       "    <tr>\n",
       "      <th>2193960</th>\n",
       "      <td>27435</td>\n",
       "      <td>first</td>\n",
       "      <td>last</td>\n",
       "      <td></td>\n",
       "      <td>YEM</td>\n",
       "      <td>0</td>\n",
       "      <td>120</td>\n",
       "      <td>100</td>\n",
       "      <td>0</td>\n",
       "      <td></td>\n",
       "      <td>...</td>\n",
       "      <td></td>\n",
       "      <td></td>\n",
       "      <td>None</td>\n",
       "      <td></td>\n",
       "      <td></td>\n",
       "      <td>None</td>\n",
       "      <td></td>\n",
       "      <td>1</td>\n",
       "      <td>0</td>\n",
       "      <td>69.444444</td>\n",
       "    </tr>\n",
       "    <tr>\n",
       "      <th>2248858</th>\n",
       "      <td>15331</td>\n",
       "      <td>first</td>\n",
       "      <td>last</td>\n",
       "      <td>Guara</td>\n",
       "      <td>ESP</td>\n",
       "      <td>0</td>\n",
       "      <td>155</td>\n",
       "      <td>100</td>\n",
       "      <td>0</td>\n",
       "      <td>el 10 de 9, yo tampoco me lo explico</td>\n",
       "      <td>...</td>\n",
       "      <td></td>\n",
       "      <td></td>\n",
       "      <td>None</td>\n",
       "      <td></td>\n",
       "      <td>papiroflexia</td>\n",
       "      <td>None</td>\n",
       "      <td></td>\n",
       "      <td>0</td>\n",
       "      <td>0</td>\n",
       "      <td>41.623309</td>\n",
       "    </tr>\n",
       "    <tr>\n",
       "      <th>2367524</th>\n",
       "      <td>29877</td>\n",
       "      <td>first</td>\n",
       "      <td>last</td>\n",
       "      <td>El brounx</td>\n",
       "      <td>MSR</td>\n",
       "      <td>0</td>\n",
       "      <td>180</td>\n",
       "      <td>100</td>\n",
       "      <td>2005</td>\n",
       "      <td></td>\n",
       "      <td>...</td>\n",
       "      <td></td>\n",
       "      <td>Catalunya</td>\n",
       "      <td>None</td>\n",
       "      <td>Montserrat</td>\n",
       "      <td></td>\n",
       "      <td>None</td>\n",
       "      <td></td>\n",
       "      <td>0</td>\n",
       "      <td>0</td>\n",
       "      <td>30.864198</td>\n",
       "    </tr>\n",
       "    <tr>\n",
       "      <th>2485959</th>\n",
       "      <td>28100</td>\n",
       "      <td>first</td>\n",
       "      <td>last</td>\n",
       "      <td>Curitiba</td>\n",
       "      <td>BRA</td>\n",
       "      <td>0</td>\n",
       "      <td>148</td>\n",
       "      <td>100</td>\n",
       "      <td>2008</td>\n",
       "      <td></td>\n",
       "      <td>...</td>\n",
       "      <td></td>\n",
       "      <td>Curucaca</td>\n",
       "      <td>None</td>\n",
       "      <td>São Luis do Purunã</td>\n",
       "      <td></td>\n",
       "      <td>1992-12-12</td>\n",
       "      <td></td>\n",
       "      <td>0</td>\n",
       "      <td>0</td>\n",
       "      <td>45.653762</td>\n",
       "    </tr>\n",
       "    <tr>\n",
       "      <th>2617467</th>\n",
       "      <td>33463</td>\n",
       "      <td>first</td>\n",
       "      <td>last</td>\n",
       "      <td></td>\n",
       "      <td>USA</td>\n",
       "      <td>0</td>\n",
       "      <td>177</td>\n",
       "      <td>100</td>\n",
       "      <td>2008</td>\n",
       "      <td></td>\n",
       "      <td>...</td>\n",
       "      <td></td>\n",
       "      <td>Bishop</td>\n",
       "      <td>None</td>\n",
       "      <td></td>\n",
       "      <td></td>\n",
       "      <td>None</td>\n",
       "      <td></td>\n",
       "      <td>0</td>\n",
       "      <td>0</td>\n",
       "      <td>31.919308</td>\n",
       "    </tr>\n",
       "    <tr>\n",
       "      <th>2898841</th>\n",
       "      <td>37594</td>\n",
       "      <td>first</td>\n",
       "      <td>last</td>\n",
       "      <td>LD</td>\n",
       "      <td>DEU</td>\n",
       "      <td>0</td>\n",
       "      <td>172</td>\n",
       "      <td>100</td>\n",
       "      <td>2002</td>\n",
       "      <td>Vorletzter</td>\n",
       "      <td>...</td>\n",
       "      <td></td>\n",
       "      <td>Siurana, Buoux, Mallorca, Ceüse, Frankenjura, ...</td>\n",
       "      <td>None</td>\n",
       "      <td>Pfalz</td>\n",
       "      <td>Snowboarden</td>\n",
       "      <td>None</td>\n",
       "      <td></td>\n",
       "      <td>0</td>\n",
       "      <td>0</td>\n",
       "      <td>33.802055</td>\n",
       "    </tr>\n",
       "    <tr>\n",
       "      <th>2919185</th>\n",
       "      <td>37836</td>\n",
       "      <td>first</td>\n",
       "      <td>last</td>\n",
       "      <td>Pewaukee</td>\n",
       "      <td>USA</td>\n",
       "      <td>0</td>\n",
       "      <td>174</td>\n",
       "      <td>100</td>\n",
       "      <td>0</td>\n",
       "      <td></td>\n",
       "      <td>...</td>\n",
       "      <td></td>\n",
       "      <td>Red River Gorge</td>\n",
       "      <td>None</td>\n",
       "      <td></td>\n",
       "      <td>Driving my ice cream truck to the crag.</td>\n",
       "      <td>None</td>\n",
       "      <td>I wish i were as good as interacting with peop...</td>\n",
       "      <td>0</td>\n",
       "      <td>0</td>\n",
       "      <td>33.029462</td>\n",
       "    </tr>\n",
       "    <tr>\n",
       "      <th>2927138</th>\n",
       "      <td>37965</td>\n",
       "      <td>first</td>\n",
       "      <td>last</td>\n",
       "      <td>Eucla</td>\n",
       "      <td>AUS</td>\n",
       "      <td>0</td>\n",
       "      <td>150</td>\n",
       "      <td>100</td>\n",
       "      <td>1922</td>\n",
       "      <td>Retired hurt, very hurt indeed</td>\n",
       "      <td>...</td>\n",
       "      <td></td>\n",
       "      <td>The mighty You Yangs</td>\n",
       "      <td>None</td>\n",
       "      <td>The mighty You Yangs</td>\n",
       "      <td>Lint</td>\n",
       "      <td>None</td>\n",
       "      <td></td>\n",
       "      <td>0</td>\n",
       "      <td>0</td>\n",
       "      <td>44.444444</td>\n",
       "    </tr>\n",
       "    <tr>\n",
       "      <th>2954291</th>\n",
       "      <td>38311</td>\n",
       "      <td>first</td>\n",
       "      <td>last</td>\n",
       "      <td>Ortisei</td>\n",
       "      <td>ITA</td>\n",
       "      <td>0</td>\n",
       "      <td>176</td>\n",
       "      <td>100</td>\n",
       "      <td>2007</td>\n",
       "      <td></td>\n",
       "      <td>...</td>\n",
       "      <td>Instagram</td>\n",
       "      <td>Finale, Eiszeit, Margalef</td>\n",
       "      <td>None</td>\n",
       "      <td>Pian Schiavaneis</td>\n",
       "      <td></td>\n",
       "      <td>1997-06-27</td>\n",
       "      <td></td>\n",
       "      <td>0</td>\n",
       "      <td>0</td>\n",
       "      <td>32.283058</td>\n",
       "    </tr>\n",
       "    <tr>\n",
       "      <th>3057735</th>\n",
       "      <td>40162</td>\n",
       "      <td>first</td>\n",
       "      <td>last</td>\n",
       "      <td>Wrexham</td>\n",
       "      <td>GBR</td>\n",
       "      <td>0</td>\n",
       "      <td>182</td>\n",
       "      <td>100</td>\n",
       "      <td>0</td>\n",
       "      <td></td>\n",
       "      <td>...</td>\n",
       "      <td></td>\n",
       "      <td></td>\n",
       "      <td>None</td>\n",
       "      <td></td>\n",
       "      <td></td>\n",
       "      <td>1978-09-19</td>\n",
       "      <td></td>\n",
       "      <td>0</td>\n",
       "      <td>0</td>\n",
       "      <td>30.189591</td>\n",
       "    </tr>\n",
       "    <tr>\n",
       "      <th>3154704</th>\n",
       "      <td>39999</td>\n",
       "      <td>first</td>\n",
       "      <td>last</td>\n",
       "      <td>new york</td>\n",
       "      <td>FRA</td>\n",
       "      <td>0</td>\n",
       "      <td>142</td>\n",
       "      <td>100</td>\n",
       "      <td>0</td>\n",
       "      <td></td>\n",
       "      <td>...</td>\n",
       "      <td></td>\n",
       "      <td></td>\n",
       "      <td>None</td>\n",
       "      <td></td>\n",
       "      <td></td>\n",
       "      <td>None</td>\n",
       "      <td></td>\n",
       "      <td>0</td>\n",
       "      <td>0</td>\n",
       "      <td>49.593335</td>\n",
       "    </tr>\n",
       "    <tr>\n",
       "      <th>3198744</th>\n",
       "      <td>42563</td>\n",
       "      <td>first</td>\n",
       "      <td>last</td>\n",
       "      <td>Neverlandt</td>\n",
       "      <td>BEL</td>\n",
       "      <td>0</td>\n",
       "      <td>180</td>\n",
       "      <td>100</td>\n",
       "      <td>2007</td>\n",
       "      <td>?</td>\n",
       "      <td>...</td>\n",
       "      <td>Nihil</td>\n",
       "      <td>Rodellar, Freyr, Santa Linya, Margalef, St Leger</td>\n",
       "      <td>None</td>\n",
       "      <td>Rodellar</td>\n",
       "      <td>http://www.singingrock.cz/koen-baekelandt</td>\n",
       "      <td>1995-11-07</td>\n",
       "      <td></td>\n",
       "      <td>0</td>\n",
       "      <td>0</td>\n",
       "      <td>30.864198</td>\n",
       "    </tr>\n",
       "    <tr>\n",
       "      <th>3291631</th>\n",
       "      <td>45178</td>\n",
       "      <td>first</td>\n",
       "      <td>last</td>\n",
       "      <td>madrid</td>\n",
       "      <td>ESP</td>\n",
       "      <td>0</td>\n",
       "      <td>170</td>\n",
       "      <td>100</td>\n",
       "      <td>1975</td>\n",
       "      <td>1º DEL BARRIO</td>\n",
       "      <td>...</td>\n",
       "      <td>Paulaner</td>\n",
       "      <td>TODAS</td>\n",
       "      <td>None</td>\n",
       "      <td>CUENCA-PEDRIZA</td>\n",
       "      <td></td>\n",
       "      <td>1974-05-10</td>\n",
       "      <td></td>\n",
       "      <td>0</td>\n",
       "      <td>0</td>\n",
       "      <td>34.602076</td>\n",
       "    </tr>\n",
       "    <tr>\n",
       "      <th>3396298</th>\n",
       "      <td>47312</td>\n",
       "      <td>first</td>\n",
       "      <td>last</td>\n",
       "      <td>moncul</td>\n",
       "      <td>FRA</td>\n",
       "      <td>0</td>\n",
       "      <td>135</td>\n",
       "      <td>100</td>\n",
       "      <td>1991</td>\n",
       "      <td></td>\n",
       "      <td>...</td>\n",
       "      <td></td>\n",
       "      <td></td>\n",
       "      <td>None</td>\n",
       "      <td></td>\n",
       "      <td></td>\n",
       "      <td>1936-12-25</td>\n",
       "      <td></td>\n",
       "      <td>0</td>\n",
       "      <td>0</td>\n",
       "      <td>54.869684</td>\n",
       "    </tr>\n",
       "    <tr>\n",
       "      <th>3566321</th>\n",
       "      <td>51398</td>\n",
       "      <td>first</td>\n",
       "      <td>last</td>\n",
       "      <td>Vienna</td>\n",
       "      <td>AUT</td>\n",
       "      <td>0</td>\n",
       "      <td>172</td>\n",
       "      <td>100</td>\n",
       "      <td>2008</td>\n",
       "      <td></td>\n",
       "      <td>...</td>\n",
       "      <td></td>\n",
       "      <td>Siurana maybe</td>\n",
       "      <td>None</td>\n",
       "      <td>Thali, Adlitzgräben, Hochkogel,...</td>\n",
       "      <td>Biology, Nutrition, playing instruments, creat...</td>\n",
       "      <td>1990-10-11</td>\n",
       "      <td>Check out my &lt;a href=\"https://www.youtube.com/...</td>\n",
       "      <td>0</td>\n",
       "      <td>0</td>\n",
       "      <td>33.802055</td>\n",
       "    </tr>\n",
       "    <tr>\n",
       "      <th>3610335</th>\n",
       "      <td>52420</td>\n",
       "      <td>first</td>\n",
       "      <td>last</td>\n",
       "      <td>Parma</td>\n",
       "      <td>ITA</td>\n",
       "      <td>0</td>\n",
       "      <td>176</td>\n",
       "      <td>100</td>\n",
       "      <td>0</td>\n",
       "      <td></td>\n",
       "      <td>...</td>\n",
       "      <td></td>\n",
       "      <td></td>\n",
       "      <td>None</td>\n",
       "      <td></td>\n",
       "      <td></td>\n",
       "      <td>1980-02-17</td>\n",
       "      <td></td>\n",
       "      <td>0</td>\n",
       "      <td>0</td>\n",
       "      <td>32.283058</td>\n",
       "    </tr>\n",
       "    <tr>\n",
       "      <th>3886746</th>\n",
       "      <td>59823</td>\n",
       "      <td>first</td>\n",
       "      <td>last</td>\n",
       "      <td>Hadley, Mass</td>\n",
       "      <td>USA</td>\n",
       "      <td>1</td>\n",
       "      <td>171</td>\n",
       "      <td>100</td>\n",
       "      <td>0</td>\n",
       "      <td>1st in a field of 1 (dyno comp)</td>\n",
       "      <td>...</td>\n",
       "      <td></td>\n",
       "      <td></td>\n",
       "      <td>None</td>\n",
       "      <td></td>\n",
       "      <td></td>\n",
       "      <td>None</td>\n",
       "      <td>I might have started climbing in the morning, ...</td>\n",
       "      <td>0</td>\n",
       "      <td>0</td>\n",
       "      <td>34.198557</td>\n",
       "    </tr>\n",
       "    <tr>\n",
       "      <th>3971952</th>\n",
       "      <td>61779</td>\n",
       "      <td>first</td>\n",
       "      <td>last</td>\n",
       "      <td>Hong Kong</td>\n",
       "      <td>HKG</td>\n",
       "      <td>1</td>\n",
       "      <td>159</td>\n",
       "      <td>100</td>\n",
       "      <td>2000</td>\n",
       "      <td></td>\n",
       "      <td>...</td>\n",
       "      <td></td>\n",
       "      <td></td>\n",
       "      <td>None</td>\n",
       "      <td></td>\n",
       "      <td></td>\n",
       "      <td>1976-05-12</td>\n",
       "      <td></td>\n",
       "      <td>0</td>\n",
       "      <td>0</td>\n",
       "      <td>39.555397</td>\n",
       "    </tr>\n",
       "  </tbody>\n",
       "</table>\n",
       "<p>50 rows × 23 columns</p>\n",
       "</div>"
      ],
      "text/plain": [
       "          id_y first_name last_name                 city country_y  sex  \\\n",
       "138370    1497      first      last               Bilbao       ESP    0   \n",
       "142559    1552      first      last             Grenoble       FRA    0   \n",
       "158060    1779      first      last               Canada       CAN    0   \n",
       "264310    2817      first      last              Gosford       AUS    0   \n",
       "271687    2913      first      last             Adelaide       AUS    0   \n",
       "295418    3258      first      last              boulder       USA    0   \n",
       "324326    3655      first      last      Kølis og Bergen       NOR    1   \n",
       "506751    5566      first      last             Enschede       NLD    1   \n",
       "583959    6572      first      last               Vienna       BEL    0   \n",
       "604892    6859      first      last               Bergen       NOR    0   \n",
       "684625    8011      first      last                 Oslo       NOR    0   \n",
       "772023    9049      first      last   Benicarló/Margalef       PLW    0   \n",
       "854759    9975      first      last                            AUT    0   \n",
       "882629   10374      first      last              Calgary       CAN    0   \n",
       "961925   10694      first      last           Carcavelos       PRT    0   \n",
       "963046   11412      first      last            Stavanger       NOR    0   \n",
       "967530   11468      first      last         warrimoo nsw       AUS    0   \n",
       "1045502  12532      first      last            Innsbruck       AUT    0   \n",
       "1056335  12691      first      last              Trimmis       CHE    0   \n",
       "1214146  15056      first      last            Guanarara       HND    0   \n",
       "1215624  15069      first      last            Catalunya       MSR    0   \n",
       "1246399  15416      first      last               Lorüns       AUT    0   \n",
       "1246522  15422      first      last               Madrid       ESP    0   \n",
       "1442412  16985      first      last               Dalaas       AUT    0   \n",
       "1462102  18105      first      last                parma       ITA    0   \n",
       "1564139  19324      first      last               Habach       DEU    0   \n",
       "1622984  20092      first      last  st pierre d'albigny       FRA    0   \n",
       "1727318  21459      first      last                 Oslo       NOR    1   \n",
       "1751071  21735      first      last              Keswick       GBR    0   \n",
       "1787529  21589      first      last                 Oslo       NOR    0   \n",
       "1995816  24587      first      last            Barcelona       ESP    0   \n",
       "2129542  26524      first      last      portland ORYGUN       USA    0   \n",
       "2193960  27435      first      last                            YEM    0   \n",
       "2248858  15331      first      last                Guara       ESP    0   \n",
       "2367524  29877      first      last            El brounx       MSR    0   \n",
       "2485959  28100      first      last             Curitiba       BRA    0   \n",
       "2617467  33463      first      last                            USA    0   \n",
       "2898841  37594      first      last                   LD       DEU    0   \n",
       "2919185  37836      first      last             Pewaukee       USA    0   \n",
       "2927138  37965      first      last                Eucla       AUS    0   \n",
       "2954291  38311      first      last              Ortisei       ITA    0   \n",
       "3057735  40162      first      last              Wrexham       GBR    0   \n",
       "3154704  39999      first      last             new york       FRA    0   \n",
       "3198744  42563      first      last           Neverlandt       BEL    0   \n",
       "3291631  45178      first      last               madrid       ESP    0   \n",
       "3396298  47312      first      last               moncul       FRA    0   \n",
       "3566321  51398      first      last               Vienna       AUT    0   \n",
       "3610335  52420      first      last                Parma       ITA    0   \n",
       "3886746  59823      first      last         Hadley, Mass       USA    1   \n",
       "3971952  61779      first      last            Hong Kong       HKG    1   \n",
       "\n",
       "         height  weight  started                          competitions  ...  \\\n",
       "138370      176     100     1998                                        ...   \n",
       "142559      150     100     1942                                   KGB  ...   \n",
       "158060      180     100     2000                                        ...   \n",
       "264310      180     100     1997         2nd prize in a beauty contest  ...   \n",
       "271687      175     100     1994                                        ...   \n",
       "295418      120     100     2003                                        ...   \n",
       "324326      170     100     2000                                        ...   \n",
       "506751      168     100     1999                                        ...   \n",
       "583959      178     100     2000                                        ...   \n",
       "604892      160     100     2003                                        ...   \n",
       "684625      173     100     2012       førsteplass i skådalen classics  ...   \n",
       "772023      182     100     2002                                        ...   \n",
       "854759      180     100     2004                                        ...   \n",
       "882629      150     100     1990                                        ...   \n",
       "961925      120     100     1915                                        ...   \n",
       "963046      176     100     1999                                        ...   \n",
       "967530      180     100     2001                                        ...   \n",
       "1045502     146     100     1980                                        ...   \n",
       "1056335     175     100     2000                                        ...   \n",
       "1214146     160     100     2000                                        ...   \n",
       "1215624     177     100     1996                                        ...   \n",
       "1246399     182     100     2004                                        ...   \n",
       "1246522     175     100     2000    1º en cagaleras a 0,1m de la chapa  ...   \n",
       "1442412     175     100     2004                                        ...   \n",
       "1462102     165     100     2001                                        ...   \n",
       "1564139     171     100     2002                    3rd EYS Kranj 2008  ...   \n",
       "1622984     180     100        0                                        ...   \n",
       "1727318     174     100     2004                                        ...   \n",
       "1751071     180     100     2003                                        ...   \n",
       "1787529     170     100     2006     4th World Youth Championship 2011  ...   \n",
       "1995816     180     100     2007                                        ...   \n",
       "2129542     177     100     2006                                        ...   \n",
       "2193960     120     100        0                                        ...   \n",
       "2248858     155     100        0  el 10 de 9, yo tampoco me lo explico  ...   \n",
       "2367524     180     100     2005                                        ...   \n",
       "2485959     148     100     2008                                        ...   \n",
       "2617467     177     100     2008                                        ...   \n",
       "2898841     172     100     2002                            Vorletzter  ...   \n",
       "2919185     174     100        0                                        ...   \n",
       "2927138     150     100     1922        Retired hurt, very hurt indeed  ...   \n",
       "2954291     176     100     2007                                        ...   \n",
       "3057735     182     100        0                                        ...   \n",
       "3154704     142     100        0                                        ...   \n",
       "3198744     180     100     2007                                     ?  ...   \n",
       "3291631     170     100     1975                         1º DEL BARRIO  ...   \n",
       "3396298     135     100     1991                                        ...   \n",
       "3566321     172     100     2008                                        ...   \n",
       "3610335     176     100        0                                        ...   \n",
       "3886746     171     100        0       1st in a field of 1 (dyno comp)  ...   \n",
       "3971952     159     100     2000                                        ...   \n",
       "\n",
       "                                            sponsor3  \\\n",
       "138370                                                 \n",
       "142559                                     Mastoblax   \n",
       "158060                                                 \n",
       "264310                                                 \n",
       "271687                                                 \n",
       "295418                                                 \n",
       "324326                                                 \n",
       "506751                                                 \n",
       "583959                               Monkee clothing   \n",
       "604892                                                 \n",
       "684625                                                 \n",
       "772023                                                 \n",
       "854759                                                 \n",
       "882629                                                 \n",
       "961925                                                 \n",
       "963046                                                 \n",
       "967530                                                 \n",
       "1045502                                                \n",
       "1056335                                                \n",
       "1214146                                                \n",
       "1215624                                                \n",
       "1246399  Ninnuha 8a Mühlau (copy and paste the link)   \n",
       "1246522                                                \n",
       "1442412                                                \n",
       "1462102                                                \n",
       "1564139                                      edelrid   \n",
       "1622984                                                \n",
       "1727318                                                \n",
       "1751071                                                \n",
       "1787529                                                \n",
       "1995816                                                \n",
       "2129542                                                \n",
       "2193960                                                \n",
       "2248858                                                \n",
       "2367524                                                \n",
       "2485959                                                \n",
       "2617467                                                \n",
       "2898841                                                \n",
       "2919185                                                \n",
       "2927138                                                \n",
       "2954291                                    Instagram   \n",
       "3057735                                                \n",
       "3154704                                                \n",
       "3198744                                        Nihil   \n",
       "3291631                                     Paulaner   \n",
       "3396298                                                \n",
       "3566321                                                \n",
       "3610335                                                \n",
       "3886746                                                \n",
       "3971952                                                \n",
       "\n",
       "                                                 best_area worst_area  \\\n",
       "138370                                                           None   \n",
       "142559                                     blocs de lumbin       None   \n",
       "158060                                          Lions Head       None   \n",
       "264310                                                           None   \n",
       "271687                                                                  \n",
       "295418                                                           None   \n",
       "324326                                                           None   \n",
       "506751                                                           None   \n",
       "583959              Wild Site/Elephanté/Céüse/Freyr/Vosges       None   \n",
       "604892                                               Lokøy       None   \n",
       "684625                                            Skådalen       None   \n",
       "772023                                                           None   \n",
       "854759                                                           None   \n",
       "882629                                                           None   \n",
       "961925                                                           None   \n",
       "963046                                                           None   \n",
       "967530                                     the darrans, nz       None   \n",
       "1045502                                                          None   \n",
       "1056335                        überall ischs geil !!!!!!!!       None   \n",
       "1214146                                                          None   \n",
       "1215624                                                          None   \n",
       "1246399  a 100% in the presence, wherever the location ...       None   \n",
       "1246522                                            Pedriza       None   \n",
       "1442412                                                          None   \n",
       "1462102                                                          None   \n",
       "1564139                      Schleierwasserfall, Achleiten       None   \n",
       "1622984                                           Savoisie       None   \n",
       "1727318                                                          None   \n",
       "1751071                                                          None   \n",
       "1787529                                          Catalunya       None   \n",
       "1995816                                                          None   \n",
       "2129542                                                          None   \n",
       "2193960                                                          None   \n",
       "2248858                                                          None   \n",
       "2367524                                          Catalunya       None   \n",
       "2485959                                           Curucaca       None   \n",
       "2617467                                             Bishop       None   \n",
       "2898841  Siurana, Buoux, Mallorca, Ceüse, Frankenjura, ...       None   \n",
       "2919185                                    Red River Gorge       None   \n",
       "2927138                               The mighty You Yangs       None   \n",
       "2954291                          Finale, Eiszeit, Margalef       None   \n",
       "3057735                                                          None   \n",
       "3154704                                                          None   \n",
       "3198744   Rodellar, Freyr, Santa Linya, Margalef, St Leger       None   \n",
       "3291631                                              TODAS       None   \n",
       "3396298                                                          None   \n",
       "3566321                                      Siurana maybe       None   \n",
       "3610335                                                          None   \n",
       "3886746                                                          None   \n",
       "3971952                                                          None   \n",
       "\n",
       "                                 guide_area  \\\n",
       "138370                                        \n",
       "142559                                 FNAC   \n",
       "158060                                        \n",
       "264310                                        \n",
       "271687                                        \n",
       "295418                                        \n",
       "324326                                        \n",
       "506751                                        \n",
       "583959                                        \n",
       "604892             The bucketwall and Lokøy   \n",
       "684625                             Skådalen   \n",
       "772023                                        \n",
       "854759                               himmel   \n",
       "882629                          Can Rockies   \n",
       "961925                                        \n",
       "963046                             Rogaland   \n",
       "967530                           guide what   \n",
       "1045502                                       \n",
       "1056335                    avers, cresciano   \n",
       "1214146                                       \n",
       "1215624                                       \n",
       "1246399                                       \n",
       "1246522                                       \n",
       "1442412                                       \n",
       "1462102                  Bismantova, Ceredo   \n",
       "1564139       Achleiten, Schleierwasserfall   \n",
       "1622984                                       \n",
       "1727318                                       \n",
       "1751071                                       \n",
       "1787529                                       \n",
       "1995816                                       \n",
       "2129542                                       \n",
       "2193960                                       \n",
       "2248858                                       \n",
       "2367524                          Montserrat   \n",
       "2485959                  São Luis do Purunã   \n",
       "2617467                                       \n",
       "2898841                               Pfalz   \n",
       "2919185                                       \n",
       "2927138                The mighty You Yangs   \n",
       "2954291                    Pian Schiavaneis   \n",
       "3057735                                       \n",
       "3154704                                       \n",
       "3198744                            Rodellar   \n",
       "3291631                      CUENCA-PEDRIZA   \n",
       "3396298                                       \n",
       "3566321  Thali, Adlitzgräben, Hochkogel,...   \n",
       "3610335                                       \n",
       "3886746                                       \n",
       "3971952                                       \n",
       "\n",
       "                                                 interests       birth  \\\n",
       "138370                                                      1977-08-20   \n",
       "142559                               engager comme un porc  1941-05-26   \n",
       "158060                                                      1974-05-18   \n",
       "264310                                                      1978-06-10   \n",
       "271687                                                            None   \n",
       "295418                                                            None   \n",
       "324326                                        Gå på bingo.        None   \n",
       "506751                                                      1979-01-12   \n",
       "583959                                     Beer and crisps  1985-06-28   \n",
       "604892        walks in the nature, wine with good friends.        None   \n",
       "684625                                            Cycling.        None   \n",
       "772023                                                      1979-11-08   \n",
       "854759                                                      1973-05-10   \n",
       "882629                                                      1972-08-06   \n",
       "961925                                                            None   \n",
       "963046                                                      1981-01-09   \n",
       "967530                                              skiing  1980-02-03   \n",
       "1045502                                                     1968-09-25   \n",
       "1056335                                                     1979-07-11   \n",
       "1214146                                                           None   \n",
       "1215624                                                           None   \n",
       "1246399                                                     1990-12-09   \n",
       "1246522      Mountain Bike, Trekking, Friendship and Beers  1981-08-13   \n",
       "1442412                                                     1991-12-22   \n",
       "1462102                       Photo, snow, Car..MILF PUSSY  1982-09-08   \n",
       "1564139  mountaineering, ski-touring, skiing, cycling etc.  1992-01-01   \n",
       "1622984  Équiper des bouses sur des sites bousiques, da...  1979-03-15   \n",
       "1727318                                                     1991-06-01   \n",
       "1751071                                                     1987-05-18   \n",
       "1787529                                                     1996-05-01   \n",
       "1995816                                                     1983-10-04   \n",
       "2129542                                                     1987-12-09   \n",
       "2193960                                                           None   \n",
       "2248858                                       papiroflexia        None   \n",
       "2367524                                                           None   \n",
       "2485959                                                     1992-12-12   \n",
       "2617467                                                           None   \n",
       "2898841                                        Snowboarden        None   \n",
       "2919185            Driving my ice cream truck to the crag.        None   \n",
       "2927138                                               Lint        None   \n",
       "2954291                                                     1997-06-27   \n",
       "3057735                                                     1978-09-19   \n",
       "3154704                                                           None   \n",
       "3198744          http://www.singingrock.cz/koen-baekelandt  1995-11-07   \n",
       "3291631                                                     1974-05-10   \n",
       "3396298                                                     1936-12-25   \n",
       "3566321  Biology, Nutrition, playing instruments, creat...  1990-10-11   \n",
       "3610335                                                     1980-02-17   \n",
       "3886746                                                           None   \n",
       "3971952                                                     1976-05-12   \n",
       "\n",
       "                                              presentation deactivated  \\\n",
       "138370                                                               0   \n",
       "142559       j'arrive pas a rentrer\\r\\nc'est quoi le code?           0   \n",
       "158060                                                               0   \n",
       "264310                                                               0   \n",
       "271687                                                               0   \n",
       "295418                                                               0   \n",
       "324326                                                               0   \n",
       "506751                                                               0   \n",
       "583959   Sponsored by: La Sportiva, Monkee clothing, Ra...           0   \n",
       "604892   Just started this wonderful sport. I like to t...           0   \n",
       "684625                                                               0   \n",
       "772023                                                               0   \n",
       "854759                                                               0   \n",
       "882629                                                               0   \n",
       "961925                                                               0   \n",
       "963046                                                               0   \n",
       "967530                                                               0   \n",
       "1045502                                                              0   \n",
       "1056335                                                              0   \n",
       "1214146                                                              0   \n",
       "1215624                                                              0   \n",
       "1246399  Bringing my creativity onto the rocks,  always...           0   \n",
       "1246522                                                              0   \n",
       "1442412                                                              0   \n",
       "1462102                                                              0   \n",
       "1564139                       Started climbing with my Dad           0   \n",
       "1622984                                                              0   \n",
       "1727318                                                              0   \n",
       "1751071                                                              0   \n",
       "1787529                                                              0   \n",
       "1995816                                                              0   \n",
       "2129542                                                              0   \n",
       "2193960                                                              1   \n",
       "2248858                                                              0   \n",
       "2367524                                                              0   \n",
       "2485959                                                              0   \n",
       "2617467                                                              0   \n",
       "2898841                                                              0   \n",
       "2919185  I wish i were as good as interacting with peop...           0   \n",
       "2927138                                                              0   \n",
       "2954291                                                              0   \n",
       "3057735                                                              0   \n",
       "3154704                                                              0   \n",
       "3198744                                                              0   \n",
       "3291631                                                              0   \n",
       "3396298                                                              0   \n",
       "3566321  Check out my <a href=\"https://www.youtube.com/...           0   \n",
       "3610335                                                              0   \n",
       "3886746  I might have started climbing in the morning, ...           0   \n",
       "3971952                                                              0   \n",
       "\n",
       "        anonymous        bmi  \n",
       "138370          0  32.283058  \n",
       "142559          0  44.444444  \n",
       "158060          0  30.864198  \n",
       "264310          0  30.864198  \n",
       "271687          0  32.653061  \n",
       "295418          0  69.444444  \n",
       "324326          0  34.602076  \n",
       "506751          0  35.430839  \n",
       "583959          0  31.561672  \n",
       "604892          0  39.062500  \n",
       "684625          0  33.412409  \n",
       "772023          0  30.189591  \n",
       "854759          0  30.864198  \n",
       "882629          0  44.444444  \n",
       "961925          0  69.444444  \n",
       "963046          0  32.283058  \n",
       "967530          0  30.864198  \n",
       "1045502         0  46.913117  \n",
       "1056335         0  32.653061  \n",
       "1214146         0  39.062500  \n",
       "1215624         0  31.919308  \n",
       "1246399         0  30.189591  \n",
       "1246522         0  32.653061  \n",
       "1442412         0  32.653061  \n",
       "1462102         0  36.730946  \n",
       "1564139         0  34.198557  \n",
       "1622984         0  30.864198  \n",
       "1727318         0  33.029462  \n",
       "1751071         0  30.864198  \n",
       "1787529         0  34.602076  \n",
       "1995816         0  30.864198  \n",
       "2129542         0  31.919308  \n",
       "2193960         0  69.444444  \n",
       "2248858         0  41.623309  \n",
       "2367524         0  30.864198  \n",
       "2485959         0  45.653762  \n",
       "2617467         0  31.919308  \n",
       "2898841         0  33.802055  \n",
       "2919185         0  33.029462  \n",
       "2927138         0  44.444444  \n",
       "2954291         0  32.283058  \n",
       "3057735         0  30.189591  \n",
       "3154704         0  49.593335  \n",
       "3198744         0  30.864198  \n",
       "3291631         0  34.602076  \n",
       "3396298         0  54.869684  \n",
       "3566321         0  33.802055  \n",
       "3610335         0  32.283058  \n",
       "3886746         0  34.198557  \n",
       "3971952         0  39.555397  \n",
       "\n",
       "[50 rows x 23 columns]"
      ]
     },
     "execution_count": 59,
     "metadata": {},
     "output_type": "execute_result"
    }
   ],
   "source": [
    "weight_100"
   ]
  },
  {
   "cell_type": "code",
   "execution_count": 60,
   "metadata": {},
   "outputs": [],
   "source": [
    "big_guy = results[results.user_id == 3258]"
   ]
  },
  {
   "cell_type": "code",
   "execution_count": 61,
   "metadata": {},
   "outputs": [
    {
     "data": {
      "text/plain": [
       "id                                                                3279717\n",
       "user_id                                                              3258\n",
       "grade_id                                                               49\n",
       "notes                                                                    \n",
       "raw_notes                                                               0\n",
       "method_id                                                               2\n",
       "climb_type                                                              0\n",
       "total_score                                                           753\n",
       "date                                                           1385852400\n",
       "year                                                                 2013\n",
       "last_year                                                               0\n",
       "rec_date                                                       1397440309\n",
       "project_ascent_date                                                     0\n",
       "name                                                            Barbaroja\n",
       "crag_id                                                                 0\n",
       "crag                                                        Laguna Trebol\n",
       "sector_id                                                               0\n",
       "sector                                                       Pared Blanca\n",
       "country                                                               ARG\n",
       "comment                 No idea when I first climbed this, but want to...\n",
       "rating                                                                  0\n",
       "description                                                              \n",
       "yellow_id                                                               0\n",
       "climb_try                                                               0\n",
       "repeat                                                                  0\n",
       "exclude_from_ranking                                                    1\n",
       "user_recommended                                                        1\n",
       "chipped                                                                 0\n",
       "Name: 2722662, dtype: object"
      ]
     },
     "execution_count": 61,
     "metadata": {},
     "output_type": "execute_result"
    }
   ],
   "source": [
    "big_guy.iloc[70]"
   ]
  },
  {
   "cell_type": "code",
   "execution_count": 62,
   "metadata": {},
   "outputs": [],
   "source": [
    "elite_climber_women_df = elite_climber_df[elite_climber_df.sex == 1]"
   ]
  },
  {
   "cell_type": "code",
   "execution_count": 63,
   "metadata": {},
   "outputs": [
    {
     "data": {
      "image/png": "[encoded data removed]",
      "text/plain": [
       "<Figure size 432x288 with 1 Axes>"
      ]
     },
     "metadata": {
      "needs_background": "light"
     },
     "output_type": "display_data"
    }
   ],
   "source": [
    "# elite_climber_women_df\n",
    "\n",
    "plt.hist(x = elite_climber_women_df.bmi, bins = 200)\n",
    "plt.title('BMI Distribution of Elite Level Climbers(women)')\n",
    "plt.xlim(0, 30)\n",
    "plt.ylabel('Number of Climbers')\n",
    "plt.xlabel('BMI (kg/m²)')\n",
    "plt.savefig('bmi_dist_elite_women.png', dpi = 200)"
   ]
  },
  {
   "cell_type": "code",
   "execution_count": 64,
   "metadata": {},
   "outputs": [],
   "source": [
    "elite_climber_men_df = elite_climber_df[elite_climber_df.sex == 0]"
   ]
  },
  {
   "cell_type": "code",
   "execution_count": 65,
   "metadata": {},
   "outputs": [
    {
     "data": {
      "image/png": "[encoded data removed]",
      "text/plain": [
       "<Figure size 432x288 with 1 Axes>"
      ]
     },
     "metadata": {
      "needs_background": "light"
     },
     "output_type": "display_data"
    }
   ],
   "source": [
    "plt.hist(x = elite_climber_men_df.bmi, bins = 200)\n",
    "plt.title('BMI Distribution of Elite Level Climbers(men)')\n",
    "plt.xlim(0, 30)\n",
    "plt.ylabel('Number of Climbers')\n",
    "plt.xlabel('BMI (kg/m²)')\n",
    "plt.savefig('bmi_dist_elite_men.png', dpi = 200)"
   ]
  },
  {
   "cell_type": "code",
   "execution_count": 66,
   "metadata": {},
   "outputs": [
    {
     "data": {
      "text/plain": [
       "(4110933, 51)"
      ]
     },
     "execution_count": 66,
     "metadata": {},
     "output_type": "execute_result"
    }
   ],
   "source": [
    "df2.shape"
   ]
  },
  {
   "cell_type": "code",
   "execution_count": 67,
   "metadata": {},
   "outputs": [],
   "source": [
    "advance_bmi = df2_bmi[df2_bmi['grade_id'] >=52]"
   ]
  },
  {
   "cell_type": "code",
   "execution_count": 68,
   "metadata": {},
   "outputs": [
    {
     "data": {
      "text/plain": [
       "(833036, 51)"
      ]
     },
     "execution_count": 68,
     "metadata": {},
     "output_type": "execute_result"
    }
   ],
   "source": [
    "advance_bmi.shape"
   ]
  },
  {
   "cell_type": "code",
   "execution_count": 69,
   "metadata": {},
   "outputs": [],
   "source": [
    "advance_bmi_2 = advance_bmi.copy()"
   ]
  },
  {
   "cell_type": "code",
   "execution_count": 70,
   "metadata": {},
   "outputs": [],
   "source": [
    "advance_bmi_only = pd.merge(elite_bmi,advance_bmi, indicator=True, how='outer').query('_merge==\"left_only\"').drop('_merge', axis=1)"
   ]
  },
  {
   "cell_type": "code",
   "execution_count": 71,
   "metadata": {},
   "outputs": [],
   "source": [
    "cond = advance_bmi_2['id_x'].isin(elite_bmi['id_x'])\n",
    "advance_bmi_2.drop(advance_bmi_2[cond].index, inplace = True)\n",
    "\n",
    "# cond = df1['Email'].isin(df2['Email'])\n",
    "# df1.drop(df1[cond].index, inplace = True)"
   ]
  },
  {
   "cell_type": "code",
   "execution_count": 72,
   "metadata": {},
   "outputs": [
    {
     "data": {
      "text/plain": [
       "(0, 51)"
      ]
     },
     "execution_count": 72,
     "metadata": {},
     "output_type": "execute_result"
    }
   ],
   "source": [
    "advance_bmi_only.shape"
   ]
  },
  {
   "cell_type": "code",
   "execution_count": 73,
   "metadata": {},
   "outputs": [
    {
     "data": {
      "text/plain": [
       "(833036, 51)"
      ]
     },
     "execution_count": 73,
     "metadata": {},
     "output_type": "execute_result"
    }
   ],
   "source": [
    "advance_bmi.shape"
   ]
  },
  {
   "cell_type": "code",
   "execution_count": 74,
   "metadata": {},
   "outputs": [
    {
     "data": {
      "text/plain": [
       "(278954, 51)"
      ]
     },
     "execution_count": 74,
     "metadata": {},
     "output_type": "execute_result"
    }
   ],
   "source": [
    "elite_bmi.shape"
   ]
  },
  {
   "cell_type": "code",
   "execution_count": 75,
   "metadata": {},
   "outputs": [
    {
     "data": {
      "text/plain": [
       "(554082, 51)"
      ]
     },
     "execution_count": 75,
     "metadata": {},
     "output_type": "execute_result"
    }
   ],
   "source": [
    "advance_bmi_2.shape"
   ]
  },
  {
   "cell_type": "code",
   "execution_count": 76,
   "metadata": {},
   "outputs": [],
   "source": [
    "advance_bmi_2_dropped_cols = advance_bmi_2.drop(['id_x', 'user_id', 'grade_id', 'notes', 'raw_notes', 'method_id',\n",
    "       'climb_type', 'total_score', 'date', 'year', 'last_year', 'rec_date',\n",
    "       'project_ascent_date', 'name', 'crag_id', 'crag', 'sector_id', 'sector',\n",
    "       'country_x', 'comment', 'rating', 'description', 'yellow_id',\n",
    "       'climb_try', 'repeat', 'exclude_from_ranking', 'user_recommended',\n",
    "       'chipped'], axis=1)"
   ]
  },
  {
   "cell_type": "code",
   "execution_count": 77,
   "metadata": {},
   "outputs": [
    {
     "data": {
      "text/plain": [
       "(554082, 23)"
      ]
     },
     "execution_count": 77,
     "metadata": {},
     "output_type": "execute_result"
    }
   ],
   "source": [
    "advance_bmi_2_dropped_cols.shape"
   ]
  },
  {
   "cell_type": "code",
   "execution_count": 78,
   "metadata": {},
   "outputs": [],
   "source": [
    "advance_bmi_2_dropped_cols.drop_duplicates(keep='last', inplace = True)"
   ]
  },
  {
   "cell_type": "code",
   "execution_count": 79,
   "metadata": {},
   "outputs": [
    {
     "data": {
      "text/plain": [
       "(12156, 23)"
      ]
     },
     "execution_count": 79,
     "metadata": {},
     "output_type": "execute_result"
    }
   ],
   "source": [
    "advance_bmi_2_dropped_cols.shape"
   ]
  },
  {
   "cell_type": "code",
   "execution_count": 80,
   "metadata": {},
   "outputs": [
    {
     "data": {
      "image/png": "[encoded data removed]",
      "text/plain": [
       "<Figure size 432x288 with 1 Axes>"
      ]
     },
     "metadata": {
      "needs_background": "light"
     },
     "output_type": "display_data"
    }
   ],
   "source": [
    "plt.hist(x = advance_bmi_2_dropped_cols.bmi, bins = 200)\n",
    "plt.title('BMI Distribution of Advanced Level Climbers')\n",
    "plt.xlim(0, 30)\n",
    "plt.ylabel('Number of Climbers')\n",
    "plt.xlabel('BMI (kg/m²)')\n",
    "\n",
    "plt.savefig('advance_climber_bmi.png', dpi = 200)"
   ]
  },
  {
   "cell_type": "code",
   "execution_count": 81,
   "metadata": {},
   "outputs": [],
   "source": [
    "advance_climber_women_df = advance_bmi_2_dropped_cols[advance_bmi_2_dropped_cols.sex == 1]"
   ]
  },
  {
   "cell_type": "code",
   "execution_count": 82,
   "metadata": {},
   "outputs": [
    {
     "data": {
      "image/png": "[encoded data removed]",
      "text/plain": [
       "<Figure size 432x288 with 1 Axes>"
      ]
     },
     "metadata": {
      "needs_background": "light"
     },
     "output_type": "display_data"
    }
   ],
   "source": [
    "plt.hist(x = advance_climber_women_df.bmi, bins = 200)\n",
    "plt.title('BMI Distribution of Advanced Level Climbers(women)')\n",
    "plt.xlim(0, 30)\n",
    "plt.ylabel('Number of Climbers')\n",
    "plt.xlabel('BMI (kg/m²)')\n",
    "\n",
    "plt.savefig('advance_climber_women_bmi.png', dpi = 200)"
   ]
  },
  {
   "cell_type": "code",
   "execution_count": 83,
   "metadata": {},
   "outputs": [],
   "source": [
    "advance_climber_men_df = advance_bmi_2_dropped_cols[advance_bmi_2_dropped_cols.sex == 0]"
   ]
  },
  {
   "cell_type": "code",
   "execution_count": 84,
   "metadata": {},
   "outputs": [
    {
     "data": {
      "image/png": "[encoded data removed]",
      "text/plain": [
       "<Figure size 432x288 with 1 Axes>"
      ]
     },
     "metadata": {
      "needs_background": "light"
     },
     "output_type": "display_data"
    }
   ],
   "source": [
    "plt.hist(x = advance_climber_men_df.bmi, bins = 200)\n",
    "plt.title('BMI Distribution of Advanced Level Climbers(men)')\n",
    "plt.xlim(0, 30)\n",
    "plt.ylabel('Number of Climbers')\n",
    "plt.xlabel('BMI (kg/m²)')\n",
    "\n",
    "plt.savefig('advance_climber_men_bmi.png', dpi = 200)"
   ]
  },
  {
   "cell_type": "code",
   "execution_count": 85,
   "metadata": {},
   "outputs": [],
   "source": [
    "intermediate_bmi = df2_bmi[df2_bmi['grade_id'] >=45]"
   ]
  },
  {
   "cell_type": "code",
   "execution_count": 86,
   "metadata": {},
   "outputs": [
    {
     "data": {
      "text/plain": [
       "(1641979, 51)"
      ]
     },
     "execution_count": 86,
     "metadata": {},
     "output_type": "execute_result"
    }
   ],
   "source": [
    "intermediate_bmi.shape"
   ]
  },
  {
   "cell_type": "code",
   "execution_count": 87,
   "metadata": {},
   "outputs": [],
   "source": [
    "intermediate_bmi_2 = intermediate_bmi.copy()"
   ]
  },
  {
   "cell_type": "code",
   "execution_count": 88,
   "metadata": {},
   "outputs": [],
   "source": [
    "cond = intermediate_bmi_2['id_x'].isin(advance_bmi['id_x'])\n",
    "intermediate_bmi_2.drop(intermediate_bmi_2[cond].index, inplace = True)"
   ]
  },
  {
   "cell_type": "code",
   "execution_count": 89,
   "metadata": {},
   "outputs": [
    {
     "data": {
      "text/plain": [
       "(808943, 51)"
      ]
     },
     "execution_count": 89,
     "metadata": {},
     "output_type": "execute_result"
    }
   ],
   "source": [
    "intermediate_bmi_2.shape"
   ]
  },
  {
   "cell_type": "code",
   "execution_count": 90,
   "metadata": {},
   "outputs": [
    {
     "data": {
      "text/plain": [
       "(833036, 51)"
      ]
     },
     "execution_count": 90,
     "metadata": {},
     "output_type": "execute_result"
    }
   ],
   "source": [
    "advance_bmi.shape"
   ]
  },
  {
   "cell_type": "code",
   "execution_count": 91,
   "metadata": {},
   "outputs": [
    {
     "data": {
      "text/plain": [
       "(1641979, 51)"
      ]
     },
     "execution_count": 91,
     "metadata": {},
     "output_type": "execute_result"
    }
   ],
   "source": [
    "intermediate_bmi.shape"
   ]
  },
  {
   "cell_type": "code",
   "execution_count": 92,
   "metadata": {},
   "outputs": [
    {
     "data": {
      "text/plain": [
       "(278954, 51)"
      ]
     },
     "execution_count": 92,
     "metadata": {},
     "output_type": "execute_result"
    }
   ],
   "source": [
    "elite_bmi.shape"
   ]
  },
  {
   "cell_type": "code",
   "execution_count": 93,
   "metadata": {},
   "outputs": [],
   "source": [
    "intermediate_bmi_2_dropped_cols = intermediate_bmi_2.drop(['id_x', 'user_id', 'grade_id', 'notes', 'raw_notes', 'method_id',\n",
    "       'climb_type', 'total_score', 'date', 'year', 'last_year', 'rec_date',\n",
    "       'project_ascent_date', 'name', 'crag_id', 'crag', 'sector_id', 'sector',\n",
    "       'country_x', 'comment', 'rating', 'description', 'yellow_id',\n",
    "       'climb_try', 'repeat', 'exclude_from_ranking', 'user_recommended',\n",
    "       'chipped'], axis=1)"
   ]
  },
  {
   "cell_type": "code",
   "execution_count": 94,
   "metadata": {},
   "outputs": [
    {
     "data": {
      "text/plain": [
       "(808943, 23)"
      ]
     },
     "execution_count": 94,
     "metadata": {},
     "output_type": "execute_result"
    }
   ],
   "source": [
    "intermediate_bmi_2_dropped_cols.shape"
   ]
  },
  {
   "cell_type": "code",
   "execution_count": 95,
   "metadata": {},
   "outputs": [],
   "source": [
    "intermediate_bmi_2_dropped_cols.drop_duplicates(keep='last', inplace = True)"
   ]
  },
  {
   "cell_type": "code",
   "execution_count": 96,
   "metadata": {},
   "outputs": [
    {
     "data": {
      "text/plain": [
       "(15504, 23)"
      ]
     },
     "execution_count": 96,
     "metadata": {},
     "output_type": "execute_result"
    }
   ],
   "source": [
    "intermediate_bmi_2_dropped_cols.shape"
   ]
  },
  {
   "cell_type": "code",
   "execution_count": 97,
   "metadata": {},
   "outputs": [
    {
     "data": {
      "image/png": "[encoded data removed]",
      "text/plain": [
       "<Figure size 432x288 with 1 Axes>"
      ]
     },
     "metadata": {
      "needs_background": "light"
     },
     "output_type": "display_data"
    }
   ],
   "source": [
    "plt.hist(x = intermediate_bmi_2_dropped_cols.bmi, bins = 200)\n",
    "plt.title('BMI Distribution of Intermediate Level Climbers')\n",
    "plt.xlim(0, 30)\n",
    "plt.ylabel('Number of Climbers')\n",
    "plt.xlabel('BMI (kg/m²)')\n",
    "\n",
    "plt.savefig('intermediate_climber_bmi.png', dpi = 200)"
   ]
  },
  {
   "cell_type": "code",
   "execution_count": 98,
   "metadata": {},
   "outputs": [],
   "source": [
    "intermediate_climber_women_df = intermediate_bmi_2_dropped_cols[intermediate_bmi_2_dropped_cols.sex == 1]"
   ]
  },
  {
   "cell_type": "code",
   "execution_count": 99,
   "metadata": {},
   "outputs": [
    {
     "data": {
      "image/png": "[encoded data removed]",
      "text/plain": [
       "<Figure size 432x288 with 1 Axes>"
      ]
     },
     "metadata": {
      "needs_background": "light"
     },
     "output_type": "display_data"
    }
   ],
   "source": [
    "plt.hist(x = intermediate_climber_women_df.bmi, bins = 200)\n",
    "plt.title('BMI Distribution of Intermediate Level Climbers(women)')\n",
    "plt.xlim(0, 30)\n",
    "plt.ylabel('Number of Climbers')\n",
    "plt.xlabel('BMI (kg/m²)')\n",
    "\n",
    "plt.savefig('intermediate_climber_women_bmi.png', dpi = 200)"
   ]
  },
  {
   "cell_type": "code",
   "execution_count": 100,
   "metadata": {},
   "outputs": [],
   "source": [
    "intermediate_climber_men_df = intermediate_bmi_2_dropped_cols[intermediate_bmi_2_dropped_cols.sex == 0]"
   ]
  },
  {
   "cell_type": "code",
   "execution_count": 101,
   "metadata": {},
   "outputs": [
    {
     "data": {
      "image/png": "[encoded data removed]",
      "text/plain": [
       "<Figure size 432x288 with 1 Axes>"
      ]
     },
     "metadata": {
      "needs_background": "light"
     },
     "output_type": "display_data"
    }
   ],
   "source": [
    "plt.hist(x = intermediate_climber_men_df.bmi, bins = 200)\n",
    "plt.title('BMI Distribution of Intermediate Level Climbers(men)')\n",
    "plt.xlim(0, 30)\n",
    "plt.ylabel('Number of Climbers')\n",
    "plt.xlabel('BMI (kg/m²)')\n",
    "\n",
    "plt.savefig('intermediate_climber_men_bmi.png', dpi = 200)"
   ]
  },
  {
   "cell_type": "code",
   "execution_count": 102,
   "metadata": {},
   "outputs": [],
   "source": [
    "intermediate_climber_men_df_test = intermediate_climber_men_df[intermediate_climber_men_df.bmi<35]"
   ]
  },
  {
   "cell_type": "code",
   "execution_count": 103,
   "metadata": {},
   "outputs": [
    {
     "data": {
      "text/plain": [
       "<AxesSubplot:>"
      ]
     },
     "execution_count": 103,
     "metadata": {},
     "output_type": "execute_result"
    },
    {
     "data": {
      "image/png": "[encoded data removed]",
      "text/plain": [
       "<Figure size 432x288 with 1 Axes>"
      ]
     },
     "metadata": {
      "needs_background": "light"
     },
     "output_type": "display_data"
    }
   ],
   "source": [
    "\n",
    "intermediate_climber_men_df_test.boxplot(column=['bmi'], showfliers=False )\n",
    "# df.T.boxplot()\n",
    "# plt.subplots_adjust(bottom=0.25)\n",
    "# plt.xticks(rotation=25)\n",
    "# plt.show()"
   ]
  },
  {
   "cell_type": "code",
   "execution_count": 104,
   "metadata": {},
   "outputs": [
    {
     "data": {
      "text/plain": [
       "<AxesSubplot:>"
      ]
     },
     "execution_count": 104,
     "metadata": {},
     "output_type": "execute_result"
    },
    {
     "data": {
      "image/png": "[encoded data removed]",
      "text/plain": [
       "<Figure size 432x288 with 1 Axes>"
      ]
     },
     "metadata": {
      "needs_background": "light"
     },
     "output_type": "display_data"
    }
   ],
   "source": [
    "intermediate_climber_men_df.boxplot(column=['bmi'], showfliers=False )"
   ]
  },
  {
   "cell_type": "code",
   "execution_count": 105,
   "metadata": {},
   "outputs": [],
   "source": [
    "bmi_df_only = intermediate_bmi_2_dropped_cols['bmi']"
   ]
  },
  {
   "cell_type": "code",
   "execution_count": 106,
   "metadata": {},
   "outputs": [
    {
     "data": {
      "text/plain": [
       "208        23.301095\n",
       "384        23.836735\n",
       "735        21.705129\n",
       "1538       20.987654\n",
       "1911       20.987654\n",
       "             ...    \n",
       "4110858    21.545091\n",
       "4110863    22.204082\n",
       "4110870    24.675500\n",
       "4110881    24.618104\n",
       "4110890    24.074074\n",
       "Name: bmi, Length: 15504, dtype: float64"
      ]
     },
     "execution_count": 106,
     "metadata": {},
     "output_type": "execute_result"
    }
   ],
   "source": [
    "bmi_df_only"
   ]
  },
  {
   "cell_type": "code",
   "execution_count": 107,
   "metadata": {},
   "outputs": [],
   "source": [
    "data = [intermediate_bmi_2_dropped_cols[\"bmi\"], advance_bmi_2_dropped_cols[\"bmi\"], elite_climber_df[\"bmi\"]]\n",
    "headers = [\"intermediate bmi\", \"advanced bmi\", 'elite bmi']"
   ]
  },
  {
   "cell_type": "code",
   "execution_count": 108,
   "metadata": {},
   "outputs": [],
   "source": [
    "df_bmi_int_adv_elite = pd.concat(data, axis=1, keys=headers)"
   ]
  },
  {
   "cell_type": "code",
   "execution_count": 109,
   "metadata": {},
   "outputs": [
    {
     "data": {
      "text/plain": [
       "(34995, 3)"
      ]
     },
     "execution_count": 109,
     "metadata": {},
     "output_type": "execute_result"
    }
   ],
   "source": [
    "df_bmi_int_adv_elite.shape"
   ]
  },
  {
   "cell_type": "markdown",
   "metadata": {},
   "source": [
    "# boulder work\n"
   ]
  },
  {
   "cell_type": "code",
   "execution_count": 110,
   "metadata": {},
   "outputs": [
    {
     "data": {
      "image/png": "[encoded data removed]",
      "text/plain": [
       "<Figure size 432x288 with 1 Axes>"
      ]
     },
     "metadata": {
      "needs_background": "light"
     },
     "output_type": "display_data"
    }
   ],
   "source": [
    "df_bmi_int_adv_elite.boxplot(column=['intermediate bmi', 'advanced bmi', 'elite bmi'], showfliers=False )\n",
    "plt.title('Boxplots of BMIs across skill levels')\n",
    "plt.annotate('intermediate<v6\\nadvanced <v9\\nelite >v9', xy=(255, 31), xycoords='axes points',\n",
    "            size=8, ha='right', va='top',\n",
    "            bbox=dict(boxstyle='round', fc='w'))\n",
    "plt.savefig('Boxplots_all.png', dpi = 200);"
   ]
  },
  {
   "cell_type": "code",
   "execution_count": 111,
   "metadata": {},
   "outputs": [],
   "source": [
    "data_women = [intermediate_climber_women_df[\"bmi\"], advance_climber_women_df[\"bmi\"], elite_climber_women_df[\"bmi\"]]\n",
    "headers = [\"intermediate bmi\", \"advanced bmi\", 'elite bmi']"
   ]
  },
  {
   "cell_type": "code",
   "execution_count": 112,
   "metadata": {},
   "outputs": [],
   "source": [
    "df__women_bmi_int_adv_elite = pd.concat(data_women, axis=1, keys=headers)"
   ]
  },
  {
   "cell_type": "code",
   "execution_count": 113,
   "metadata": {},
   "outputs": [
    {
     "name": "stderr",
     "output_type": "stream",
     "text": [
      "No handles with labels found to put in legend.\n"
     ]
    },
    {
     "data": {
      "image/png": "[encoded data removed]",
      "text/plain": [
       "<Figure size 432x288 with 1 Axes>"
      ]
     },
     "metadata": {
      "needs_background": "light"
     },
     "output_type": "display_data"
    }
   ],
   "source": [
    "df__women_bmi_int_adv_elite.boxplot(column=['intermediate bmi', 'advanced bmi', 'elite bmi'], showfliers=False )\n",
    "plt.title('Boxplots of BMIs across skill levels (women)')\n",
    "# plt.legend(['intermediate<v6', 'advanced <v9', 'elite >=v10'],loc='best', fontsize = 'x-small', bbox_to_anchor=(0.5, 0., 0.5, 0.5))\n",
    "plt.annotate('intermediate<v6\\nadvanced <v9\\nelite >v9', xy=(255, 31), xycoords='axes points',\n",
    "            size=8, ha='right', va='top',\n",
    "            bbox=dict(boxstyle='round', fc='w'))\n",
    "plt.legend(handletextpad=-2.0, handlelength=0)\n",
    "plt.savefig('Boxplots_women.png', dpi = 200);"
   ]
  },
  {
   "cell_type": "code",
   "execution_count": 114,
   "metadata": {},
   "outputs": [],
   "source": [
    "data_men = [intermediate_climber_men_df[\"bmi\"], advance_climber_men_df[\"bmi\"], elite_climber_men_df[\"bmi\"]]\n",
    "headers = [\"intermediate bmi\", \"advanced bmi\", 'elite bmi']"
   ]
  },
  {
   "cell_type": "code",
   "execution_count": 115,
   "metadata": {},
   "outputs": [],
   "source": [
    "df__men_bmi_int_adv_elite = pd.concat(data_men, axis=1, keys=headers)"
   ]
  },
  {
   "cell_type": "code",
   "execution_count": 116,
   "metadata": {},
   "outputs": [
    {
     "name": "stderr",
     "output_type": "stream",
     "text": [
      "No handles with labels found to put in legend.\n"
     ]
    },
    {
     "data": {
      "image/png": "[encoded data removed]",
      "text/plain": [
       "<Figure size 432x288 with 1 Axes>"
      ]
     },
     "metadata": {
      "needs_background": "light"
     },
     "output_type": "display_data"
    }
   ],
   "source": [
    "df__men_bmi_int_adv_elite.boxplot(column=['intermediate bmi', 'advanced bmi', 'elite bmi'], showfliers=False )\n",
    "plt.title('Boxplots of BMIs across skill levels (men)')\n",
    "# plt.legend(['intermediate<v6', 'advanced <v9', 'elite >=v10'],loc='best', fontsize = 'x-small', bbox_to_anchor=(0.5, 0., 0.5, 0.5))\n",
    "plt.annotate('intermediate<v6\\nadvanced <v9\\nelite >v9', xy=(255, 31), xycoords='axes points',\n",
    "            size=8, ha='right', va='top',\n",
    "            bbox=dict(boxstyle='round', fc='w'))\n",
    "plt.legend(handletextpad=-2.0, handlelength=0)\n",
    "plt.savefig('Boxplots_men.png', dpi = 200);"
   ]
  },
  {
   "cell_type": "code",
   "execution_count": 117,
   "metadata": {},
   "outputs": [
    {
     "data": {
      "text/plain": [
       "<AxesSubplot:>"
      ]
     },
     "execution_count": 117,
     "metadata": {},
     "output_type": "execute_result"
    },
    {
     "data": {
      "image/png": "[encoded data removed]",
      "text/plain": [
       "<Figure size 432x288 with 1 Axes>"
      ]
     },
     "metadata": {
      "needs_background": "light"
     },
     "output_type": "display_data"
    }
   ],
   "source": [
    "df2_bmi.height.hist(bins = 30)"
   ]
  },
  {
   "cell_type": "code",
   "execution_count": 118,
   "metadata": {},
   "outputs": [
    {
     "data": {
      "text/plain": [
       "<AxesSubplot:>"
      ]
     },
     "execution_count": 118,
     "metadata": {},
     "output_type": "execute_result"
    },
    {
     "data": {
      "image/png": "[encoded data removed]",
      "text/plain": [
       "<Figure size 432x288 with 1 Axes>"
      ]
     },
     "metadata": {
      "needs_background": "light"
     },
     "output_type": "display_data"
    }
   ],
   "source": [
    "df2_bmi.weight.hist(bins = 12)"
   ]
  },
  {
   "cell_type": "code",
   "execution_count": 119,
   "metadata": {},
   "outputs": [
    {
     "data": {
      "text/plain": [
       "(2838761, 51)"
      ]
     },
     "execution_count": 119,
     "metadata": {},
     "output_type": "execute_result"
    }
   ],
   "source": [
    "df2_bmi.shape"
   ]
  },
  {
   "cell_type": "code",
   "execution_count": 120,
   "metadata": {},
   "outputs": [],
   "source": [
    "all_climbers_no_null_weight_height = df2_bmi.drop(['id_x', 'user_id', 'grade_id', 'notes', 'raw_notes', 'method_id',\n",
    "       'climb_type', 'total_score', 'date', 'year', 'last_year', 'rec_date',\n",
    "       'project_ascent_date', 'name', 'crag_id', 'crag', 'sector_id', 'sector',\n",
    "       'country_x', 'comment', 'rating', 'description', 'yellow_id',\n",
    "       'climb_try', 'repeat', 'exclude_from_ranking', 'user_recommended',\n",
    "       'chipped'], axis=1)"
   ]
  },
  {
   "cell_type": "code",
   "execution_count": 121,
   "metadata": {},
   "outputs": [
    {
     "data": {
      "text/plain": [
       "(2838761, 23)"
      ]
     },
     "execution_count": 121,
     "metadata": {},
     "output_type": "execute_result"
    }
   ],
   "source": [
    "all_climbers_no_null_weight_height.shape"
   ]
  },
  {
   "cell_type": "code",
   "execution_count": 122,
   "metadata": {},
   "outputs": [],
   "source": [
    "all_climbers_no_null_weight_height.drop_duplicates(keep='last', inplace = True)"
   ]
  },
  {
   "cell_type": "code",
   "execution_count": 123,
   "metadata": {},
   "outputs": [
    {
     "data": {
      "image/png": "[encoded data removed]",
      "text/plain": [
       "<Figure size 432x288 with 1 Axes>"
      ]
     },
     "metadata": {
      "needs_background": "light"
     },
     "output_type": "display_data"
    }
   ],
   "source": [
    "all_climbers_no_null_weight_height.height.hist(bins = 100)\n",
    "plt.title('Height distribution of all climbers ')\n",
    "# plt.xlim(0, 30)\n",
    "plt.ylabel('Number of Climbers')\n",
    "plt.xlabel('Height (cm)')\n",
    "\n",
    "plt.savefig('Height_dist_all.png', dpi = 200)"
   ]
  },
  {
   "cell_type": "code",
   "execution_count": 124,
   "metadata": {},
   "outputs": [
    {
     "data": {
      "text/plain": [
       "<AxesSubplot:>"
      ]
     },
     "execution_count": 124,
     "metadata": {},
     "output_type": "execute_result"
    },
    {
     "data": {
      "image/png": "[encoded data removed]",
      "text/plain": [
       "<Figure size 432x288 with 1 Axes>"
      ]
     },
     "metadata": {
      "needs_background": "light"
     },
     "output_type": "display_data"
    }
   ],
   "source": [
    "all_climbers_no_null_weight_height.weight.hist(bins = 12)"
   ]
  },
  {
   "cell_type": "code",
   "execution_count": 125,
   "metadata": {},
   "outputs": [
    {
     "data": {
      "text/plain": [
       "<AxesSubplot:>"
      ]
     },
     "execution_count": 125,
     "metadata": {},
     "output_type": "execute_result"
    },
    {
     "data": {
      "image/png": "[encoded data removed]",
      "text/plain": [
       "<Figure size 432x288 with 1 Axes>"
      ]
     },
     "metadata": {
      "needs_background": "light"
     },
     "output_type": "display_data"
    }
   ],
   "source": [
    "all_climbers_no_null_weight_height.boxplot(column=['bmi'], showfliers=False )"
   ]
  },
  {
   "cell_type": "code",
   "execution_count": 126,
   "metadata": {},
   "outputs": [
    {
     "data": {
      "text/plain": [
       "(20359, 23)"
      ]
     },
     "execution_count": 126,
     "metadata": {},
     "output_type": "execute_result"
    }
   ],
   "source": [
    "all_climbers_no_null_weight_height.shape"
   ]
  },
  {
   "cell_type": "code",
   "execution_count": 127,
   "metadata": {},
   "outputs": [
    {
     "data": {
      "text/plain": [
       "Index(['id_y', 'first_name', 'last_name', 'city', 'country_y', 'sex', 'height',\n",
       "       'weight', 'started', 'competitions', 'occupation', 'sponsor1',\n",
       "       'sponsor2', 'sponsor3', 'best_area', 'worst_area', 'guide_area',\n",
       "       'interests', 'birth', 'presentation', 'deactivated', 'anonymous',\n",
       "       'bmi'],\n",
       "      dtype='object')"
      ]
     },
     "execution_count": 127,
     "metadata": {},
     "output_type": "execute_result"
    }
   ],
   "source": [
    "all_climbers_no_null_weight_height.columns"
   ]
  },
  {
   "cell_type": "code",
   "execution_count": 128,
   "metadata": {},
   "outputs": [
    {
     "data": {
      "text/plain": [
       "209     1996\n",
       "494     1998\n",
       "564     1992\n",
       "737     1996\n",
       "1538    1996\n",
       "Name: started, dtype: int64"
      ]
     },
     "execution_count": 128,
     "metadata": {},
     "output_type": "execute_result"
    }
   ],
   "source": [
    "all_climbers_no_null_weight_height.started.head()"
   ]
  },
  {
   "cell_type": "code",
   "execution_count": 129,
   "metadata": {},
   "outputs": [
    {
     "name": "stdout",
     "output_type": "stream",
     "text": [
      "<class 'pandas.core.frame.DataFrame'>\n",
      "Int64Index: 20359 entries, 209 to 4110922\n",
      "Data columns (total 23 columns):\n",
      " #   Column        Non-Null Count  Dtype  \n",
      "---  ------        --------------  -----  \n",
      " 0   id_y          20359 non-null  int64  \n",
      " 1   first_name    20359 non-null  object \n",
      " 2   last_name     20359 non-null  object \n",
      " 3   city          20359 non-null  object \n",
      " 4   country_y     20359 non-null  object \n",
      " 5   sex           20359 non-null  int64  \n",
      " 6   height        20359 non-null  int64  \n",
      " 7   weight        20359 non-null  int64  \n",
      " 8   started       20359 non-null  int64  \n",
      " 9   competitions  20359 non-null  object \n",
      " 10  occupation    20359 non-null  object \n",
      " 11  sponsor1      20268 non-null  object \n",
      " 12  sponsor2      20263 non-null  object \n",
      " 13  sponsor3      20259 non-null  object \n",
      " 14  best_area     20359 non-null  object \n",
      " 15  worst_area    510 non-null    object \n",
      " 16  guide_area    20359 non-null  object \n",
      " 17  interests     20359 non-null  object \n",
      " 18  birth         16574 non-null  object \n",
      " 19  presentation  20344 non-null  object \n",
      " 20  deactivated   20359 non-null  int64  \n",
      " 21  anonymous     20359 non-null  int64  \n",
      " 22  bmi           20359 non-null  float64\n",
      "dtypes: float64(1), int64(7), object(15)\n",
      "memory usage: 3.7+ MB\n"
     ]
    }
   ],
   "source": [
    "all_climbers_no_null_weight_height.info()"
   ]
  },
  {
   "cell_type": "markdown",
   "metadata": {},
   "source": [
    "# Years Climbing"
   ]
  },
  {
   "cell_type": "code",
   "execution_count": 130,
   "metadata": {},
   "outputs": [],
   "source": [
    "all_climbers_no_null_weight_height['years_climbing'] = 2018 - (all_climbers_no_null_weight_height['started'])\n",
    "all_climbers_no_null_weight_height = all_climbers_no_null_weight_height[all_climbers_no_null_weight_height.years_climbing >=0]\n"
   ]
  },
  {
   "cell_type": "code",
   "execution_count": 131,
   "metadata": {},
   "outputs": [
    {
     "data": {
      "text/plain": [
       "<AxesSubplot:>"
      ]
     },
     "execution_count": 131,
     "metadata": {},
     "output_type": "execute_result"
    },
    {
     "data": {
      "image/png": "[encoded data removed]",
      "text/plain": [
       "<Figure size 432x288 with 1 Axes>"
      ]
     },
     "metadata": {
      "needs_background": "light"
     },
     "output_type": "display_data"
    }
   ],
   "source": [
    "all_climbers_no_null_weight_height.years_climbing.hist()"
   ]
  },
  {
   "cell_type": "code",
   "execution_count": 132,
   "metadata": {},
   "outputs": [
    {
     "data": {
      "image/png": "[encoded data removed]",
      "text/plain": [
       "<Figure size 432x288 with 1 Axes>"
      ]
     },
     "metadata": {
      "needs_background": "light"
     },
     "output_type": "display_data"
    }
   ],
   "source": [
    "plt.hist(x = all_climbers_no_null_weight_height.years_climbing, bins = 2000)\n",
    "plt.title('Years climbing')\n",
    "plt.xlim(0, 60)\n",
    "plt.ylabel('Number of Climbers')\n",
    "plt.xlabel('years (87.3% resonable values)')\n",
    "plt.savefig('years_climbing_all.png', dpi = 200)"
   ]
  },
  {
   "cell_type": "code",
   "execution_count": 133,
   "metadata": {},
   "outputs": [
    {
     "data": {
      "text/plain": [
       "17792"
      ]
     },
     "execution_count": 133,
     "metadata": {},
     "output_type": "execute_result"
    }
   ],
   "source": [
    "len(all_climbers_no_null_weight_height[all_climbers_no_null_weight_height.years_climbing <=60])"
   ]
  },
  {
   "cell_type": "code",
   "execution_count": 134,
   "metadata": {},
   "outputs": [],
   "source": [
    "women_age = all_climbers_no_null_weight_height[all_climbers_no_null_weight_height.sex ==1]"
   ]
  },
  {
   "cell_type": "code",
   "execution_count": 135,
   "metadata": {},
   "outputs": [
    {
     "data": {
      "image/png": "[encoded data removed]",
      "text/plain": [
       "<Figure size 432x288 with 1 Axes>"
      ]
     },
     "metadata": {
      "needs_background": "light"
     },
     "output_type": "display_data"
    }
   ],
   "source": [
    "plt.hist(x = women_age.years_climbing, bins = 2000)\n",
    "plt.title('years climbing (women)')\n",
    "plt.xlim(0, 60)\n",
    "plt.ylabel('Number of Climbers')\n",
    "plt.xlabel('years')\n",
    "plt.savefig('years_climbing_women.png', dpi = 200)"
   ]
  },
  {
   "cell_type": "code",
   "execution_count": 136,
   "metadata": {},
   "outputs": [],
   "source": [
    "men_age = all_climbers_no_null_weight_height[all_climbers_no_null_weight_height.sex ==0]"
   ]
  },
  {
   "cell_type": "code",
   "execution_count": 137,
   "metadata": {},
   "outputs": [
    {
     "data": {
      "image/png": "[encoded data removed]",
      "text/plain": [
       "<Figure size 432x288 with 1 Axes>"
      ]
     },
     "metadata": {
      "needs_background": "light"
     },
     "output_type": "display_data"
    }
   ],
   "source": [
    "plt.hist(x = men_age.years_climbing, bins = 2000)\n",
    "plt.title('years climbing (men)')\n",
    "plt.xlim(0, 60)\n",
    "plt.ylabel('Number of Climbers')\n",
    "plt.xlabel('years')\n",
    "plt.savefig('years_climbing_men.png', dpi = 200)"
   ]
  },
  {
   "cell_type": "code",
   "execution_count": 138,
   "metadata": {},
   "outputs": [],
   "source": [
    "data_age = [all_climbers_no_null_weight_height[\"years_climbing\"], women_age.years_climbing, men_age.years_climbing]\n",
    "headers = [\"Overall\", \"Women\", 'Men']"
   ]
  },
  {
   "cell_type": "code",
   "execution_count": 139,
   "metadata": {},
   "outputs": [],
   "source": [
    "age_overall_women_men = pd.concat(data_age, axis=1, keys=headers)"
   ]
  },
  {
   "cell_type": "code",
   "execution_count": 140,
   "metadata": {},
   "outputs": [
    {
     "data": {
      "image/png": "[encoded data removed]",
      "text/plain": [
       "<Figure size 432x288 with 1 Axes>"
      ]
     },
     "metadata": {
      "needs_background": "light"
     },
     "output_type": "display_data"
    }
   ],
   "source": [
    "age_overall_women_men.boxplot(column=['Overall', 'Women', 'Men'], showfliers=False )\n",
    "plt.title('Boxplots of Years Climbing')\n",
    "plt.ylabel('Years')\n",
    "# plt.legend(['intermediate<v6', 'advanced <v9', 'elite >=v10'],loc='best', fontsize = 'x-small', bbox_to_anchor=(0.5, 0., 0.5, 0.5))\n",
    "# plt.annotate('intermediate<v6\\nadvanced <v9\\nelite >v9', xy=(255, 31), xycoords='axes points',\n",
    "#             size=8, ha='right', va='top',\n",
    "#             bbox=dict(boxstyle='round', fc='w'))\n",
    "# plt.legend(handletextpad=-2.0, handlelength=0)\n",
    "plt.savefig('Boxplots_years_climbing_all.png', dpi = 200);"
   ]
  },
  {
   "cell_type": "code",
   "execution_count": 141,
   "metadata": {},
   "outputs": [
    {
     "data": {
      "text/plain": [
       "2018    319\n",
       "10      159\n",
       "11      152\n",
       "9       150\n",
       "18      132\n",
       "13      128\n",
       "6       123\n",
       "12      116\n",
       "8       109\n",
       "14      107\n",
       "7       105\n",
       "15       97\n",
       "5        90\n",
       "16       86\n",
       "4        77\n",
       "17       76\n",
       "3        59\n",
       "20       54\n",
       "19       51\n",
       "23       34\n",
       "22       31\n",
       "21       30\n",
       "2        29\n",
       "24       21\n",
       "26       13\n",
       "25       10\n",
       "28        8\n",
       "29        5\n",
       "27        4\n",
       "32        3\n",
       "1         3\n",
       "31        3\n",
       "34        2\n",
       "38        1\n",
       "52        1\n",
       "35        1\n",
       "33        1\n",
       "41        1\n",
       "Name: years_climbing, dtype: int64"
      ]
     },
     "execution_count": 141,
     "metadata": {},
     "output_type": "execute_result"
    }
   ],
   "source": [
    "women_age.years_climbing.value_counts()"
   ]
  },
  {
   "cell_type": "code",
   "execution_count": 142,
   "metadata": {},
   "outputs": [
    {
     "data": {
      "text/plain": [
       "2018    2233\n",
       "18      1171\n",
       "10      1098\n",
       "11      1085\n",
       "9        998\n",
       "        ... \n",
       "76         1\n",
       "112        1\n",
       "96         1\n",
       "93         1\n",
       "55         1\n",
       "Name: years_climbing, Length: 63, dtype: int64"
      ]
     },
     "execution_count": 142,
     "metadata": {},
     "output_type": "execute_result"
    }
   ],
   "source": [
    "men_age.years_climbing.value_counts()"
   ]
  },
  {
   "cell_type": "code",
   "execution_count": 143,
   "metadata": {},
   "outputs": [
    {
     "data": {
      "text/plain": [
       "Text(0, 0.5, 'Years')"
      ]
     },
     "execution_count": 143,
     "metadata": {},
     "output_type": "execute_result"
    },
    {
     "data": {
      "image/png": "[encoded data removed]",
      "text/plain": [
       "<Figure size 432x288 with 1 Axes>"
      ]
     },
     "metadata": {
      "needs_background": "light"
     },
     "output_type": "display_data"
    }
   ],
   "source": [
    "age_overall_women_men.boxplot(column=['Overall', 'Women', 'Men'], showfliers=False )\n",
    "plt.title('Boxplots of Years Climbing')\n",
    "plt.ylabel('Years')"
   ]
  },
  {
   "cell_type": "code",
   "execution_count": null,
   "metadata": {},
   "outputs": [],
   "source": []
  },
  {
   "cell_type": "code",
   "execution_count": null,
   "metadata": {},
   "outputs": [],
   "source": []
  }
 ],
 "metadata": {
  "kernelspec": {
   "display_name": "Python 3",
   "language": "python",
   "name": "python3"
  },
  "language_info": {
   "codemirror_mode": {
    "name": "ipython",
    "version": 3
   },
   "file_extension": ".py",
   "mimetype": "text/x-python",
   "name": "python",
   "nbconvert_exporter": "python",
   "pygments_lexer": "ipython3",
   "version": "3.7.9"
  }
 },
 "nbformat": 4,
 "nbformat_minor": 4
}
