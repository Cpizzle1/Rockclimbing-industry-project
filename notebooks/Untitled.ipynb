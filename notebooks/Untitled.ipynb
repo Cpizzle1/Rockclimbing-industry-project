{
 "cells": [
  {
   "cell_type": "code",
   "execution_count": 1,
   "metadata": {},
   "outputs": [],
   "source": [
    "import numpy as np\n",
    "import pandas as pd\n",
    "import matplotlib.pyplot as plt\n",
    "import seaborn as sns\n",
    "import sqlite3\n",
    "\n",
    "import datetime\n",
    "\n",
    "from wordcloud import WordCloud\n",
    "from wordcloud import STOPWORDS\n",
    "\n",
    "import math\n",
    "import numpy as np"
   ]
  },
  {
   "cell_type": "code",
   "execution_count": 2,
   "metadata": {},
   "outputs": [],
   "source": [
    "# ascents_df.to_csv('/Users/cp/Documents/dsi/8a_kaggle/boulders_full.csv', index= False)\n",
    "col_list = ['userAvatar', 'userName', 'userSlug', 'date', 'difficulty', 'isHard', \n",
    "       'isSoft', 'type', 'comment', 'traditional', 'project', 'rating', \n",
    "       'userPrivate', 'zlagGradeIndex', 'zlaggableName', 'zlaggableSlug', \n",
    "       'cragSlug', 'cragName', 'countrySlug', 'countryName', 'areaSlug', \n",
    "       'areaName', 'sectorSlug', 'sectorName', 'category', 'recommended', \n",
    "       'firstAscent', 'secondGo', 'isBoltedByMe', 'isOverhang', 'isVertical', \n",
    "       'isSlab', 'isRoof', 'isAthletic', 'isEndurance', 'isCrimpy', 'isCruxy', \n",
    "       'isSloper', 'isTechnical', 'isDanger', 'chipped', 'withKneepad', \n",
    "       'badAnchor', 'badBolts', 'highFirstBolt', 'looseRock', \n",
    "       'badClippingPosition'] "
   ]
  },
  {
   "cell_type": "code",
   "execution_count": 3,
   "metadata": {},
   "outputs": [],
   "source": [
    "df_lst = []"
   ]
  },
  {
   "cell_type": "code",
   "execution_count": 4,
   "metadata": {},
   "outputs": [],
   "source": [
    "scraped_df = pd.read_csv('/Volumes/Backup Plus/boulder_csv/routes/Mastan.csv', names = col_list)\n",
    "scraped_df['date'] = pd.to_datetime(scraped_df['date']).dt.tz_localize(None)\n",
    "scraped_df.date = scraped_df.date.dt.round('1d')"
   ]
  },
  {
   "cell_type": "code",
   "execution_count": 5,
   "metadata": {},
   "outputs": [],
   "source": [
    "file_name = scraped_df.zlaggableName.value_counts().index.tolist()[0]"
   ]
  },
  {
   "cell_type": "code",
   "execution_count": 6,
   "metadata": {},
   "outputs": [
    {
     "data": {
      "text/plain": [
       "'Toma Castañazo'"
      ]
     },
     "execution_count": 6,
     "metadata": {},
     "output_type": "execute_result"
    }
   ],
   "source": [
    "file_name"
   ]
  },
  {
   "cell_type": "code",
   "execution_count": 7,
   "metadata": {},
   "outputs": [],
   "source": [
    "query1 = f\"SELECT * FROM ascent where name = '{file_name}' and climb_type = 0\""
   ]
  },
  {
   "cell_type": "code",
   "execution_count": 8,
   "metadata": {},
   "outputs": [],
   "source": [
    "data = sqlite3.connect('/Users/cp/Documents/dsi/8a_kaggle/database.sqlite')\n",
    "ascents_df = pd.read_sql_query(query1, data)\n",
    "ascents_df['date'] = pd.to_datetime(ascents_df['date'], unit = 's')\n",
    "ascents_df['rec_date'] = pd.to_datetime(ascents_df['date'], unit = 's')\n",
    "ascents_df.date = ascents_df.date.dt.round('1d')"
   ]
  },
  {
   "cell_type": "code",
   "execution_count": 9,
   "metadata": {},
   "outputs": [],
   "source": [
    "# ascents_df[ascents_df.date.apply(lambda x: x[x != '0'].nunique(), axis=1) > 1]\n",
    "ascents_df = ascents_df.drop_duplicates(subset=\"date\", keep = False)\n",
    "scraped_df = scraped_df.drop_duplicates(subset=\"date\", keep = False)"
   ]
  },
  {
   "cell_type": "code",
   "execution_count": 10,
   "metadata": {},
   "outputs": [
    {
     "data": {
      "text/plain": [
       "2015-07-19    1\n",
       "2013-10-07    1\n",
       "2011-08-27    1\n",
       "2016-08-29    1\n",
       "2001-07-19    1\n",
       "             ..\n",
       "2008-08-10    1\n",
       "2007-08-21    1\n",
       "2005-07-10    1\n",
       "2011-07-28    1\n",
       "2009-07-01    1\n",
       "Name: date, Length: 603, dtype: int64"
      ]
     },
     "execution_count": 10,
     "metadata": {},
     "output_type": "execute_result"
    }
   ],
   "source": [
    "ascents_df.date.value_counts()"
   ]
  },
  {
   "cell_type": "code",
   "execution_count": 11,
   "metadata": {},
   "outputs": [],
   "source": [
    "new_df = pd.merge(ascents_df, scraped_df, how = 'inner', left_on = 'date', right_on = 'date')"
   ]
  },
  {
   "cell_type": "code",
   "execution_count": 12,
   "metadata": {},
   "outputs": [
    {
     "data": {
      "text/plain": [
       "(569, 74)"
      ]
     },
     "execution_count": 12,
     "metadata": {},
     "output_type": "execute_result"
    }
   ],
   "source": [
    "new_df.shape"
   ]
  },
  {
   "cell_type": "code",
   "execution_count": 13,
   "metadata": {},
   "outputs": [],
   "source": [
    "df_lst.append(new_df)"
   ]
  },
  {
   "cell_type": "code",
   "execution_count": 14,
   "metadata": {},
   "outputs": [],
   "source": [
    "compare_df = new_df[['user_id', 'userAvatar', 'userName']]"
   ]
  },
  {
   "cell_type": "code",
   "execution_count": 15,
   "metadata": {},
   "outputs": [
    {
     "data": {
      "text/html": [
       "<div>\n",
       "<style scoped>\n",
       "    .dataframe tbody tr th:only-of-type {\n",
       "        vertical-align: middle;\n",
       "    }\n",
       "\n",
       "    .dataframe tbody tr th {\n",
       "        vertical-align: top;\n",
       "    }\n",
       "\n",
       "    .dataframe thead th {\n",
       "        text-align: right;\n",
       "    }\n",
       "</style>\n",
       "<table border=\"1\" class=\"dataframe\">\n",
       "  <thead>\n",
       "    <tr style=\"text-align: right;\">\n",
       "      <th></th>\n",
       "      <th>user_id</th>\n",
       "      <th>userAvatar</th>\n",
       "      <th>userName</th>\n",
       "    </tr>\n",
       "  </thead>\n",
       "  <tbody>\n",
       "    <tr>\n",
       "      <th>0</th>\n",
       "      <td>361</td>\n",
       "      <td>NaN</td>\n",
       "      <td>User Deactivated</td>\n",
       "    </tr>\n",
       "    <tr>\n",
       "      <th>1</th>\n",
       "      <td>2059</td>\n",
       "      <td>gallery/2059.jpg</td>\n",
       "      <td>Milena Bergna (f)</td>\n",
       "    </tr>\n",
       "    <tr>\n",
       "      <th>2</th>\n",
       "      <td>1167</td>\n",
       "      <td>gallery/1167.JPG</td>\n",
       "      <td>Ernest Seto</td>\n",
       "    </tr>\n",
       "    <tr>\n",
       "      <th>3</th>\n",
       "      <td>344</td>\n",
       "      <td>NaN</td>\n",
       "      <td>Joe Hedge</td>\n",
       "    </tr>\n",
       "    <tr>\n",
       "      <th>4</th>\n",
       "      <td>408</td>\n",
       "      <td>gallery/408.jpg</td>\n",
       "      <td>Andre Neres</td>\n",
       "    </tr>\n",
       "    <tr>\n",
       "      <th>...</th>\n",
       "      <td>...</td>\n",
       "      <td>...</td>\n",
       "      <td>...</td>\n",
       "    </tr>\n",
       "    <tr>\n",
       "      <th>95</th>\n",
       "      <td>16690</td>\n",
       "      <td>p/gallery/efpthzej.jpg</td>\n",
       "      <td>Belen Manresa</td>\n",
       "    </tr>\n",
       "    <tr>\n",
       "      <th>96</th>\n",
       "      <td>14705</td>\n",
       "      <td>gallery/14705.jpg</td>\n",
       "      <td>Mandi Finger</td>\n",
       "    </tr>\n",
       "    <tr>\n",
       "      <th>97</th>\n",
       "      <td>12170</td>\n",
       "      <td>gallery/12170.jpg</td>\n",
       "      <td>Grigory Sv</td>\n",
       "    </tr>\n",
       "    <tr>\n",
       "      <th>98</th>\n",
       "      <td>15804</td>\n",
       "      <td>NaN</td>\n",
       "      <td>agus (sonris)</td>\n",
       "    </tr>\n",
       "    <tr>\n",
       "      <th>99</th>\n",
       "      <td>17200</td>\n",
       "      <td>gallery/17200.jpg</td>\n",
       "      <td>Caroline Minvielle</td>\n",
       "    </tr>\n",
       "  </tbody>\n",
       "</table>\n",
       "<p>100 rows × 3 columns</p>\n",
       "</div>"
      ],
      "text/plain": [
       "    user_id              userAvatar            userName\n",
       "0       361                     NaN    User Deactivated\n",
       "1      2059        gallery/2059.jpg   Milena Bergna (f)\n",
       "2      1167        gallery/1167.JPG         Ernest Seto\n",
       "3       344                     NaN           Joe Hedge\n",
       "4       408         gallery/408.jpg         Andre Neres\n",
       "..      ...                     ...                 ...\n",
       "95    16690  p/gallery/efpthzej.jpg       Belen Manresa\n",
       "96    14705       gallery/14705.jpg        Mandi Finger\n",
       "97    12170       gallery/12170.jpg          Grigory Sv\n",
       "98    15804                     NaN       agus (sonris)\n",
       "99    17200       gallery/17200.jpg  Caroline Minvielle\n",
       "\n",
       "[100 rows x 3 columns]"
      ]
     },
     "execution_count": 15,
     "metadata": {},
     "output_type": "execute_result"
    }
   ],
   "source": [
    "compare_df.head(100)"
   ]
  },
  {
   "cell_type": "code",
   "execution_count": 16,
   "metadata": {},
   "outputs": [
    {
     "data": {
      "text/plain": [
       "(569, 3)"
      ]
     },
     "execution_count": 16,
     "metadata": {},
     "output_type": "execute_result"
    }
   ],
   "source": [
    "compare_df.shape"
   ]
  },
  {
   "cell_type": "code",
   "execution_count": null,
   "metadata": {},
   "outputs": [],
   "source": []
  }
 ],
 "metadata": {
  "kernelspec": {
   "display_name": "Python 3",
   "language": "python",
   "name": "python3"
  },
  "language_info": {
   "codemirror_mode": {
    "name": "ipython",
    "version": 3
   },
   "file_extension": ".py",
   "mimetype": "text/x-python",
   "name": "python",
   "nbconvert_exporter": "python",
   "pygments_lexer": "ipython3",
   "version": "3.7.9"
  }
 },
 "nbformat": 4,
 "nbformat_minor": 4
}
