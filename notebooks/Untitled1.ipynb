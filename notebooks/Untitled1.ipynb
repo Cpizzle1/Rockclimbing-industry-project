{
 "cells": [
  {
   "cell_type": "code",
   "execution_count": 1,
   "metadata": {},
   "outputs": [],
   "source": [
    "import numpy as np\n",
    "import pandas as pd\n",
    "import matplotlib.pyplot as plt\n",
    "import seaborn as sns\n",
    "import sqlite3\n",
    "\n",
    "import datetime\n",
    "\n",
    "from wordcloud import WordCloud\n",
    "from wordcloud import STOPWORDS\n",
    "\n",
    "import math\n",
    "import numpy as np"
   ]
  },
  {
   "cell_type": "code",
   "execution_count": 2,
   "metadata": {},
   "outputs": [],
   "source": [
    "data = sqlite3.connect('/Users/cp/Documents/dsi/8a_kaggle/database.sqlite')\n"
   ]
  },
  {
   "cell_type": "code",
   "execution_count": 32,
   "metadata": {},
   "outputs": [],
   "source": [
    "df_save = pd.read_sql_query(\"SELECT name, user_id, rating, date FROM ascent \", data)\n"
   ]
  },
  {
   "cell_type": "code",
   "execution_count": 51,
   "metadata": {},
   "outputs": [
    {
     "data": {
      "text/html": [
       "<div>\n",
       "<style scoped>\n",
       "    .dataframe tbody tr th:only-of-type {\n",
       "        vertical-align: middle;\n",
       "    }\n",
       "\n",
       "    .dataframe tbody tr th {\n",
       "        vertical-align: top;\n",
       "    }\n",
       "\n",
       "    .dataframe thead th {\n",
       "        text-align: right;\n",
       "    }\n",
       "</style>\n",
       "<table border=\"1\" class=\"dataframe\">\n",
       "  <thead>\n",
       "    <tr style=\"text-align: right;\">\n",
       "      <th></th>\n",
       "      <th>name</th>\n",
       "      <th>user_id</th>\n",
       "      <th>rating</th>\n",
       "      <th>date</th>\n",
       "    </tr>\n",
       "  </thead>\n",
       "  <tbody>\n",
       "    <tr>\n",
       "      <th>0</th>\n",
       "      <td>The King And I</td>\n",
       "      <td>1</td>\n",
       "      <td>0</td>\n",
       "      <td>918342000</td>\n",
       "    </tr>\n",
       "    <tr>\n",
       "      <th>1</th>\n",
       "      <td>vet ej</td>\n",
       "      <td>1</td>\n",
       "      <td>0</td>\n",
       "      <td>925509600</td>\n",
       "    </tr>\n",
       "    <tr>\n",
       "      <th>2</th>\n",
       "      <td>Mr Big</td>\n",
       "      <td>1</td>\n",
       "      <td>0</td>\n",
       "      <td>933026400</td>\n",
       "    </tr>\n",
       "    <tr>\n",
       "      <th>3</th>\n",
       "      <td>Tak ska du ha</td>\n",
       "      <td>1</td>\n",
       "      <td>0</td>\n",
       "      <td>933026400</td>\n",
       "    </tr>\n",
       "    <tr>\n",
       "      <th>4</th>\n",
       "      <td>Korpen flyger</td>\n",
       "      <td>1</td>\n",
       "      <td>0</td>\n",
       "      <td>933458400</td>\n",
       "    </tr>\n",
       "  </tbody>\n",
       "</table>\n",
       "</div>"
      ],
      "text/plain": [
       "             name  user_id  rating       date\n",
       "0  The King And I        1       0  918342000\n",
       "1          vet ej        1       0  925509600\n",
       "2          Mr Big        1       0  933026400\n",
       "3   Tak ska du ha        1       0  933026400\n",
       "4   Korpen flyger        1       0  933458400"
      ]
     },
     "execution_count": 51,
     "metadata": {},
     "output_type": "execute_result"
    }
   ],
   "source": [
    "df_save.head()"
   ]
  },
  {
   "cell_type": "code",
   "execution_count": 36,
   "metadata": {},
   "outputs": [],
   "source": [
    "df_dict = {}"
   ]
  },
  {
   "cell_type": "code",
   "execution_count": null,
   "metadata": {},
   "outputs": [],
   "source": []
  },
  {
   "cell_type": "code",
   "execution_count": 61,
   "metadata": {},
   "outputs": [],
   "source": [
    "# df_value_counts = df_save.value_counts().rename_axis('name').reset_index(name='counts')\n",
    "df_value_counts = df_save.name.value_counts()"
   ]
  },
  {
   "cell_type": "code",
   "execution_count": 63,
   "metadata": {},
   "outputs": [
    {
     "data": {
      "text/plain": [
       "pandas.core.series.Series"
      ]
     },
     "execution_count": 63,
     "metadata": {},
     "output_type": "execute_result"
    }
   ],
   "source": [
    "df_value_counts.head()\n",
    "type(df_value_counts.head())"
   ]
  },
  {
   "cell_type": "code",
   "execution_count": 54,
   "metadata": {},
   "outputs": [],
   "source": [
    "# df_value_counts['index_colum'] = range(1, len(df) + 1)\n",
    "def value_counts_df(df, col):\n",
    "    \"\"\"\n",
    "    Returns pd.value_counts() as a DataFrame\n",
    "\n",
    "    Parameters\n",
    "    ----------\n",
    "    df : Pandas Dataframe\n",
    "        Dataframe on which to run value_counts(), must have column `col`.\n",
    "    col : str\n",
    "        Name of column in `df` for which to generate counts\n",
    "\n",
    "    Returns\n",
    "    -------\n",
    "    Pandas Dataframe\n",
    "        Returned dataframe will have a single column named \"count\" which contains the count_values()\n",
    "        for each unique value of df[col]. The index name of this dataframe is `col`.\n",
    "\n",
    "    Example\n",
    "    -------\n",
    "    >>> value_counts_df(pd.DataFrame({'a':[1, 1, 2, 2, 2]}), 'a')\n",
    "       count\n",
    "    a\n",
    "    2      3\n",
    "    1      2\n",
    "    \"\"\"\n",
    "    df = pd.DataFrame(df[col].value_counts())\n",
    "    df.index.name = col\n",
    "    df.columns = ['count']\n",
    "    return df"
   ]
  },
  {
   "cell_type": "code",
   "execution_count": null,
   "metadata": {},
   "outputs": [],
   "source": []
  },
  {
   "cell_type": "code",
   "execution_count": 55,
   "metadata": {},
   "outputs": [],
   "source": [
    "df_value_counts1 = value_counts_df(df_save, 'name')"
   ]
  },
  {
   "cell_type": "code",
   "execution_count": null,
   "metadata": {},
   "outputs": [],
   "source": []
  },
  {
   "cell_type": "code",
   "execution_count": 68,
   "metadata": {},
   "outputs": [
    {
     "data": {
      "text/plain": [
       "count    479\n",
       "Name: Tortuga, dtype: int64"
      ]
     },
     "execution_count": 68,
     "metadata": {},
     "output_type": "execute_result"
    }
   ],
   "source": [
    "# df_value_counts1.head(50)\n",
    "type(df_value_counts1)\n",
    "df_value_counts1.iloc[159]"
   ]
  },
  {
   "cell_type": "code",
   "execution_count": 69,
   "metadata": {},
   "outputs": [
    {
     "data": {
      "text/html": [
       "<div>\n",
       "<style scoped>\n",
       "    .dataframe tbody tr th:only-of-type {\n",
       "        vertical-align: middle;\n",
       "    }\n",
       "\n",
       "    .dataframe tbody tr th {\n",
       "        vertical-align: top;\n",
       "    }\n",
       "\n",
       "    .dataframe thead th {\n",
       "        text-align: right;\n",
       "    }\n",
       "</style>\n",
       "<table border=\"1\" class=\"dataframe\">\n",
       "  <thead>\n",
       "    <tr style=\"text-align: right;\">\n",
       "      <th></th>\n",
       "      <th>count</th>\n",
       "    </tr>\n",
       "    <tr>\n",
       "      <th>name</th>\n",
       "      <th></th>\n",
       "    </tr>\n",
       "  </thead>\n",
       "  <tbody>\n",
       "    <tr>\n",
       "      <th>?</th>\n",
       "      <td>58996</td>\n",
       "    </tr>\n",
       "    <tr>\n",
       "      <th>???</th>\n",
       "      <td>10290</td>\n",
       "    </tr>\n",
       "    <tr>\n",
       "      <th>??</th>\n",
       "      <td>7918</td>\n",
       "    </tr>\n",
       "    <tr>\n",
       "      <th>Don't know name</th>\n",
       "      <td>4858</td>\n",
       "    </tr>\n",
       "    <tr>\n",
       "      <th>¿?</th>\n",
       "      <td>4789</td>\n",
       "    </tr>\n",
       "  </tbody>\n",
       "</table>\n",
       "</div>"
      ],
      "text/plain": [
       "                 count\n",
       "name                  \n",
       "?                58996\n",
       "???              10290\n",
       "??                7918\n",
       "Don't know name   4858\n",
       "¿?                4789"
      ]
     },
     "execution_count": 69,
     "metadata": {},
     "output_type": "execute_result"
    }
   ],
   "source": [
    "df_value_counts1.head()"
   ]
  },
  {
   "cell_type": "code",
   "execution_count": 70,
   "metadata": {},
   "outputs": [
    {
     "data": {
      "text/html": [
       "<div>\n",
       "<style scoped>\n",
       "    .dataframe tbody tr th:only-of-type {\n",
       "        vertical-align: middle;\n",
       "    }\n",
       "\n",
       "    .dataframe tbody tr th {\n",
       "        vertical-align: top;\n",
       "    }\n",
       "\n",
       "    .dataframe thead th {\n",
       "        text-align: right;\n",
       "    }\n",
       "</style>\n",
       "<table border=\"1\" class=\"dataframe\">\n",
       "  <thead>\n",
       "    <tr style=\"text-align: right;\">\n",
       "      <th></th>\n",
       "      <th>name</th>\n",
       "      <th>count</th>\n",
       "    </tr>\n",
       "  </thead>\n",
       "  <tbody>\n",
       "    <tr>\n",
       "      <th>0</th>\n",
       "      <td>?</td>\n",
       "      <td>58996</td>\n",
       "    </tr>\n",
       "    <tr>\n",
       "      <th>1</th>\n",
       "      <td>???</td>\n",
       "      <td>10290</td>\n",
       "    </tr>\n",
       "    <tr>\n",
       "      <th>2</th>\n",
       "      <td>??</td>\n",
       "      <td>7918</td>\n",
       "    </tr>\n",
       "    <tr>\n",
       "      <th>3</th>\n",
       "      <td>Don't know name</td>\n",
       "      <td>4858</td>\n",
       "    </tr>\n",
       "    <tr>\n",
       "      <th>4</th>\n",
       "      <td>¿?</td>\n",
       "      <td>4789</td>\n",
       "    </tr>\n",
       "    <tr>\n",
       "      <th>...</th>\n",
       "      <td>...</td>\n",
       "      <td>...</td>\n",
       "    </tr>\n",
       "    <tr>\n",
       "      <th>886935</th>\n",
       "      <td>Road Kill Meal</td>\n",
       "      <td>1</td>\n",
       "    </tr>\n",
       "    <tr>\n",
       "      <th>886936</th>\n",
       "      <td>Compositions des forces</td>\n",
       "      <td>1</td>\n",
       "    </tr>\n",
       "    <tr>\n",
       "      <th>886937</th>\n",
       "      <td>Venha a Nós o Nosso Reino</td>\n",
       "      <td>1</td>\n",
       "    </tr>\n",
       "    <tr>\n",
       "      <th>886938</th>\n",
       "      <td>Max Scene Arete</td>\n",
       "      <td>1</td>\n",
       "    </tr>\n",
       "    <tr>\n",
       "      <th>886939</th>\n",
       "      <td>Cedar Variation</td>\n",
       "      <td>1</td>\n",
       "    </tr>\n",
       "  </tbody>\n",
       "</table>\n",
       "<p>886940 rows × 2 columns</p>\n",
       "</div>"
      ],
      "text/plain": [
       "                             name  count\n",
       "0                               ?  58996\n",
       "1                             ???  10290\n",
       "2                              ??   7918\n",
       "3                 Don't know name   4858\n",
       "4                              ¿?   4789\n",
       "...                           ...    ...\n",
       "886935             Road Kill Meal      1\n",
       "886936    Compositions des forces      1\n",
       "886937  Venha a Nós o Nosso Reino      1\n",
       "886938            Max Scene Arete      1\n",
       "886939            Cedar Variation      1\n",
       "\n",
       "[886940 rows x 2 columns]"
      ]
     },
     "execution_count": 70,
     "metadata": {},
     "output_type": "execute_result"
    }
   ],
   "source": [
    "df_value_counts1.reset_index()"
   ]
  },
  {
   "cell_type": "code",
   "execution_count": 47,
   "metadata": {},
   "outputs": [
    {
     "data": {
      "text/plain": [
       "pandas.core.series.Series"
      ]
     },
     "execution_count": 47,
     "metadata": {},
     "output_type": "execute_result"
    }
   ],
   "source": [
    "type(df_value_counts)"
   ]
  },
  {
   "cell_type": "code",
   "execution_count": null,
   "metadata": {},
   "outputs": [],
   "source": []
  },
  {
   "cell_type": "code",
   "execution_count": 33,
   "metadata": {},
   "outputs": [
    {
     "name": "stdout",
     "output_type": "stream",
     "text": [
      "<class 'pandas.core.frame.DataFrame'>\n",
      "RangeIndex: 4111877 entries, 0 to 4111876\n",
      "Data columns (total 4 columns):\n",
      " #   Column   Dtype \n",
      "---  ------   ----- \n",
      " 0   name     object\n",
      " 1   user_id  int64 \n",
      " 2   rating   int64 \n",
      " 3   date     int64 \n",
      "dtypes: int64(3), object(1)\n",
      "memory usage: 125.5+ MB\n"
     ]
    }
   ],
   "source": [
    "df_save.info()"
   ]
  },
  {
   "cell_type": "code",
   "execution_count": 34,
   "metadata": {},
   "outputs": [],
   "source": [
    "df_2= pd.read_csv('~/Documents/dsi/8a_kaggle/dev_imac2/ascents_spark.csv')"
   ]
  },
  {
   "cell_type": "code",
   "execution_count": 35,
   "metadata": {},
   "outputs": [
    {
     "name": "stdout",
     "output_type": "stream",
     "text": [
      "<class 'pandas.core.frame.DataFrame'>\n",
      "RangeIndex: 4111877 entries, 0 to 4111876\n",
      "Data columns (total 5 columns):\n",
      " #   Column      Dtype \n",
      "---  ------      ----- \n",
      " 0   Unnamed: 0  int64 \n",
      " 1   name        object\n",
      " 2   user_id     int64 \n",
      " 3   rating      int64 \n",
      " 4   date        int64 \n",
      "dtypes: int64(4), object(1)\n",
      "memory usage: 156.9+ MB\n"
     ]
    }
   ],
   "source": [
    "df_2.info()"
   ]
  },
  {
   "cell_type": "code",
   "execution_count": null,
   "metadata": {},
   "outputs": [],
   "source": [
    "df_save.to_csv('~/Documents/dsi/8a_kaggle/dev_imac2/ascents_spark.csv')"
   ]
  },
  {
   "cell_type": "code",
   "execution_count": 21,
   "metadata": {},
   "outputs": [],
   "source": [
    "df = pd.read_sql_query(\"SELECT id, user_id, rating, date FROM ascent \", data)"
   ]
  },
  {
   "cell_type": "code",
   "execution_count": 6,
   "metadata": {},
   "outputs": [],
   "source": [
    "global_mean = pd.read_sql_query(\"SELECT AVG(rating) FROM ascent \", data)"
   ]
  },
  {
   "cell_type": "code",
   "execution_count": 7,
   "metadata": {},
   "outputs": [
    {
     "data": {
      "text/html": [
       "<div>\n",
       "<style scoped>\n",
       "    .dataframe tbody tr th:only-of-type {\n",
       "        vertical-align: middle;\n",
       "    }\n",
       "\n",
       "    .dataframe tbody tr th {\n",
       "        vertical-align: top;\n",
       "    }\n",
       "\n",
       "    .dataframe thead th {\n",
       "        text-align: right;\n",
       "    }\n",
       "</style>\n",
       "<table border=\"1\" class=\"dataframe\">\n",
       "  <thead>\n",
       "    <tr style=\"text-align: right;\">\n",
       "      <th></th>\n",
       "      <th>AVG(rating)</th>\n",
       "    </tr>\n",
       "  </thead>\n",
       "  <tbody>\n",
       "    <tr>\n",
       "      <th>0</th>\n",
       "      <td>1.174658</td>\n",
       "    </tr>\n",
       "  </tbody>\n",
       "</table>\n",
       "</div>"
      ],
      "text/plain": [
       "   AVG(rating)\n",
       "0     1.174658"
      ]
     },
     "execution_count": 7,
     "metadata": {},
     "output_type": "execute_result"
    }
   ],
   "source": [
    "global_mean.head()"
   ]
  },
  {
   "cell_type": "code",
   "execution_count": 8,
   "metadata": {},
   "outputs": [],
   "source": [
    "user_result = pd.read_sql_query(\"SELECT user_id, AVG(rating) FROM ascent group by user_id order by user_id \", data)"
   ]
  },
  {
   "cell_type": "code",
   "execution_count": 10,
   "metadata": {},
   "outputs": [
    {
     "data": {
      "text/html": [
       "<div>\n",
       "<style scoped>\n",
       "    .dataframe tbody tr th:only-of-type {\n",
       "        vertical-align: middle;\n",
       "    }\n",
       "\n",
       "    .dataframe tbody tr th {\n",
       "        vertical-align: top;\n",
       "    }\n",
       "\n",
       "    .dataframe thead th {\n",
       "        text-align: right;\n",
       "    }\n",
       "</style>\n",
       "<table border=\"1\" class=\"dataframe\">\n",
       "  <thead>\n",
       "    <tr style=\"text-align: right;\">\n",
       "      <th></th>\n",
       "      <th>user_id</th>\n",
       "      <th>AVG(rating)</th>\n",
       "    </tr>\n",
       "  </thead>\n",
       "  <tbody>\n",
       "    <tr>\n",
       "      <th>0</th>\n",
       "      <td>1</td>\n",
       "      <td>0.742857</td>\n",
       "    </tr>\n",
       "    <tr>\n",
       "      <th>1</th>\n",
       "      <td>2</td>\n",
       "      <td>1.000000</td>\n",
       "    </tr>\n",
       "    <tr>\n",
       "      <th>2</th>\n",
       "      <td>3</td>\n",
       "      <td>0.327869</td>\n",
       "    </tr>\n",
       "    <tr>\n",
       "      <th>3</th>\n",
       "      <td>4</td>\n",
       "      <td>0.683333</td>\n",
       "    </tr>\n",
       "    <tr>\n",
       "      <th>4</th>\n",
       "      <td>5</td>\n",
       "      <td>1.280206</td>\n",
       "    </tr>\n",
       "    <tr>\n",
       "      <th>5</th>\n",
       "      <td>6</td>\n",
       "      <td>1.161290</td>\n",
       "    </tr>\n",
       "    <tr>\n",
       "      <th>6</th>\n",
       "      <td>10</td>\n",
       "      <td>1.165527</td>\n",
       "    </tr>\n",
       "    <tr>\n",
       "      <th>7</th>\n",
       "      <td>11</td>\n",
       "      <td>0.007194</td>\n",
       "    </tr>\n",
       "    <tr>\n",
       "      <th>8</th>\n",
       "      <td>12</td>\n",
       "      <td>0.282051</td>\n",
       "    </tr>\n",
       "    <tr>\n",
       "      <th>9</th>\n",
       "      <td>13</td>\n",
       "      <td>0.000000</td>\n",
       "    </tr>\n",
       "    <tr>\n",
       "      <th>10</th>\n",
       "      <td>14</td>\n",
       "      <td>0.000000</td>\n",
       "    </tr>\n",
       "    <tr>\n",
       "      <th>11</th>\n",
       "      <td>15</td>\n",
       "      <td>2.290123</td>\n",
       "    </tr>\n",
       "    <tr>\n",
       "      <th>12</th>\n",
       "      <td>16</td>\n",
       "      <td>1.889535</td>\n",
       "    </tr>\n",
       "    <tr>\n",
       "      <th>13</th>\n",
       "      <td>17</td>\n",
       "      <td>0.600000</td>\n",
       "    </tr>\n",
       "    <tr>\n",
       "      <th>14</th>\n",
       "      <td>18</td>\n",
       "      <td>1.642276</td>\n",
       "    </tr>\n",
       "    <tr>\n",
       "      <th>15</th>\n",
       "      <td>19</td>\n",
       "      <td>0.539683</td>\n",
       "    </tr>\n",
       "    <tr>\n",
       "      <th>16</th>\n",
       "      <td>24</td>\n",
       "      <td>2.000000</td>\n",
       "    </tr>\n",
       "    <tr>\n",
       "      <th>17</th>\n",
       "      <td>25</td>\n",
       "      <td>2.000000</td>\n",
       "    </tr>\n",
       "    <tr>\n",
       "      <th>18</th>\n",
       "      <td>26</td>\n",
       "      <td>1.666667</td>\n",
       "    </tr>\n",
       "    <tr>\n",
       "      <th>19</th>\n",
       "      <td>27</td>\n",
       "      <td>2.375000</td>\n",
       "    </tr>\n",
       "  </tbody>\n",
       "</table>\n",
       "</div>"
      ],
      "text/plain": [
       "    user_id  AVG(rating)\n",
       "0         1     0.742857\n",
       "1         2     1.000000\n",
       "2         3     0.327869\n",
       "3         4     0.683333\n",
       "4         5     1.280206\n",
       "5         6     1.161290\n",
       "6        10     1.165527\n",
       "7        11     0.007194\n",
       "8        12     0.282051\n",
       "9        13     0.000000\n",
       "10       14     0.000000\n",
       "11       15     2.290123\n",
       "12       16     1.889535\n",
       "13       17     0.600000\n",
       "14       18     1.642276\n",
       "15       19     0.539683\n",
       "16       24     2.000000\n",
       "17       25     2.000000\n",
       "18       26     1.666667\n",
       "19       27     2.375000"
      ]
     },
     "execution_count": 10,
     "metadata": {},
     "output_type": "execute_result"
    }
   ],
   "source": [
    "user_result.head(20)"
   ]
  },
  {
   "cell_type": "code",
   "execution_count": 12,
   "metadata": {},
   "outputs": [
    {
     "data": {
      "text/plain": [
       "user_id        4.000000\n",
       "AVG(rating)    0.683333\n",
       "Name: 3, dtype: float64"
      ]
     },
     "execution_count": 12,
     "metadata": {},
     "output_type": "execute_result"
    }
   ],
   "source": [
    "user_result.iloc[3]"
   ]
  },
  {
   "cell_type": "code",
   "execution_count": 15,
   "metadata": {},
   "outputs": [],
   "source": [
    "route_result = pd.read_sql_query(\"SELECT name, AVG(rating) FROM ascent group by name order by name \", data)"
   ]
  },
  {
   "cell_type": "code",
   "execution_count": 16,
   "metadata": {},
   "outputs": [
    {
     "data": {
      "text/html": [
       "<div>\n",
       "<style scoped>\n",
       "    .dataframe tbody tr th:only-of-type {\n",
       "        vertical-align: middle;\n",
       "    }\n",
       "\n",
       "    .dataframe tbody tr th {\n",
       "        vertical-align: top;\n",
       "    }\n",
       "\n",
       "    .dataframe thead th {\n",
       "        text-align: right;\n",
       "    }\n",
       "</style>\n",
       "<table border=\"1\" class=\"dataframe\">\n",
       "  <thead>\n",
       "    <tr style=\"text-align: right;\">\n",
       "      <th></th>\n",
       "      <th>name</th>\n",
       "      <th>AVG(rating)</th>\n",
       "    </tr>\n",
       "  </thead>\n",
       "  <tbody>\n",
       "    <tr>\n",
       "      <th>0</th>\n",
       "      <td></td>\n",
       "      <td>0.899054</td>\n",
       "    </tr>\n",
       "    <tr>\n",
       "      <th>1</th>\n",
       "      <td>\\t Massacre À La Tronconneuse</td>\n",
       "      <td>0.000000</td>\n",
       "    </tr>\n",
       "    <tr>\n",
       "      <th>2</th>\n",
       "      <td>\\tDinosaure</td>\n",
       "      <td>1.000000</td>\n",
       "    </tr>\n",
       "    <tr>\n",
       "      <th>3</th>\n",
       "      <td>\\tEarth to Stella</td>\n",
       "      <td>1.000000</td>\n",
       "    </tr>\n",
       "    <tr>\n",
       "      <th>4</th>\n",
       "      <td>\\tExpress sumarqu</td>\n",
       "      <td>3.000000</td>\n",
       "    </tr>\n",
       "    <tr>\n",
       "      <th>5</th>\n",
       "      <td>\\tIndigo Galliace</td>\n",
       "      <td>3.000000</td>\n",
       "    </tr>\n",
       "    <tr>\n",
       "      <th>6</th>\n",
       "      <td>\\tLa farse tranqu</td>\n",
       "      <td>2.000000</td>\n",
       "    </tr>\n",
       "    <tr>\n",
       "      <th>7</th>\n",
       "      <td>\\tMove Over Bruss</td>\n",
       "      <td>0.000000</td>\n",
       "    </tr>\n",
       "    <tr>\n",
       "      <th>8</th>\n",
       "      <td>\\tProstowanie wariant</td>\n",
       "      <td>1.000000</td>\n",
       "    </tr>\n",
       "    <tr>\n",
       "      <th>9</th>\n",
       "      <td>\\tSlip Bouse</td>\n",
       "      <td>2.000000</td>\n",
       "    </tr>\n",
       "    <tr>\n",
       "      <th>10</th>\n",
       "      <td>\\tSpit Bull</td>\n",
       "      <td>2.000000</td>\n",
       "    </tr>\n",
       "    <tr>\n",
       "      <th>11</th>\n",
       "      <td>\\tgagae de ma par</td>\n",
       "      <td>3.000000</td>\n",
       "    </tr>\n",
       "    <tr>\n",
       "      <th>12</th>\n",
       "      <td>\\tpeur aux tafiol</td>\n",
       "      <td>3.000000</td>\n",
       "    </tr>\n",
       "    <tr>\n",
       "      <th>13</th>\n",
       "      <td>\\tpriez pour nous</td>\n",
       "      <td>3.000000</td>\n",
       "    </tr>\n",
       "    <tr>\n",
       "      <th>14</th>\n",
       "      <td>....</td>\n",
       "      <td>0.000000</td>\n",
       "    </tr>\n",
       "    <tr>\n",
       "      <th>15</th>\n",
       "      <td>\\t Aresta dinamitada</td>\n",
       "      <td>3.000000</td>\n",
       "    </tr>\n",
       "    <tr>\n",
       "      <th>16</th>\n",
       "      <td>\\t Io sto con gli ip</td>\n",
       "      <td>0.000000</td>\n",
       "    </tr>\n",
       "    <tr>\n",
       "      <th>17</th>\n",
       "      <td>\\t Le P'tit Toit / Le Tourniquet</td>\n",
       "      <td>3.000000</td>\n",
       "    </tr>\n",
       "    <tr>\n",
       "      <th>18</th>\n",
       "      <td>\\t Unendliche Geschichte 1</td>\n",
       "      <td>3.000000</td>\n",
       "    </tr>\n",
       "    <tr>\n",
       "      <th>19</th>\n",
       "      <td>\\tAire de Repos</td>\n",
       "      <td>3.000000</td>\n",
       "    </tr>\n",
       "  </tbody>\n",
       "</table>\n",
       "</div>"
      ],
      "text/plain": [
       "                                 name  AVG(rating)\n",
       "0                                         0.899054\n",
       "1       \\t Massacre À La Tronconneuse     0.000000\n",
       "2                         \\tDinosaure     1.000000\n",
       "3                   \\tEarth to Stella     1.000000\n",
       "4                   \\tExpress sumarqu     3.000000\n",
       "5                   \\tIndigo Galliace     3.000000\n",
       "6                   \\tLa farse tranqu     2.000000\n",
       "7                   \\tMove Over Bruss     0.000000\n",
       "8               \\tProstowanie wariant     1.000000\n",
       "9                        \\tSlip Bouse     2.000000\n",
       "10                        \\tSpit Bull     2.000000\n",
       "11                  \\tgagae de ma par     3.000000\n",
       "12                  \\tpeur aux tafiol     3.000000\n",
       "13                  \\tpriez pour nous     3.000000\n",
       "14                             \n",
       "\n",
       "....     0.000000\n",
       "15               \\t Aresta dinamitada     3.000000\n",
       "16               \\t Io sto con gli ip     0.000000\n",
       "17   \\t Le P'tit Toit / Le Tourniquet     3.000000\n",
       "18         \\t Unendliche Geschichte 1     3.000000\n",
       "19                    \\tAire de Repos     3.000000"
      ]
     },
     "execution_count": 16,
     "metadata": {},
     "output_type": "execute_result"
    }
   ],
   "source": [
    "route_result.head(20)"
   ]
  },
  {
   "cell_type": "code",
   "execution_count": 19,
   "metadata": {},
   "outputs": [
    {
     "data": {
      "text/plain": [
       "name            egg boulder\n",
       "AVG(rating)               0\n",
       "Name: 260, dtype: object"
      ]
     },
     "execution_count": 19,
     "metadata": {},
     "output_type": "execute_result"
    }
   ],
   "source": [
    "route_result.loc[260]"
   ]
  },
  {
   "cell_type": "code",
   "execution_count": 23,
   "metadata": {},
   "outputs": [
    {
     "data": {
      "text/html": [
       "<div>\n",
       "<style scoped>\n",
       "    .dataframe tbody tr th:only-of-type {\n",
       "        vertical-align: middle;\n",
       "    }\n",
       "\n",
       "    .dataframe tbody tr th {\n",
       "        vertical-align: top;\n",
       "    }\n",
       "\n",
       "    .dataframe thead th {\n",
       "        text-align: right;\n",
       "    }\n",
       "</style>\n",
       "<table border=\"1\" class=\"dataframe\">\n",
       "  <thead>\n",
       "    <tr style=\"text-align: right;\">\n",
       "      <th></th>\n",
       "      <th>id</th>\n",
       "      <th>user_id</th>\n",
       "      <th>rating</th>\n",
       "      <th>date</th>\n",
       "    </tr>\n",
       "  </thead>\n",
       "  <tbody>\n",
       "    <tr>\n",
       "      <th>4111857</th>\n",
       "      <td>4910302</td>\n",
       "      <td>57766</td>\n",
       "      <td>0</td>\n",
       "      <td>1504562400</td>\n",
       "    </tr>\n",
       "    <tr>\n",
       "      <th>4111858</th>\n",
       "      <td>4910310</td>\n",
       "      <td>33313</td>\n",
       "      <td>2</td>\n",
       "      <td>1186956000</td>\n",
       "    </tr>\n",
       "    <tr>\n",
       "      <th>4111859</th>\n",
       "      <td>4910311</td>\n",
       "      <td>33313</td>\n",
       "      <td>3</td>\n",
       "      <td>1187042400</td>\n",
       "    </tr>\n",
       "    <tr>\n",
       "      <th>4111860</th>\n",
       "      <td>4910312</td>\n",
       "      <td>33313</td>\n",
       "      <td>3</td>\n",
       "      <td>1186956000</td>\n",
       "    </tr>\n",
       "    <tr>\n",
       "      <th>4111861</th>\n",
       "      <td>4910317</td>\n",
       "      <td>34923</td>\n",
       "      <td>3</td>\n",
       "      <td>1410904800</td>\n",
       "    </tr>\n",
       "    <tr>\n",
       "      <th>4111862</th>\n",
       "      <td>4910323</td>\n",
       "      <td>53784</td>\n",
       "      <td>0</td>\n",
       "      <td>1504562400</td>\n",
       "    </tr>\n",
       "    <tr>\n",
       "      <th>4111863</th>\n",
       "      <td>4910324</td>\n",
       "      <td>53784</td>\n",
       "      <td>0</td>\n",
       "      <td>1504562400</td>\n",
       "    </tr>\n",
       "    <tr>\n",
       "      <th>4111864</th>\n",
       "      <td>4910325</td>\n",
       "      <td>53784</td>\n",
       "      <td>0</td>\n",
       "      <td>1504562400</td>\n",
       "    </tr>\n",
       "    <tr>\n",
       "      <th>4111865</th>\n",
       "      <td>4910326</td>\n",
       "      <td>63280</td>\n",
       "      <td>0</td>\n",
       "      <td>1505167200</td>\n",
       "    </tr>\n",
       "    <tr>\n",
       "      <th>4111866</th>\n",
       "      <td>4910329</td>\n",
       "      <td>63280</td>\n",
       "      <td>0</td>\n",
       "      <td>1505167200</td>\n",
       "    </tr>\n",
       "    <tr>\n",
       "      <th>4111867</th>\n",
       "      <td>4910330</td>\n",
       "      <td>4464</td>\n",
       "      <td>3</td>\n",
       "      <td>1504994400</td>\n",
       "    </tr>\n",
       "    <tr>\n",
       "      <th>4111868</th>\n",
       "      <td>4910331</td>\n",
       "      <td>4464</td>\n",
       "      <td>2</td>\n",
       "      <td>1504994400</td>\n",
       "    </tr>\n",
       "    <tr>\n",
       "      <th>4111869</th>\n",
       "      <td>4910332</td>\n",
       "      <td>4464</td>\n",
       "      <td>2</td>\n",
       "      <td>1504994400</td>\n",
       "    </tr>\n",
       "    <tr>\n",
       "      <th>4111870</th>\n",
       "      <td>4910339</td>\n",
       "      <td>19775</td>\n",
       "      <td>0</td>\n",
       "      <td>1505167200</td>\n",
       "    </tr>\n",
       "    <tr>\n",
       "      <th>4111871</th>\n",
       "      <td>4910340</td>\n",
       "      <td>19775</td>\n",
       "      <td>0</td>\n",
       "      <td>1505167200</td>\n",
       "    </tr>\n",
       "    <tr>\n",
       "      <th>4111872</th>\n",
       "      <td>4910370</td>\n",
       "      <td>59627</td>\n",
       "      <td>2</td>\n",
       "      <td>1505167200</td>\n",
       "    </tr>\n",
       "    <tr>\n",
       "      <th>4111873</th>\n",
       "      <td>4910371</td>\n",
       "      <td>44075</td>\n",
       "      <td>0</td>\n",
       "      <td>1505080800</td>\n",
       "    </tr>\n",
       "    <tr>\n",
       "      <th>4111874</th>\n",
       "      <td>4910376</td>\n",
       "      <td>19098</td>\n",
       "      <td>0</td>\n",
       "      <td>1504994400</td>\n",
       "    </tr>\n",
       "    <tr>\n",
       "      <th>4111875</th>\n",
       "      <td>4910379</td>\n",
       "      <td>19098</td>\n",
       "      <td>2</td>\n",
       "      <td>1505080800</td>\n",
       "    </tr>\n",
       "    <tr>\n",
       "      <th>4111876</th>\n",
       "      <td>4910381</td>\n",
       "      <td>24751</td>\n",
       "      <td>0</td>\n",
       "      <td>1504994400</td>\n",
       "    </tr>\n",
       "  </tbody>\n",
       "</table>\n",
       "</div>"
      ],
      "text/plain": [
       "              id  user_id  rating        date\n",
       "4111857  4910302    57766       0  1504562400\n",
       "4111858  4910310    33313       2  1186956000\n",
       "4111859  4910311    33313       3  1187042400\n",
       "4111860  4910312    33313       3  1186956000\n",
       "4111861  4910317    34923       3  1410904800\n",
       "4111862  4910323    53784       0  1504562400\n",
       "4111863  4910324    53784       0  1504562400\n",
       "4111864  4910325    53784       0  1504562400\n",
       "4111865  4910326    63280       0  1505167200\n",
       "4111866  4910329    63280       0  1505167200\n",
       "4111867  4910330     4464       3  1504994400\n",
       "4111868  4910331     4464       2  1504994400\n",
       "4111869  4910332     4464       2  1504994400\n",
       "4111870  4910339    19775       0  1505167200\n",
       "4111871  4910340    19775       0  1505167200\n",
       "4111872  4910370    59627       2  1505167200\n",
       "4111873  4910371    44075       0  1505080800\n",
       "4111874  4910376    19098       0  1504994400\n",
       "4111875  4910379    19098       2  1505080800\n",
       "4111876  4910381    24751       0  1504994400"
      ]
     },
     "execution_count": 23,
     "metadata": {},
     "output_type": "execute_result"
    }
   ],
   "source": [
    "df.tail(20)"
   ]
  },
  {
   "cell_type": "code",
   "execution_count": 25,
   "metadata": {},
   "outputs": [
    {
     "ename": "AttributeError",
     "evalue": "'DataFrame' object has no attribute 'randomSplit'",
     "output_type": "error",
     "traceback": [
      "\u001b[0;31m---------------------------------------------------------------------------\u001b[0m",
      "\u001b[0;31mAttributeError\u001b[0m                            Traceback (most recent call last)",
      "\u001b[0;32m<ipython-input-25-78282bb58415>\u001b[0m in \u001b[0;36m<module>\u001b[0;34m\u001b[0m\n\u001b[0;32m----> 1\u001b[0;31m \u001b[0mtraining_df\u001b[0m\u001b[0;34m,\u001b[0m \u001b[0mtest_df\u001b[0m \u001b[0;34m=\u001b[0m \u001b[0mdf\u001b[0m\u001b[0;34m.\u001b[0m\u001b[0mrandomSplit\u001b[0m\u001b[0;34m(\u001b[0m\u001b[0;34m[\u001b[0m\u001b[0;36m0.8\u001b[0m\u001b[0;34m,\u001b[0m \u001b[0;36m0.2\u001b[0m\u001b[0;34m]\u001b[0m\u001b[0;34m)\u001b[0m\u001b[0;34m\u001b[0m\u001b[0;34m\u001b[0m\u001b[0m\n\u001b[0m",
      "\u001b[0;32m~/opt/anaconda3/lib/python3.7/site-packages/pandas/core/generic.py\u001b[0m in \u001b[0;36m__getattr__\u001b[0;34m(self, name)\u001b[0m\n\u001b[1;32m   5137\u001b[0m             \u001b[0;32mif\u001b[0m \u001b[0mself\u001b[0m\u001b[0;34m.\u001b[0m\u001b[0m_info_axis\u001b[0m\u001b[0;34m.\u001b[0m\u001b[0m_can_hold_identifiers_and_holds_name\u001b[0m\u001b[0;34m(\u001b[0m\u001b[0mname\u001b[0m\u001b[0;34m)\u001b[0m\u001b[0;34m:\u001b[0m\u001b[0;34m\u001b[0m\u001b[0;34m\u001b[0m\u001b[0m\n\u001b[1;32m   5138\u001b[0m                 \u001b[0;32mreturn\u001b[0m \u001b[0mself\u001b[0m\u001b[0;34m[\u001b[0m\u001b[0mname\u001b[0m\u001b[0;34m]\u001b[0m\u001b[0;34m\u001b[0m\u001b[0;34m\u001b[0m\u001b[0m\n\u001b[0;32m-> 5139\u001b[0;31m             \u001b[0;32mreturn\u001b[0m \u001b[0mobject\u001b[0m\u001b[0;34m.\u001b[0m\u001b[0m__getattribute__\u001b[0m\u001b[0;34m(\u001b[0m\u001b[0mself\u001b[0m\u001b[0;34m,\u001b[0m \u001b[0mname\u001b[0m\u001b[0;34m)\u001b[0m\u001b[0;34m\u001b[0m\u001b[0;34m\u001b[0m\u001b[0m\n\u001b[0m\u001b[1;32m   5140\u001b[0m \u001b[0;34m\u001b[0m\u001b[0m\n\u001b[1;32m   5141\u001b[0m     \u001b[0;32mdef\u001b[0m \u001b[0m__setattr__\u001b[0m\u001b[0;34m(\u001b[0m\u001b[0mself\u001b[0m\u001b[0;34m,\u001b[0m \u001b[0mname\u001b[0m\u001b[0;34m:\u001b[0m \u001b[0mstr\u001b[0m\u001b[0;34m,\u001b[0m \u001b[0mvalue\u001b[0m\u001b[0;34m)\u001b[0m \u001b[0;34m->\u001b[0m \u001b[0;32mNone\u001b[0m\u001b[0;34m:\u001b[0m\u001b[0;34m\u001b[0m\u001b[0;34m\u001b[0m\u001b[0m\n",
      "\u001b[0;31mAttributeError\u001b[0m: 'DataFrame' object has no attribute 'randomSplit'"
     ]
    }
   ],
   "source": [
    "training_df, test_df = df.randomSplit([0.8, 0.2])\n"
   ]
  },
  {
   "cell_type": "code",
   "execution_count": null,
   "metadata": {},
   "outputs": [],
   "source": []
  }
 ],
 "metadata": {
  "kernelspec": {
   "display_name": "Python 3",
   "language": "python",
   "name": "python3"
  },
  "language_info": {
   "codemirror_mode": {
    "name": "ipython",
    "version": 3
   },
   "file_extension": ".py",
   "mimetype": "text/x-python",
   "name": "python",
   "nbconvert_exporter": "python",
   "pygments_lexer": "ipython3",
   "version": "3.7.9"
  }
 },
 "nbformat": 4,
 "nbformat_minor": 4
}
